{
  "cells": [
    {
      "cell_type": "markdown",
      "metadata": {
        "id": "rMWxokl4SqRp"
      },
      "source": [
        "# Loading & Preprocessing"
      ]
    },
    {
      "cell_type": "code",
      "execution_count": 1,
      "metadata": {
        "id": "WYLMQqTwSqRh"
      },
      "outputs": [],
      "source": [
        "import json\n",
        "import math\n",
        "import os\n",
        "\n",
        "import cv2\n",
        "from PIL import Image\n",
        "import numpy as np\n",
        "from keras import layers\n",
        "from keras.metrics import SparseCategoricalAccuracy, CategoricalAccuracy\n",
        "from keras.applications.resnet import ResNet50\n",
        "from keras.applications.resnet import ResNet152\n",
        "from keras.applications.densenet import DenseNet201\n",
        "from keras.applications.vgg16 import VGG16\n",
        "from keras.applications.vgg19 import VGG19\n",
        "from keras.applications.inception_v3 import InceptionV3\n",
        "from keras.callbacks import Callback, ModelCheckpoint, ReduceLROnPlateau, TensorBoard, EarlyStopping\n",
        "from keras.preprocessing.image import ImageDataGenerator\n",
        "from keras.utils.np_utils import to_categorical\n",
        "from keras.models import Sequential\n",
        "from keras.optimizers import adam_v2\n",
        "import matplotlib.pyplot as plt\n",
        "import pandas as pd\n",
        "from sklearn.model_selection import train_test_split\n",
        "from sklearn.metrics import cohen_kappa_score, accuracy_score, average_precision_score, roc_auc_score, mean_squared_error, f1_score, confusion_matrix\n",
        "import scipy\n",
        "from tqdm import tqdm\n",
        "import tensorflow as tf\n",
        "from keras import backend as K\n",
        "import gc\n",
        "from functools import partial\n",
        "from sklearn import metrics\n",
        "from collections import Counter\n",
        "import json\n",
        "import itertools\n",
        "\n",
        "import os \n",
        "%matplotlib inline"
      ]
    },
    {
      "cell_type": "code",
      "execution_count": 2,
      "metadata": {
        "colab": {
          "base_uri": "https://localhost:8080/"
        },
        "id": "1c1TQHmtHG_p",
        "outputId": "86b7ff64-c0f5-4328-a714-a990a5472570"
      },
      "outputs": [
        {
          "output_type": "stream",
          "name": "stdout",
          "text": [
            "Mounted at /content/drive\n"
          ]
        }
      ],
      "source": [
        "from google.colab import drive\n",
        "drive.mount('/content/drive')"
      ]
    },
    {
      "cell_type": "code",
      "execution_count": 3,
      "metadata": {
        "id": "XyZk9oviHKWZ"
      },
      "outputs": [],
      "source": [
        "os.chdir('/content/drive/MyDrive/WIKM')"
      ]
    },
    {
      "cell_type": "markdown",
      "source": [
        "### Load Bone"
      ],
      "metadata": {
        "id": "jFDo5m4kGbti"
      }
    },
    {
      "cell_type": "code",
      "execution_count": 4,
      "metadata": {
        "id": "pmvRp3DXwHAr"
      },
      "outputs": [],
      "source": [
        "X_train = np.load('X_train_bone.npy')\n",
        "Y_train = np.load('Y_train_bone.npy')"
      ]
    },
    {
      "cell_type": "code",
      "source": [
        "# Shuffle train data\n",
        "s = np.arange(X_train.shape[0])\n",
        "np.random.shuffle(s)\n",
        "X_train= X_train[s]\n",
        "Y_train = Y_train[s]"
      ],
      "metadata": {
        "id": "NZHMuTHVGVa6"
      },
      "execution_count": 5,
      "outputs": []
    },
    {
      "cell_type": "markdown",
      "source": [
        "### Load Lung"
      ],
      "metadata": {
        "id": "jlyFs9KIGdgn"
      }
    },
    {
      "cell_type": "code",
      "source": [
        "#Load arrays RAW\n",
        "\n",
        "X_train_raw = np.load('X_train_raw.npy')\n",
        "Y_train_raw = np.load('Y_train_raw.npy')"
      ],
      "metadata": {
        "id": "Z5wwoGUaJ_xV"
      },
      "execution_count": null,
      "outputs": []
    },
    {
      "cell_type": "code",
      "execution_count": null,
      "metadata": {
        "id": "SaEyyupZRm4Y"
      },
      "outputs": [],
      "source": [
        "#from patches\n",
        "\n",
        "X_train = np.load('X_train_lung.npy')\n",
        "Y_train = np.load('Y_train_lung.npy')\n",
        "X_test = np.load('X_test_lung.npy')\n",
        "Y_test = np.load('Y_test_lung.npy')"
      ]
    },
    {
      "cell_type": "code",
      "source": [
        "# Shuffle train data\n",
        "\n",
        "s = np.arange(X_train.shape[0])\n",
        "np.random.shuffle(s)\n",
        "X_train = X_train[s]\n",
        "Y_train = Y_train[s]"
      ],
      "metadata": {
        "id": "8ZcOCCQAGZYD"
      },
      "execution_count": null,
      "outputs": []
    },
    {
      "cell_type": "code",
      "source": [
        "# Shuffle train data RAW\n",
        "\n",
        "s = np.arange(X_train_raw.shape[0])\n",
        "np.random.shuffle(s)\n",
        "X_train_raw = X_train_raw[s]\n",
        "Y_train_raw = Y_train_raw[s]"
      ],
      "metadata": {
        "id": "yWqQzpR_OD2p"
      },
      "execution_count": null,
      "outputs": []
    },
    {
      "cell_type": "code",
      "source": [
        "# Shuffle test data\n",
        "\n",
        "s = np.arange(X_test.shape[0])\n",
        "np.random.shuffle(s)\n",
        "X_test = X_test[s]\n",
        "Y_test = Y_test[s]"
      ],
      "metadata": {
        "id": "1ocjijWzGaat"
      },
      "execution_count": null,
      "outputs": []
    },
    {
      "cell_type": "markdown",
      "source": [
        "### Train and Evaluation Split"
      ],
      "metadata": {
        "id": "C7LnH785GgeM"
      }
    },
    {
      "cell_type": "code",
      "source": [
        "x_train, x_val, y_train, y_val = train_test_split(\n",
        "    X_train, Y_train, \n",
        "    test_size=0.2, \n",
        "    random_state=11\n",
        ")"
      ],
      "metadata": {
        "id": "TRx2B6zgGg1Y"
      },
      "execution_count": 6,
      "outputs": []
    },
    {
      "cell_type": "code",
      "source": [
        "x_train, x_val, y_train, y_val = train_test_split(\n",
        "    X_train_raw, Y_train_raw, \n",
        "    test_size=0.2, \n",
        "    random_state=11\n",
        ")"
      ],
      "metadata": {
        "id": "b7r25YJSONhS"
      },
      "execution_count": null,
      "outputs": []
    },
    {
      "cell_type": "markdown",
      "metadata": {
        "id": "zeHBKGkOSqSH"
      },
      "source": [
        "# Data Generator"
      ]
    },
    {
      "cell_type": "code",
      "execution_count": 7,
      "metadata": {
        "id": "GzvWwOX5SqSJ"
      },
      "outputs": [],
      "source": [
        "BATCH_SIZE = 20\n",
        "\n",
        "# Using original generator\n",
        "train_generator = ImageDataGenerator(\n",
        "        zoom_range=2,  # set range for random zoom\n",
        "        rotation_range = 90,\n",
        "        horizontal_flip=True,  # randomly flip images\n",
        "        vertical_flip=True,  # randomly flip images\n",
        "    )\n",
        "\n",
        "#using above generator makes ram explode "
      ]
    },
    {
      "cell_type": "code",
      "execution_count": 8,
      "metadata": {
        "id": "PiOb_A16SqSP"
      },
      "outputs": [],
      "source": [
        "optimizer = adam_v2.Adam(learning_rate=1e-4)\n",
        "\n",
        "def build_model(backbone, lr=1e-4):\n",
        "    model = Sequential()\n",
        "    model.add(backbone)\n",
        "    model.add(layers.GlobalAveragePooling2D())\n",
        "    model.add(layers.Dropout(0.5))\n",
        "    model.add(layers.BatchNormalization())\n",
        "    model.add(layers.Dense(3, activation='softmax'))\n",
        "    \n",
        "    \n",
        "    model.compile(\n",
        "        loss='sparse_categorical_crossentropy',\n",
        "        optimizer=optimizer,\n",
        "        metrics=['accuracy']\n",
        "    )\n",
        "    \n",
        "    return model"
      ]
    },
    {
      "cell_type": "markdown",
      "metadata": {
        "id": "84L6ak7avueZ"
      },
      "source": [
        "### ResNet 152"
      ]
    },
    {
      "cell_type": "code",
      "execution_count": null,
      "metadata": {
        "id": "Kz4DtBCxv1W7"
      },
      "outputs": [],
      "source": [
        "K.clear_session()\n",
        "gc.collect()\n",
        "\n",
        "densenet = ResNet152(\n",
        "    weights='imagenet',\n",
        "    include_top=False,\n",
        "    input_shape=(256,256,3)\n",
        ")\n",
        "\n",
        "\n",
        " \n",
        "\n",
        "\n",
        "model = build_model(densenet ,lr = 1e-4)\n",
        "model.summary()"
      ]
    },
    {
      "cell_type": "markdown",
      "metadata": {
        "id": "XDH1gE8cHe4K"
      },
      "source": [
        "### Model: Plain CNN"
      ]
    },
    {
      "cell_type": "code",
      "execution_count": null,
      "metadata": {
        "id": "bp955gpjHenP"
      },
      "outputs": [],
      "source": [
        "from keras.models import Sequential, Model\n",
        "from keras.layers import Dense, Flatten, Input, Conv2D, MaxPooling2D, Dropout, Activation, GlobalAveragePooling2D\n",
        "from keras import regularizers\n",
        "from tensorflow.keras.optimizers import Adam\n",
        "\n",
        "image_size = 224\n",
        "\n",
        "\n",
        "model = Sequential()\n",
        "model.add(Conv2D(16, kernel_size=3, activation='relu', padding='same', input_shape=(224, 224, 3)))\n",
        "model.add(Conv2D(16, kernel_size=3, activation='relu', padding='same'))\n",
        "model.add(Conv2D(16, kernel_size=3, activation='relu', padding='same'))\n",
        "#model.add(BatchNormalization())\n",
        "model.add(MaxPooling2D(pool_size=2))\n",
        "model.add(Conv2D(32, kernel_size=3, activation='relu', padding='same'))\n",
        "model.add(Conv2D(32, kernel_size=3, activation='relu', padding='same'))\n",
        "model.add(Conv2D(32, kernel_size=3, activation='relu', padding='same'))\n",
        "#model.add(BatchNormalization())\n",
        "model.add(MaxPooling2D(pool_size=2))\n",
        "#model.add(Conv2D(64, kernel_size=3, activation='relu', padding='same', kernel_regularizer= tf.keras.regularizers.l2(0.01)))\n",
        "model.add(Conv2D(64, kernel_size=3, activation='relu', padding='same'))\n",
        "model.add(Conv2D(64, kernel_size=3, activation='relu', padding='same'))\n",
        "#model.add(Conv2D(64, kernel_size=3, activation='relu', padding='same'))\n",
        "#model.add(BatchNormalization())\n",
        "model.add(MaxPooling2D(pool_size=2))\n",
        "#model.add(Conv2D(128, kernel_size=3, activation='relu', padding='same', kernel_regularizer= tf.keras.regularizers.l2(0.01)))\n",
        "model.add(Conv2D(128, kernel_size=3, activation='relu', padding='same'))\n",
        "model.add(Conv2D(128, kernel_size=3, activation='relu', padding='same'))\n",
        "#model.add(Conv2D(128, kernel_size=3, activation='relu', padding='same'))\n",
        "model.add(MaxPooling2D(pool_size=2))\n",
        "model.add(Dropout(0.35))\n",
        "model.add(Flatten())\n",
        "#model.add(Dense(256, activation='relu', kernel_regularizer= tf.keras.regularizers.l2(0.01)))\n",
        "model.add(Dense(256, activation='relu'))\n",
        "model.add(Dropout(0.5))\n",
        "#model.add(Dense(128, activation = 'relu'))\n",
        "model.add(layers.BatchNormalization())\n",
        "model.add(Dense(3, activation='softmax'))\n",
        "model.summary()"
      ]
    },
    {
      "cell_type": "code",
      "execution_count": null,
      "metadata": {
        "id": "yWJxxhzwI4mD"
      },
      "outputs": [],
      "source": [
        "model.compile(\n",
        "        loss='sparse_categorical_crossentropy',\n",
        "        optimizer=optimizer,\n",
        "        metrics=['accuracy']\n",
        "    )\n",
        "    "
      ]
    },
    {
      "cell_type": "markdown",
      "metadata": {
        "id": "YV-DcpEdSqSN"
      },
      "source": [
        "# Model: DenseNet201"
      ]
    },
    {
      "cell_type": "code",
      "execution_count": null,
      "metadata": {
        "id": "5yglwhBU2OoM"
      },
      "outputs": [],
      "source": [
        "K.clear_session()\n",
        "gc.collect()\n",
        "\n",
        "densenet = DenseNet201(\n",
        "    weights='imagenet',\n",
        "    include_top=False,\n",
        "    input_shape=(224,224,3)\n",
        ")\n",
        "\n",
        "\n",
        " \n",
        "\n",
        "\n",
        "model = build_model(densenet ,lr = 1e-4)\n",
        "model.summary()"
      ]
    },
    {
      "cell_type": "markdown",
      "source": [
        "### Inception V3"
      ],
      "metadata": {
        "id": "ctvAq_iFb8ma"
      }
    },
    {
      "cell_type": "code",
      "source": [
        "K.clear_session()\n",
        "gc.collect()\n",
        "\n",
        "densenet = InceptionV3(\n",
        "    weights='imagenet',\n",
        "    include_top=False,\n",
        "    input_shape=(224,224,3)\n",
        ")\n",
        "\n",
        "\n",
        " \n",
        "\n",
        "\n",
        "model = build_model(densenet ,lr = 1e-4)\n",
        "model.summary()"
      ],
      "metadata": {
        "colab": {
          "base_uri": "https://localhost:8080/"
        },
        "id": "RYNmOMjhb-Gy",
        "outputId": "7ce2c6e1-802f-48e3-f7be-87117d700a03"
      },
      "execution_count": 12,
      "outputs": [
        {
          "output_type": "stream",
          "name": "stdout",
          "text": [
            "Model: \"sequential\"\n",
            "_________________________________________________________________\n",
            " Layer (type)                Output Shape              Param #   \n",
            "=================================================================\n",
            " inception_v3 (Functional)   (None, 5, 5, 2048)        21802784  \n",
            "                                                                 \n",
            " global_average_pooling2d (G  (None, 2048)             0         \n",
            " lobalAveragePooling2D)                                          \n",
            "                                                                 \n",
            " dropout (Dropout)           (None, 2048)              0         \n",
            "                                                                 \n",
            " batch_normalization_94 (Bat  (None, 2048)             8192      \n",
            " chNormalization)                                                \n",
            "                                                                 \n",
            " dense (Dense)               (None, 3)                 6147      \n",
            "                                                                 \n",
            "=================================================================\n",
            "Total params: 21,817,123\n",
            "Trainable params: 21,778,595\n",
            "Non-trainable params: 38,528\n",
            "_________________________________________________________________\n"
          ]
        }
      ]
    },
    {
      "cell_type": "markdown",
      "source": [
        "###VGG19"
      ],
      "metadata": {
        "id": "6P69S3Kra2hU"
      }
    },
    {
      "cell_type": "code",
      "source": [
        "K.clear_session()\n",
        "gc.collect()\n",
        "\n",
        "densenet = VGG19(\n",
        "    weights='imagenet',\n",
        "    include_top=False,\n",
        "    input_shape=(224,224,3)\n",
        ")\n",
        "\n",
        "\n",
        " \n",
        "\n",
        "\n",
        "model = build_model(densenet ,lr = 1e-4)\n",
        "model.summary()"
      ],
      "metadata": {
        "colab": {
          "base_uri": "https://localhost:8080/"
        },
        "id": "jriWAn8La4uX",
        "outputId": "12379391-40e3-429e-d51d-875e087ab450"
      },
      "execution_count": 9,
      "outputs": [
        {
          "output_type": "stream",
          "name": "stdout",
          "text": [
            "Downloading data from https://storage.googleapis.com/tensorflow/keras-applications/vgg19/vgg19_weights_tf_dim_ordering_tf_kernels_notop.h5\n",
            "80142336/80134624 [==============================] - 1s 0us/step\n",
            "80150528/80134624 [==============================] - 1s 0us/step\n",
            "Model: \"sequential\"\n",
            "_________________________________________________________________\n",
            " Layer (type)                Output Shape              Param #   \n",
            "=================================================================\n",
            " vgg19 (Functional)          (None, 7, 7, 512)         20024384  \n",
            "                                                                 \n",
            " global_average_pooling2d (G  (None, 512)              0         \n",
            " lobalAveragePooling2D)                                          \n",
            "                                                                 \n",
            " dropout (Dropout)           (None, 512)               0         \n",
            "                                                                 \n",
            " batch_normalization (BatchN  (None, 512)              2048      \n",
            " ormalization)                                                   \n",
            "                                                                 \n",
            " dense (Dense)               (None, 3)                 1539      \n",
            "                                                                 \n",
            "=================================================================\n",
            "Total params: 20,027,971\n",
            "Trainable params: 20,026,947\n",
            "Non-trainable params: 1,024\n",
            "_________________________________________________________________\n"
          ]
        }
      ]
    },
    {
      "cell_type": "markdown",
      "metadata": {
        "id": "KfPUdpl02aM6"
      },
      "source": [
        "# VGG16\n"
      ]
    },
    {
      "cell_type": "code",
      "execution_count": null,
      "metadata": {
        "id": "IiNR9yNsSqSZ"
      },
      "outputs": [],
      "source": [
        "K.clear_session()\n",
        "gc.collect()\n",
        "\n",
        "densenet = VGG16(\n",
        "    weights='imagenet',\n",
        "    include_top=False,\n",
        "    input_shape=(224,224,3)\n",
        ")\n",
        "\n",
        "\n",
        " \n",
        "\n",
        "\n",
        "model = build_model(densenet ,lr = 1e-4)\n",
        "model.summary()"
      ]
    },
    {
      "cell_type": "markdown",
      "metadata": {
        "id": "w2M-0LElVA3G"
      },
      "source": [
        "# ResNet50"
      ]
    },
    {
      "cell_type": "code",
      "execution_count": null,
      "metadata": {
        "colab": {
          "base_uri": "https://localhost:8080/"
        },
        "id": "ChHUQnHyVCr4",
        "outputId": "dc9efccc-b176-402d-ff93-7f4db80be180"
      },
      "outputs": [
        {
          "output_type": "stream",
          "name": "stdout",
          "text": [
            "Downloading data from https://storage.googleapis.com/tensorflow/keras-applications/resnet/resnet50_weights_tf_dim_ordering_tf_kernels_notop.h5\n",
            "94773248/94765736 [==============================] - 1s 0us/step\n",
            "94781440/94765736 [==============================] - 1s 0us/step\n",
            "Model: \"sequential\"\n",
            "_________________________________________________________________\n",
            " Layer (type)                Output Shape              Param #   \n",
            "=================================================================\n",
            " resnet50 (Functional)       (None, 8, 8, 2048)        23587712  \n",
            "                                                                 \n",
            " global_average_pooling2d (G  (None, 2048)             0         \n",
            " lobalAveragePooling2D)                                          \n",
            "                                                                 \n",
            " dropout (Dropout)           (None, 2048)              0         \n",
            "                                                                 \n",
            " batch_normalization (BatchN  (None, 2048)             8192      \n",
            " ormalization)                                                   \n",
            "                                                                 \n",
            " dense (Dense)               (None, 3)                 6147      \n",
            "                                                                 \n",
            "=================================================================\n",
            "Total params: 23,602,051\n",
            "Trainable params: 23,544,835\n",
            "Non-trainable params: 57,216\n",
            "_________________________________________________________________\n"
          ]
        }
      ],
      "source": [
        "K.clear_session()\n",
        "gc.collect()\n",
        "\n",
        "resnet50 = ResNet50(\n",
        "    weights='imagenet',\n",
        "    include_top=False,\n",
        "    input_shape=(256,256,3)\n",
        ")\n",
        "\n",
        "\n",
        " \n",
        "\n",
        "\n",
        "model = build_model(resnet50 ,lr = 1e-4)\n",
        "model.summary()\n",
        "\n"
      ]
    },
    {
      "cell_type": "code",
      "execution_count": 10,
      "metadata": {
        "id": "0kte5sieSqSg"
      },
      "outputs": [],
      "source": [
        "# Learning Rate Reducer\n",
        "learn_control = ReduceLROnPlateau(monitor='val_loss', patience =8,\n",
        "                                  verbose=1,factor=0.1, min_lr=1e-7)\n",
        "\n",
        "# Checkpoint\n",
        "filepath=\"vgg19.bone.best.raw.hdf5\"\n",
        "checkpoint = ModelCheckpoint(filepath, monitor='val_accuracy', verbose=1, save_best_only=True, mode='max')\n",
        "\n",
        "early_stopping_monitor = EarlyStopping(monitor='val_loss', patience=10, mode='min')"
      ]
    },
    {
      "cell_type": "markdown",
      "metadata": {
        "id": "7_J8fUneSqSl"
      },
      "source": [
        "# Training & Evaluation"
      ]
    },
    {
      "cell_type": "code",
      "execution_count": 11,
      "metadata": {
        "id": "sWvVqBX8zq5T",
        "colab": {
          "base_uri": "https://localhost:8080/"
        },
        "outputId": "906fc90a-103b-4cd3-ed34-1534966c4c75"
      },
      "outputs": [
        {
          "output_type": "stream",
          "name": "stdout",
          "text": [
            "Epoch 1/100\n",
            "42/41 [==============================] - ETA: 0s - loss: 0.9215 - accuracy: 0.5719\n",
            "Epoch 1: val_accuracy improved from -inf to 0.65550, saving model to vgg19.bone.best.raw.hdf5\n",
            "41/41 [==============================] - 26s 328ms/step - loss: 0.9215 - accuracy: 0.5719 - val_loss: 1.4337 - val_accuracy: 0.6555 - lr: 1.0000e-04\n",
            "Epoch 2/100\n",
            "42/41 [==============================] - ETA: 0s - loss: 0.6178 - accuracy: 0.7590\n",
            "Epoch 2: val_accuracy improved from 0.65550 to 0.75120, saving model to vgg19.bone.best.raw.hdf5\n",
            "41/41 [==============================] - 9s 228ms/step - loss: 0.6178 - accuracy: 0.7590 - val_loss: 0.7393 - val_accuracy: 0.7512 - lr: 1.0000e-04\n",
            "Epoch 3/100\n",
            "42/41 [==============================] - ETA: 0s - loss: 0.5136 - accuracy: 0.8141\n",
            "Epoch 3: val_accuracy improved from 0.75120 to 0.80861, saving model to vgg19.bone.best.raw.hdf5\n",
            "41/41 [==============================] - 9s 228ms/step - loss: 0.5136 - accuracy: 0.8141 - val_loss: 0.6163 - val_accuracy: 0.8086 - lr: 1.0000e-04\n",
            "Epoch 4/100\n",
            "42/41 [==============================] - ETA: 0s - loss: 0.5259 - accuracy: 0.7950\n",
            "Epoch 4: val_accuracy did not improve from 0.80861\n",
            "41/41 [==============================] - 9s 210ms/step - loss: 0.5259 - accuracy: 0.7950 - val_loss: 0.6824 - val_accuracy: 0.7512 - lr: 1.0000e-04\n",
            "Epoch 5/100\n",
            "42/41 [==============================] - ETA: 0s - loss: 0.3833 - accuracy: 0.8633\n",
            "Epoch 5: val_accuracy improved from 0.80861 to 0.87081, saving model to vgg19.bone.best.raw.hdf5\n",
            "41/41 [==============================] - 10s 250ms/step - loss: 0.3833 - accuracy: 0.8633 - val_loss: 0.3920 - val_accuracy: 0.8708 - lr: 1.0000e-04\n",
            "Epoch 6/100\n",
            "42/41 [==============================] - ETA: 0s - loss: 0.3483 - accuracy: 0.8765\n",
            "Epoch 6: val_accuracy did not improve from 0.87081\n",
            "41/41 [==============================] - 9s 210ms/step - loss: 0.3483 - accuracy: 0.8765 - val_loss: 0.6867 - val_accuracy: 0.7416 - lr: 1.0000e-04\n",
            "Epoch 7/100\n",
            "42/41 [==============================] - ETA: 0s - loss: 0.3810 - accuracy: 0.8645\n",
            "Epoch 7: val_accuracy did not improve from 0.87081\n",
            "41/41 [==============================] - 9s 213ms/step - loss: 0.3810 - accuracy: 0.8645 - val_loss: 0.7051 - val_accuracy: 0.7560 - lr: 1.0000e-04\n",
            "Epoch 8/100\n",
            "42/41 [==============================] - ETA: 0s - loss: 0.3234 - accuracy: 0.8813\n",
            "Epoch 8: val_accuracy did not improve from 0.87081\n",
            "41/41 [==============================] - 9s 210ms/step - loss: 0.3234 - accuracy: 0.8813 - val_loss: 0.5363 - val_accuracy: 0.8278 - lr: 1.0000e-04\n",
            "Epoch 9/100\n",
            "42/41 [==============================] - ETA: 0s - loss: 0.2831 - accuracy: 0.9161\n",
            "Epoch 9: val_accuracy improved from 0.87081 to 0.93301, saving model to vgg19.bone.best.raw.hdf5\n",
            "41/41 [==============================] - 11s 254ms/step - loss: 0.2831 - accuracy: 0.9161 - val_loss: 0.2248 - val_accuracy: 0.9330 - lr: 1.0000e-04\n",
            "Epoch 10/100\n",
            "42/41 [==============================] - ETA: 0s - loss: 0.2869 - accuracy: 0.9077\n",
            "Epoch 10: val_accuracy did not improve from 0.93301\n",
            "41/41 [==============================] - 9s 210ms/step - loss: 0.2869 - accuracy: 0.9077 - val_loss: 0.7273 - val_accuracy: 0.7081 - lr: 1.0000e-04\n",
            "Epoch 11/100\n",
            "42/41 [==============================] - ETA: 0s - loss: 0.2786 - accuracy: 0.9065\n",
            "Epoch 11: val_accuracy did not improve from 0.93301\n",
            "41/41 [==============================] - 9s 210ms/step - loss: 0.2786 - accuracy: 0.9065 - val_loss: 0.2431 - val_accuracy: 0.9330 - lr: 1.0000e-04\n",
            "Epoch 12/100\n",
            "42/41 [==============================] - ETA: 0s - loss: 0.2339 - accuracy: 0.9137\n",
            "Epoch 12: val_accuracy did not improve from 0.93301\n",
            "41/41 [==============================] - 9s 209ms/step - loss: 0.2339 - accuracy: 0.9137 - val_loss: 0.2658 - val_accuracy: 0.9187 - lr: 1.0000e-04\n",
            "Epoch 13/100\n",
            "42/41 [==============================] - ETA: 0s - loss: 0.2115 - accuracy: 0.9257\n",
            "Epoch 13: val_accuracy did not improve from 0.93301\n",
            "41/41 [==============================] - 9s 210ms/step - loss: 0.2115 - accuracy: 0.9257 - val_loss: 0.4678 - val_accuracy: 0.8325 - lr: 1.0000e-04\n",
            "Epoch 14/100\n",
            "42/41 [==============================] - ETA: 0s - loss: 0.2466 - accuracy: 0.9029\n",
            "Epoch 14: val_accuracy did not improve from 0.93301\n",
            "41/41 [==============================] - 9s 210ms/step - loss: 0.2466 - accuracy: 0.9029 - val_loss: 0.2672 - val_accuracy: 0.8900 - lr: 1.0000e-04\n",
            "Epoch 15/100\n",
            "42/41 [==============================] - ETA: 0s - loss: 0.2406 - accuracy: 0.9173\n",
            "Epoch 15: val_accuracy did not improve from 0.93301\n",
            "41/41 [==============================] - 9s 210ms/step - loss: 0.2406 - accuracy: 0.9173 - val_loss: 0.2417 - val_accuracy: 0.8995 - lr: 1.0000e-04\n",
            "Epoch 16/100\n",
            "42/41 [==============================] - ETA: 0s - loss: 0.2521 - accuracy: 0.9113\n",
            "Epoch 16: val_accuracy did not improve from 0.93301\n",
            "41/41 [==============================] - 9s 210ms/step - loss: 0.2521 - accuracy: 0.9113 - val_loss: 0.3390 - val_accuracy: 0.9091 - lr: 1.0000e-04\n",
            "Epoch 17/100\n",
            "42/41 [==============================] - ETA: 0s - loss: 0.2604 - accuracy: 0.9065\n",
            "Epoch 17: ReduceLROnPlateau reducing learning rate to 9.999999747378752e-06.\n",
            "\n",
            "Epoch 17: val_accuracy did not improve from 0.93301\n",
            "41/41 [==============================] - 9s 210ms/step - loss: 0.2604 - accuracy: 0.9065 - val_loss: 0.4225 - val_accuracy: 0.8756 - lr: 1.0000e-04\n",
            "Epoch 18/100\n",
            "42/41 [==============================] - ETA: 0s - loss: 0.2034 - accuracy: 0.9424\n",
            "Epoch 18: val_accuracy did not improve from 0.93301\n",
            "41/41 [==============================] - 9s 210ms/step - loss: 0.2034 - accuracy: 0.9424 - val_loss: 0.2558 - val_accuracy: 0.9139 - lr: 1.0000e-05\n",
            "Epoch 19/100\n",
            "42/41 [==============================] - ETA: 0s - loss: 0.1786 - accuracy: 0.9424\n",
            "Epoch 19: val_accuracy did not improve from 0.93301\n",
            "41/41 [==============================] - 9s 209ms/step - loss: 0.1786 - accuracy: 0.9424 - val_loss: 0.2837 - val_accuracy: 0.9187 - lr: 1.0000e-05\n",
            "Epoch 20/100\n",
            "42/41 [==============================] - ETA: 0s - loss: 0.1812 - accuracy: 0.9376\n",
            "Epoch 20: val_accuracy improved from 0.93301 to 0.94258, saving model to vgg19.bone.best.raw.hdf5\n",
            "41/41 [==============================] - 11s 255ms/step - loss: 0.1812 - accuracy: 0.9376 - val_loss: 0.2200 - val_accuracy: 0.9426 - lr: 1.0000e-05\n",
            "Epoch 21/100\n",
            "42/41 [==============================] - ETA: 0s - loss: 0.1660 - accuracy: 0.9472\n",
            "Epoch 21: val_accuracy did not improve from 0.94258\n",
            "41/41 [==============================] - 9s 210ms/step - loss: 0.1660 - accuracy: 0.9472 - val_loss: 0.2212 - val_accuracy: 0.9378 - lr: 1.0000e-05\n",
            "Epoch 22/100\n",
            "42/41 [==============================] - ETA: 0s - loss: 0.1430 - accuracy: 0.9532\n",
            "Epoch 22: val_accuracy improved from 0.94258 to 0.94737, saving model to vgg19.bone.best.raw.hdf5\n",
            "41/41 [==============================] - 10s 252ms/step - loss: 0.1430 - accuracy: 0.9532 - val_loss: 0.2044 - val_accuracy: 0.9474 - lr: 1.0000e-05\n",
            "Epoch 23/100\n",
            "42/41 [==============================] - ETA: 0s - loss: 0.1628 - accuracy: 0.9472\n",
            "Epoch 23: val_accuracy did not improve from 0.94737\n",
            "41/41 [==============================] - 9s 210ms/step - loss: 0.1628 - accuracy: 0.9472 - val_loss: 0.2004 - val_accuracy: 0.9474 - lr: 1.0000e-05\n",
            "Epoch 24/100\n",
            "42/41 [==============================] - ETA: 0s - loss: 0.1339 - accuracy: 0.9568\n",
            "Epoch 24: val_accuracy did not improve from 0.94737\n",
            "41/41 [==============================] - 9s 210ms/step - loss: 0.1339 - accuracy: 0.9568 - val_loss: 0.1998 - val_accuracy: 0.9426 - lr: 1.0000e-05\n",
            "Epoch 25/100\n",
            "42/41 [==============================] - ETA: 0s - loss: 0.1436 - accuracy: 0.9604\n",
            "Epoch 25: val_accuracy did not improve from 0.94737\n",
            "41/41 [==============================] - 9s 209ms/step - loss: 0.1436 - accuracy: 0.9604 - val_loss: 0.1888 - val_accuracy: 0.9474 - lr: 1.0000e-05\n",
            "Epoch 26/100\n",
            "42/41 [==============================] - ETA: 0s - loss: 0.1496 - accuracy: 0.9496\n",
            "Epoch 26: val_accuracy did not improve from 0.94737\n",
            "41/41 [==============================] - 9s 210ms/step - loss: 0.1496 - accuracy: 0.9496 - val_loss: 0.2055 - val_accuracy: 0.9378 - lr: 1.0000e-05\n",
            "Epoch 27/100\n",
            "42/41 [==============================] - ETA: 0s - loss: 0.1469 - accuracy: 0.9532\n",
            "Epoch 27: val_accuracy did not improve from 0.94737\n",
            "41/41 [==============================] - 9s 209ms/step - loss: 0.1469 - accuracy: 0.9532 - val_loss: 0.1929 - val_accuracy: 0.9282 - lr: 1.0000e-05\n",
            "Epoch 28/100\n",
            "42/41 [==============================] - ETA: 0s - loss: 0.1280 - accuracy: 0.9628\n",
            "Epoch 28: val_accuracy did not improve from 0.94737\n",
            "41/41 [==============================] - 9s 210ms/step - loss: 0.1280 - accuracy: 0.9628 - val_loss: 0.1986 - val_accuracy: 0.9426 - lr: 1.0000e-05\n",
            "Epoch 29/100\n",
            "42/41 [==============================] - ETA: 0s - loss: 0.1277 - accuracy: 0.9652\n",
            "Epoch 29: val_accuracy did not improve from 0.94737\n",
            "41/41 [==============================] - 9s 209ms/step - loss: 0.1277 - accuracy: 0.9652 - val_loss: 0.2169 - val_accuracy: 0.9187 - lr: 1.0000e-05\n",
            "Epoch 30/100\n",
            "42/41 [==============================] - ETA: 0s - loss: 0.1304 - accuracy: 0.9520\n",
            "Epoch 30: val_accuracy did not improve from 0.94737\n",
            "41/41 [==============================] - 9s 209ms/step - loss: 0.1304 - accuracy: 0.9520 - val_loss: 0.1871 - val_accuracy: 0.9330 - lr: 1.0000e-05\n",
            "Epoch 31/100\n",
            "42/41 [==============================] - ETA: 0s - loss: 0.1314 - accuracy: 0.9604\n",
            "Epoch 31: val_accuracy did not improve from 0.94737\n",
            "41/41 [==============================] - 9s 210ms/step - loss: 0.1314 - accuracy: 0.9604 - val_loss: 0.1984 - val_accuracy: 0.9378 - lr: 1.0000e-05\n",
            "Epoch 32/100\n",
            "42/41 [==============================] - ETA: 0s - loss: 0.1373 - accuracy: 0.9616\n",
            "Epoch 32: val_accuracy did not improve from 0.94737\n",
            "41/41 [==============================] - 9s 209ms/step - loss: 0.1373 - accuracy: 0.9616 - val_loss: 0.1945 - val_accuracy: 0.9234 - lr: 1.0000e-05\n",
            "Epoch 33/100\n",
            "42/41 [==============================] - ETA: 0s - loss: 0.1085 - accuracy: 0.9652\n",
            "Epoch 33: val_accuracy did not improve from 0.94737\n",
            "41/41 [==============================] - 9s 209ms/step - loss: 0.1085 - accuracy: 0.9652 - val_loss: 0.1827 - val_accuracy: 0.9474 - lr: 1.0000e-05\n",
            "Epoch 34/100\n",
            "42/41 [==============================] - ETA: 0s - loss: 0.1110 - accuracy: 0.9652\n",
            "Epoch 34: val_accuracy did not improve from 0.94737\n",
            "41/41 [==============================] - 9s 210ms/step - loss: 0.1110 - accuracy: 0.9652 - val_loss: 0.1855 - val_accuracy: 0.9474 - lr: 1.0000e-05\n",
            "Epoch 35/100\n",
            "42/41 [==============================] - ETA: 0s - loss: 0.1295 - accuracy: 0.9652\n",
            "Epoch 35: val_accuracy did not improve from 0.94737\n",
            "41/41 [==============================] - 9s 209ms/step - loss: 0.1295 - accuracy: 0.9652 - val_loss: 0.1842 - val_accuracy: 0.9330 - lr: 1.0000e-05\n",
            "Epoch 36/100\n",
            "42/41 [==============================] - ETA: 0s - loss: 0.1064 - accuracy: 0.9712\n",
            "Epoch 36: val_accuracy did not improve from 0.94737\n",
            "41/41 [==============================] - 9s 209ms/step - loss: 0.1064 - accuracy: 0.9712 - val_loss: 0.1773 - val_accuracy: 0.9330 - lr: 1.0000e-05\n",
            "Epoch 37/100\n",
            "42/41 [==============================] - ETA: 0s - loss: 0.1093 - accuracy: 0.9700\n",
            "Epoch 37: val_accuracy did not improve from 0.94737\n",
            "41/41 [==============================] - 9s 209ms/step - loss: 0.1093 - accuracy: 0.9700 - val_loss: 0.1911 - val_accuracy: 0.9426 - lr: 1.0000e-05\n",
            "Epoch 38/100\n",
            "42/41 [==============================] - ETA: 0s - loss: 0.1034 - accuracy: 0.9688\n",
            "Epoch 38: val_accuracy did not improve from 0.94737\n",
            "41/41 [==============================] - 9s 209ms/step - loss: 0.1034 - accuracy: 0.9688 - val_loss: 0.1819 - val_accuracy: 0.9282 - lr: 1.0000e-05\n",
            "Epoch 39/100\n",
            "42/41 [==============================] - ETA: 0s - loss: 0.1037 - accuracy: 0.9640\n",
            "Epoch 39: val_accuracy did not improve from 0.94737\n",
            "41/41 [==============================] - 9s 209ms/step - loss: 0.1037 - accuracy: 0.9640 - val_loss: 0.2077 - val_accuracy: 0.9378 - lr: 1.0000e-05\n",
            "Epoch 40/100\n",
            "42/41 [==============================] - ETA: 0s - loss: 0.1073 - accuracy: 0.9652\n",
            "Epoch 40: val_accuracy did not improve from 0.94737\n",
            "41/41 [==============================] - 9s 209ms/step - loss: 0.1073 - accuracy: 0.9652 - val_loss: 0.1735 - val_accuracy: 0.9282 - lr: 1.0000e-05\n",
            "Epoch 41/100\n",
            "42/41 [==============================] - ETA: 0s - loss: 0.1169 - accuracy: 0.9604\n",
            "Epoch 41: val_accuracy did not improve from 0.94737\n",
            "41/41 [==============================] - 9s 209ms/step - loss: 0.1169 - accuracy: 0.9604 - val_loss: 0.1888 - val_accuracy: 0.9426 - lr: 1.0000e-05\n",
            "Epoch 42/100\n",
            "42/41 [==============================] - ETA: 0s - loss: 0.1020 - accuracy: 0.9688\n",
            "Epoch 42: val_accuracy did not improve from 0.94737\n",
            "41/41 [==============================] - 9s 209ms/step - loss: 0.1020 - accuracy: 0.9688 - val_loss: 0.1941 - val_accuracy: 0.9378 - lr: 1.0000e-05\n",
            "Epoch 43/100\n",
            "42/41 [==============================] - ETA: 0s - loss: 0.1078 - accuracy: 0.9700\n",
            "Epoch 43: val_accuracy did not improve from 0.94737\n",
            "41/41 [==============================] - 9s 209ms/step - loss: 0.1078 - accuracy: 0.9700 - val_loss: 0.4559 - val_accuracy: 0.8086 - lr: 1.0000e-05\n",
            "Epoch 44/100\n",
            "42/41 [==============================] - ETA: 0s - loss: 0.1109 - accuracy: 0.9700\n",
            "Epoch 44: val_accuracy did not improve from 0.94737\n",
            "41/41 [==============================] - 9s 209ms/step - loss: 0.1109 - accuracy: 0.9700 - val_loss: 0.1768 - val_accuracy: 0.9378 - lr: 1.0000e-05\n",
            "Epoch 45/100\n",
            "42/41 [==============================] - ETA: 0s - loss: 0.0984 - accuracy: 0.9724\n",
            "Epoch 45: val_accuracy did not improve from 0.94737\n",
            "41/41 [==============================] - 9s 209ms/step - loss: 0.0984 - accuracy: 0.9724 - val_loss: 0.1769 - val_accuracy: 0.9234 - lr: 1.0000e-05\n",
            "Epoch 46/100\n",
            "42/41 [==============================] - ETA: 0s - loss: 0.1087 - accuracy: 0.9688\n",
            "Epoch 46: val_accuracy did not improve from 0.94737\n",
            "41/41 [==============================] - 9s 209ms/step - loss: 0.1087 - accuracy: 0.9688 - val_loss: 0.1845 - val_accuracy: 0.9234 - lr: 1.0000e-05\n",
            "Epoch 47/100\n",
            "42/41 [==============================] - ETA: 0s - loss: 0.0822 - accuracy: 0.9820\n",
            "Epoch 47: val_accuracy did not improve from 0.94737\n",
            "41/41 [==============================] - 9s 209ms/step - loss: 0.0822 - accuracy: 0.9820 - val_loss: 0.1725 - val_accuracy: 0.9426 - lr: 1.0000e-05\n",
            "Epoch 48/100\n",
            "42/41 [==============================] - ETA: 0s - loss: 0.1022 - accuracy: 0.9712\n",
            "Epoch 48: val_accuracy did not improve from 0.94737\n",
            "41/41 [==============================] - 9s 209ms/step - loss: 0.1022 - accuracy: 0.9712 - val_loss: 0.1951 - val_accuracy: 0.9282 - lr: 1.0000e-05\n",
            "Epoch 49/100\n",
            "42/41 [==============================] - ETA: 0s - loss: 0.0972 - accuracy: 0.9712\n",
            "Epoch 49: val_accuracy did not improve from 0.94737\n",
            "41/41 [==============================] - 9s 209ms/step - loss: 0.0972 - accuracy: 0.9712 - val_loss: 0.1820 - val_accuracy: 0.9282 - lr: 1.0000e-05\n",
            "Epoch 50/100\n",
            "42/41 [==============================] - ETA: 0s - loss: 0.0858 - accuracy: 0.9760\n",
            "Epoch 50: val_accuracy did not improve from 0.94737\n",
            "41/41 [==============================] - 9s 209ms/step - loss: 0.0858 - accuracy: 0.9760 - val_loss: 0.1982 - val_accuracy: 0.9282 - lr: 1.0000e-05\n",
            "Epoch 51/100\n",
            "42/41 [==============================] - ETA: 0s - loss: 0.0928 - accuracy: 0.9748\n",
            "Epoch 51: val_accuracy did not improve from 0.94737\n",
            "41/41 [==============================] - 9s 210ms/step - loss: 0.0928 - accuracy: 0.9748 - val_loss: 0.1800 - val_accuracy: 0.9426 - lr: 1.0000e-05\n",
            "Epoch 52/100\n",
            "42/41 [==============================] - ETA: 0s - loss: 0.0946 - accuracy: 0.9700\n",
            "Epoch 52: val_accuracy did not improve from 0.94737\n",
            "41/41 [==============================] - 9s 209ms/step - loss: 0.0946 - accuracy: 0.9700 - val_loss: 0.1601 - val_accuracy: 0.9234 - lr: 1.0000e-05\n",
            "Epoch 53/100\n",
            "42/41 [==============================] - ETA: 0s - loss: 0.0799 - accuracy: 0.9748\n",
            "Epoch 53: val_accuracy did not improve from 0.94737\n",
            "41/41 [==============================] - 9s 209ms/step - loss: 0.0799 - accuracy: 0.9748 - val_loss: 0.1731 - val_accuracy: 0.9426 - lr: 1.0000e-05\n",
            "Epoch 54/100\n",
            "42/41 [==============================] - ETA: 0s - loss: 0.0830 - accuracy: 0.9796\n",
            "Epoch 54: val_accuracy did not improve from 0.94737\n",
            "41/41 [==============================] - 9s 209ms/step - loss: 0.0830 - accuracy: 0.9796 - val_loss: 0.1851 - val_accuracy: 0.9474 - lr: 1.0000e-05\n",
            "Epoch 55/100\n",
            "42/41 [==============================] - ETA: 0s - loss: 0.0808 - accuracy: 0.9796\n",
            "Epoch 55: val_accuracy did not improve from 0.94737\n",
            "41/41 [==============================] - 9s 209ms/step - loss: 0.0808 - accuracy: 0.9796 - val_loss: 0.1893 - val_accuracy: 0.9426 - lr: 1.0000e-05\n",
            "Epoch 56/100\n",
            "42/41 [==============================] - ETA: 0s - loss: 0.0766 - accuracy: 0.9784\n",
            "Epoch 56: val_accuracy did not improve from 0.94737\n",
            "41/41 [==============================] - 9s 209ms/step - loss: 0.0766 - accuracy: 0.9784 - val_loss: 0.1995 - val_accuracy: 0.9139 - lr: 1.0000e-05\n",
            "Epoch 57/100\n",
            "42/41 [==============================] - ETA: 0s - loss: 0.0873 - accuracy: 0.9796\n",
            "Epoch 57: val_accuracy did not improve from 0.94737\n",
            "41/41 [==============================] - 9s 209ms/step - loss: 0.0873 - accuracy: 0.9796 - val_loss: 0.1878 - val_accuracy: 0.9234 - lr: 1.0000e-05\n",
            "Epoch 58/100\n",
            "42/41 [==============================] - ETA: 0s - loss: 0.0867 - accuracy: 0.9724\n",
            "Epoch 58: val_accuracy did not improve from 0.94737\n",
            "41/41 [==============================] - 9s 209ms/step - loss: 0.0867 - accuracy: 0.9724 - val_loss: 0.1819 - val_accuracy: 0.9282 - lr: 1.0000e-05\n",
            "Epoch 59/100\n",
            "42/41 [==============================] - ETA: 0s - loss: 0.0709 - accuracy: 0.9844\n",
            "Epoch 59: val_accuracy did not improve from 0.94737\n",
            "41/41 [==============================] - 9s 210ms/step - loss: 0.0709 - accuracy: 0.9844 - val_loss: 0.2150 - val_accuracy: 0.9187 - lr: 1.0000e-05\n",
            "Epoch 60/100\n",
            "42/41 [==============================] - ETA: 0s - loss: 0.0679 - accuracy: 0.9832\n",
            "Epoch 60: ReduceLROnPlateau reducing learning rate to 9.999999747378752e-07.\n",
            "\n",
            "Epoch 60: val_accuracy did not improve from 0.94737\n",
            "41/41 [==============================] - 9s 209ms/step - loss: 0.0679 - accuracy: 0.9832 - val_loss: 0.2053 - val_accuracy: 0.9378 - lr: 1.0000e-05\n",
            "Epoch 61/100\n",
            "42/41 [==============================] - ETA: 0s - loss: 0.0711 - accuracy: 0.9820\n",
            "Epoch 61: val_accuracy did not improve from 0.94737\n",
            "41/41 [==============================] - 9s 210ms/step - loss: 0.0711 - accuracy: 0.9820 - val_loss: 0.1842 - val_accuracy: 0.9282 - lr: 1.0000e-06\n",
            "Epoch 62/100\n",
            "42/41 [==============================] - ETA: 0s - loss: 0.0630 - accuracy: 0.9832\n",
            "Epoch 62: val_accuracy did not improve from 0.94737\n",
            "41/41 [==============================] - 9s 209ms/step - loss: 0.0630 - accuracy: 0.9832 - val_loss: 0.1857 - val_accuracy: 0.9426 - lr: 1.0000e-06\n",
            "Epoch 63/100\n",
            "42/41 [==============================] - ETA: 0s - loss: 0.0571 - accuracy: 0.9868\n",
            "Epoch 63: val_accuracy did not improve from 0.94737\n",
            "41/41 [==============================] - 9s 209ms/step - loss: 0.0571 - accuracy: 0.9868 - val_loss: 0.1885 - val_accuracy: 0.9426 - lr: 1.0000e-06\n",
            "Epoch 64/100\n",
            "42/41 [==============================] - ETA: 0s - loss: 0.0477 - accuracy: 0.9856\n",
            "Epoch 64: val_accuracy did not improve from 0.94737\n",
            "41/41 [==============================] - 9s 209ms/step - loss: 0.0477 - accuracy: 0.9856 - val_loss: 0.1906 - val_accuracy: 0.9426 - lr: 1.0000e-06\n",
            "Epoch 65/100\n",
            "42/41 [==============================] - ETA: 0s - loss: 0.0526 - accuracy: 0.9868\n",
            "Epoch 65: val_accuracy did not improve from 0.94737\n",
            "41/41 [==============================] - 9s 209ms/step - loss: 0.0526 - accuracy: 0.9868 - val_loss: 0.1900 - val_accuracy: 0.9426 - lr: 1.0000e-06\n",
            "Epoch 66/100\n",
            "42/41 [==============================] - ETA: 0s - loss: 0.0615 - accuracy: 0.9820\n",
            "Epoch 66: val_accuracy did not improve from 0.94737\n",
            "41/41 [==============================] - 9s 209ms/step - loss: 0.0615 - accuracy: 0.9820 - val_loss: 0.1897 - val_accuracy: 0.9426 - lr: 1.0000e-06\n",
            "Epoch 67/100\n",
            "42/41 [==============================] - ETA: 0s - loss: 0.0456 - accuracy: 0.9904\n",
            "Epoch 67: val_accuracy did not improve from 0.94737\n",
            "41/41 [==============================] - 9s 209ms/step - loss: 0.0456 - accuracy: 0.9904 - val_loss: 0.1873 - val_accuracy: 0.9426 - lr: 1.0000e-06\n",
            "Epoch 68/100\n",
            "42/41 [==============================] - ETA: 0s - loss: 0.0750 - accuracy: 0.9808\n",
            "Epoch 68: ReduceLROnPlateau reducing learning rate to 1e-07.\n",
            "\n",
            "Epoch 68: val_accuracy did not improve from 0.94737\n",
            "41/41 [==============================] - 9s 209ms/step - loss: 0.0750 - accuracy: 0.9808 - val_loss: 0.1865 - val_accuracy: 0.9426 - lr: 1.0000e-06\n",
            "Epoch 69/100\n",
            "42/41 [==============================] - ETA: 0s - loss: 0.0565 - accuracy: 0.9868\n",
            "Epoch 69: val_accuracy did not improve from 0.94737\n",
            "41/41 [==============================] - 9s 209ms/step - loss: 0.0565 - accuracy: 0.9868 - val_loss: 0.1869 - val_accuracy: 0.9426 - lr: 1.0000e-07\n",
            "Epoch 70/100\n",
            "42/41 [==============================] - ETA: 0s - loss: 0.0608 - accuracy: 0.9856\n",
            "Epoch 70: val_accuracy did not improve from 0.94737\n",
            "41/41 [==============================] - 9s 209ms/step - loss: 0.0608 - accuracy: 0.9856 - val_loss: 0.1865 - val_accuracy: 0.9426 - lr: 1.0000e-07\n",
            "Epoch 71/100\n",
            "42/41 [==============================] - ETA: 0s - loss: 0.0560 - accuracy: 0.9856\n",
            "Epoch 71: val_accuracy did not improve from 0.94737\n",
            "41/41 [==============================] - 9s 209ms/step - loss: 0.0560 - accuracy: 0.9856 - val_loss: 0.1869 - val_accuracy: 0.9426 - lr: 1.0000e-07\n",
            "Epoch 72/100\n",
            "42/41 [==============================] - ETA: 0s - loss: 0.0520 - accuracy: 0.9940\n",
            "Epoch 72: val_accuracy did not improve from 0.94737\n",
            "41/41 [==============================] - 9s 209ms/step - loss: 0.0520 - accuracy: 0.9940 - val_loss: 0.1869 - val_accuracy: 0.9426 - lr: 1.0000e-07\n",
            "Epoch 73/100\n",
            "42/41 [==============================] - ETA: 0s - loss: 0.0654 - accuracy: 0.9844\n",
            "Epoch 73: val_accuracy did not improve from 0.94737\n",
            "41/41 [==============================] - 9s 209ms/step - loss: 0.0654 - accuracy: 0.9844 - val_loss: 0.1877 - val_accuracy: 0.9426 - lr: 1.0000e-07\n",
            "Epoch 74/100\n",
            "42/41 [==============================] - ETA: 0s - loss: 0.0465 - accuracy: 0.9952\n",
            "Epoch 74: val_accuracy did not improve from 0.94737\n",
            "41/41 [==============================] - 9s 209ms/step - loss: 0.0465 - accuracy: 0.9952 - val_loss: 0.1876 - val_accuracy: 0.9426 - lr: 1.0000e-07\n",
            "Epoch 75/100\n",
            "42/41 [==============================] - ETA: 0s - loss: 0.0504 - accuracy: 0.9880\n",
            "Epoch 75: val_accuracy did not improve from 0.94737\n",
            "41/41 [==============================] - 9s 209ms/step - loss: 0.0504 - accuracy: 0.9880 - val_loss: 0.1872 - val_accuracy: 0.9426 - lr: 1.0000e-07\n",
            "Epoch 76/100\n",
            "42/41 [==============================] - ETA: 0s - loss: 0.0661 - accuracy: 0.9808\n",
            "Epoch 76: val_accuracy did not improve from 0.94737\n",
            "41/41 [==============================] - 9s 209ms/step - loss: 0.0661 - accuracy: 0.9808 - val_loss: 0.1872 - val_accuracy: 0.9426 - lr: 1.0000e-07\n",
            "Epoch 77/100\n",
            "42/41 [==============================] - ETA: 0s - loss: 0.0488 - accuracy: 0.9880\n",
            "Epoch 77: val_accuracy did not improve from 0.94737\n",
            "41/41 [==============================] - 9s 209ms/step - loss: 0.0488 - accuracy: 0.9880 - val_loss: 0.1864 - val_accuracy: 0.9426 - lr: 1.0000e-07\n",
            "Epoch 78/100\n",
            "42/41 [==============================] - ETA: 0s - loss: 0.0474 - accuracy: 0.9904\n",
            "Epoch 78: val_accuracy did not improve from 0.94737\n",
            "41/41 [==============================] - 9s 209ms/step - loss: 0.0474 - accuracy: 0.9904 - val_loss: 0.1868 - val_accuracy: 0.9426 - lr: 1.0000e-07\n",
            "Epoch 79/100\n",
            "42/41 [==============================] - ETA: 0s - loss: 0.0517 - accuracy: 0.9928\n",
            "Epoch 79: val_accuracy did not improve from 0.94737\n",
            "41/41 [==============================] - 9s 209ms/step - loss: 0.0517 - accuracy: 0.9928 - val_loss: 0.1870 - val_accuracy: 0.9426 - lr: 1.0000e-07\n",
            "Epoch 80/100\n",
            "42/41 [==============================] - ETA: 0s - loss: 0.0625 - accuracy: 0.9832\n",
            "Epoch 80: val_accuracy did not improve from 0.94737\n",
            "41/41 [==============================] - 9s 209ms/step - loss: 0.0625 - accuracy: 0.9832 - val_loss: 0.1870 - val_accuracy: 0.9426 - lr: 1.0000e-07\n",
            "Epoch 81/100\n",
            "42/41 [==============================] - ETA: 0s - loss: 0.0595 - accuracy: 0.9868\n",
            "Epoch 81: val_accuracy did not improve from 0.94737\n",
            "41/41 [==============================] - 9s 209ms/step - loss: 0.0595 - accuracy: 0.9868 - val_loss: 0.1875 - val_accuracy: 0.9426 - lr: 1.0000e-07\n",
            "Epoch 82/100\n",
            "42/41 [==============================] - ETA: 0s - loss: 0.0559 - accuracy: 0.9856\n",
            "Epoch 82: val_accuracy did not improve from 0.94737\n",
            "41/41 [==============================] - 9s 209ms/step - loss: 0.0559 - accuracy: 0.9856 - val_loss: 0.1875 - val_accuracy: 0.9426 - lr: 1.0000e-07\n",
            "Epoch 83/100\n",
            "42/41 [==============================] - ETA: 0s - loss: 0.0649 - accuracy: 0.9844\n",
            "Epoch 83: val_accuracy did not improve from 0.94737\n",
            "41/41 [==============================] - 9s 209ms/step - loss: 0.0649 - accuracy: 0.9844 - val_loss: 0.1877 - val_accuracy: 0.9426 - lr: 1.0000e-07\n",
            "Epoch 84/100\n",
            "42/41 [==============================] - ETA: 0s - loss: 0.0519 - accuracy: 0.9916\n",
            "Epoch 84: val_accuracy did not improve from 0.94737\n",
            "41/41 [==============================] - 9s 209ms/step - loss: 0.0519 - accuracy: 0.9916 - val_loss: 0.1873 - val_accuracy: 0.9426 - lr: 1.0000e-07\n",
            "Epoch 85/100\n",
            "42/41 [==============================] - ETA: 0s - loss: 0.0607 - accuracy: 0.9832\n",
            "Epoch 85: val_accuracy did not improve from 0.94737\n",
            "41/41 [==============================] - 9s 209ms/step - loss: 0.0607 - accuracy: 0.9832 - val_loss: 0.1869 - val_accuracy: 0.9426 - lr: 1.0000e-07\n",
            "Epoch 86/100\n",
            "42/41 [==============================] - ETA: 0s - loss: 0.0547 - accuracy: 0.9820\n",
            "Epoch 86: val_accuracy did not improve from 0.94737\n",
            "41/41 [==============================] - 9s 209ms/step - loss: 0.0547 - accuracy: 0.9820 - val_loss: 0.1882 - val_accuracy: 0.9426 - lr: 1.0000e-07\n",
            "Epoch 87/100\n",
            "42/41 [==============================] - ETA: 0s - loss: 0.0508 - accuracy: 0.9856\n",
            "Epoch 87: val_accuracy did not improve from 0.94737\n",
            "41/41 [==============================] - 9s 209ms/step - loss: 0.0508 - accuracy: 0.9856 - val_loss: 0.1878 - val_accuracy: 0.9426 - lr: 1.0000e-07\n",
            "Epoch 88/100\n",
            "42/41 [==============================] - ETA: 0s - loss: 0.0466 - accuracy: 0.9916\n",
            "Epoch 88: val_accuracy did not improve from 0.94737\n",
            "41/41 [==============================] - 9s 209ms/step - loss: 0.0466 - accuracy: 0.9916 - val_loss: 0.1876 - val_accuracy: 0.9426 - lr: 1.0000e-07\n",
            "Epoch 89/100\n",
            "42/41 [==============================] - ETA: 0s - loss: 0.0469 - accuracy: 0.9904\n",
            "Epoch 89: val_accuracy did not improve from 0.94737\n",
            "41/41 [==============================] - 9s 209ms/step - loss: 0.0469 - accuracy: 0.9904 - val_loss: 0.1873 - val_accuracy: 0.9426 - lr: 1.0000e-07\n",
            "Epoch 90/100\n",
            "42/41 [==============================] - ETA: 0s - loss: 0.0472 - accuracy: 0.9904\n",
            "Epoch 90: val_accuracy did not improve from 0.94737\n",
            "41/41 [==============================] - 9s 209ms/step - loss: 0.0472 - accuracy: 0.9904 - val_loss: 0.1871 - val_accuracy: 0.9426 - lr: 1.0000e-07\n",
            "Epoch 91/100\n",
            "42/41 [==============================] - ETA: 0s - loss: 0.0485 - accuracy: 0.9928\n",
            "Epoch 91: val_accuracy did not improve from 0.94737\n",
            "41/41 [==============================] - 9s 209ms/step - loss: 0.0485 - accuracy: 0.9928 - val_loss: 0.1870 - val_accuracy: 0.9426 - lr: 1.0000e-07\n",
            "Epoch 92/100\n",
            "42/41 [==============================] - ETA: 0s - loss: 0.0417 - accuracy: 0.9940\n",
            "Epoch 92: val_accuracy did not improve from 0.94737\n",
            "41/41 [==============================] - 9s 209ms/step - loss: 0.0417 - accuracy: 0.9940 - val_loss: 0.1878 - val_accuracy: 0.9426 - lr: 1.0000e-07\n",
            "Epoch 93/100\n",
            "42/41 [==============================] - ETA: 0s - loss: 0.0444 - accuracy: 0.9928\n",
            "Epoch 93: val_accuracy did not improve from 0.94737\n",
            "41/41 [==============================] - 9s 209ms/step - loss: 0.0444 - accuracy: 0.9928 - val_loss: 0.1881 - val_accuracy: 0.9426 - lr: 1.0000e-07\n",
            "Epoch 94/100\n",
            "42/41 [==============================] - ETA: 0s - loss: 0.0402 - accuracy: 0.9940\n",
            "Epoch 94: val_accuracy did not improve from 0.94737\n",
            "41/41 [==============================] - 9s 209ms/step - loss: 0.0402 - accuracy: 0.9940 - val_loss: 0.1875 - val_accuracy: 0.9426 - lr: 1.0000e-07\n",
            "Epoch 95/100\n",
            "42/41 [==============================] - ETA: 0s - loss: 0.0575 - accuracy: 0.9868\n",
            "Epoch 95: val_accuracy did not improve from 0.94737\n",
            "41/41 [==============================] - 9s 209ms/step - loss: 0.0575 - accuracy: 0.9868 - val_loss: 0.1874 - val_accuracy: 0.9426 - lr: 1.0000e-07\n",
            "Epoch 96/100\n",
            "42/41 [==============================] - ETA: 0s - loss: 0.0529 - accuracy: 0.9880\n",
            "Epoch 96: val_accuracy did not improve from 0.94737\n",
            "41/41 [==============================] - 9s 209ms/step - loss: 0.0529 - accuracy: 0.9880 - val_loss: 0.1874 - val_accuracy: 0.9426 - lr: 1.0000e-07\n",
            "Epoch 97/100\n",
            "42/41 [==============================] - ETA: 0s - loss: 0.0528 - accuracy: 0.9904\n",
            "Epoch 97: val_accuracy did not improve from 0.94737\n",
            "41/41 [==============================] - 9s 209ms/step - loss: 0.0528 - accuracy: 0.9904 - val_loss: 0.1878 - val_accuracy: 0.9426 - lr: 1.0000e-07\n",
            "Epoch 98/100\n",
            "42/41 [==============================] - ETA: 0s - loss: 0.0699 - accuracy: 0.9808\n",
            "Epoch 98: val_accuracy did not improve from 0.94737\n",
            "41/41 [==============================] - 9s 209ms/step - loss: 0.0699 - accuracy: 0.9808 - val_loss: 0.1880 - val_accuracy: 0.9426 - lr: 1.0000e-07\n",
            "Epoch 99/100\n",
            "42/41 [==============================] - ETA: 0s - loss: 0.0528 - accuracy: 0.9856\n",
            "Epoch 99: val_accuracy did not improve from 0.94737\n",
            "41/41 [==============================] - 9s 209ms/step - loss: 0.0528 - accuracy: 0.9856 - val_loss: 0.1883 - val_accuracy: 0.9426 - lr: 1.0000e-07\n",
            "Epoch 100/100\n",
            "42/41 [==============================] - ETA: 0s - loss: 0.0459 - accuracy: 0.9880\n",
            "Epoch 100: val_accuracy did not improve from 0.94737\n",
            "41/41 [==============================] - 9s 210ms/step - loss: 0.0459 - accuracy: 0.9880 - val_loss: 0.1885 - val_accuracy: 0.9426 - lr: 1.0000e-07\n"
          ]
        }
      ],
      "source": [
        "### bone model.fit\n",
        "\n",
        "with tf.device('/device:GPU:0'):\n",
        "  history = model.fit( x = x_train, y = y_train, batch_size=BATCH_SIZE,\n",
        "      steps_per_epoch=x_train.shape[0] / BATCH_SIZE,\n",
        "      epochs=100,\n",
        "      validation_steps = x_val.shape[0] / BATCH_SIZE,\n",
        "      validation_data=(x_val, y_val),\n",
        "      callbacks=[learn_control, checkpoint])"
      ]
    },
    {
      "cell_type": "code",
      "execution_count": null,
      "metadata": {
        "colab": {
          "base_uri": "https://localhost:8080/"
        },
        "id": "ajEGVCVOSqSm",
        "outputId": "169ef463-c542-478d-b8eb-ab2c77281c4f"
      },
      "outputs": [
        {
          "output_type": "stream",
          "name": "stdout",
          "text": [
            "Epoch 1/100\n",
            "243/242 [==============================] - ETA: 0s - loss: 0.4853 - accuracy: 0.8271\n",
            "Epoch 1: val_accuracy improved from -inf to 0.84432, saving model to resnet50.lung.best.raw.hdf5\n",
            "242/242 [==============================] - 90s 297ms/step - loss: 0.4853 - accuracy: 0.8271 - val_loss: 0.4032 - val_accuracy: 0.8443 - lr: 1.0000e-04\n",
            "Epoch 2/100\n",
            "243/242 [==============================] - ETA: 0s - loss: 0.2673 - accuracy: 0.9042\n",
            "Epoch 2: val_accuracy did not improve from 0.84432\n",
            "242/242 [==============================] - 69s 286ms/step - loss: 0.2673 - accuracy: 0.9042 - val_loss: 1.1857 - val_accuracy: 0.7891 - lr: 1.0000e-04\n",
            "Epoch 3/100\n",
            "243/242 [==============================] - ETA: 0s - loss: 0.2037 - accuracy: 0.9293\n",
            "Epoch 3: val_accuracy improved from 0.84432 to 0.85997, saving model to resnet50.lung.best.raw.hdf5\n",
            "242/242 [==============================] - 72s 299ms/step - loss: 0.2037 - accuracy: 0.9293 - val_loss: 0.4532 - val_accuracy: 0.8600 - lr: 1.0000e-04\n",
            "Epoch 4/100\n",
            "243/242 [==============================] - ETA: 0s - loss: 0.1050 - accuracy: 0.9596\n",
            "Epoch 4: val_accuracy did not improve from 0.85997\n",
            "242/242 [==============================] - 69s 285ms/step - loss: 0.1050 - accuracy: 0.9596 - val_loss: 2.2421 - val_accuracy: 0.7323 - lr: 1.0000e-04\n",
            "Epoch 5/100\n",
            "243/242 [==============================] - ETA: 0s - loss: 0.0917 - accuracy: 0.9711\n",
            "Epoch 5: val_accuracy did not improve from 0.85997\n",
            "242/242 [==============================] - 69s 285ms/step - loss: 0.0917 - accuracy: 0.9711 - val_loss: 0.4483 - val_accuracy: 0.8534 - lr: 1.0000e-04\n",
            "Epoch 6/100\n",
            "243/242 [==============================] - ETA: 0s - loss: 0.0833 - accuracy: 0.9734\n",
            "Epoch 6: val_accuracy did not improve from 0.85997\n",
            "242/242 [==============================] - 69s 286ms/step - loss: 0.0833 - accuracy: 0.9734 - val_loss: 1.1705 - val_accuracy: 0.7825 - lr: 1.0000e-04\n",
            "Epoch 7/100\n",
            "243/242 [==============================] - ETA: 0s - loss: 0.0801 - accuracy: 0.9720\n",
            "Epoch 7: val_accuracy improved from 0.85997 to 0.91021, saving model to resnet50.lung.best.raw.hdf5\n",
            "242/242 [==============================] - 73s 300ms/step - loss: 0.0801 - accuracy: 0.9720 - val_loss: 0.3482 - val_accuracy: 0.9102 - lr: 1.0000e-04\n",
            "Epoch 8/100\n",
            "243/242 [==============================] - ETA: 0s - loss: 0.0501 - accuracy: 0.9845\n",
            "Epoch 8: val_accuracy did not improve from 0.91021\n",
            "242/242 [==============================] - 70s 288ms/step - loss: 0.0501 - accuracy: 0.9845 - val_loss: 1.3531 - val_accuracy: 0.7949 - lr: 1.0000e-04\n",
            "Epoch 9/100\n",
            "243/242 [==============================] - ETA: 0s - loss: 0.0767 - accuracy: 0.9794\n",
            "Epoch 9: val_accuracy did not improve from 0.91021\n",
            "242/242 [==============================] - 69s 286ms/step - loss: 0.0767 - accuracy: 0.9794 - val_loss: 0.3849 - val_accuracy: 0.8880 - lr: 1.0000e-04\n",
            "Epoch 10/100\n",
            "243/242 [==============================] - ETA: 0s - loss: 0.0571 - accuracy: 0.9798\n",
            "Epoch 10: val_accuracy did not improve from 0.91021\n",
            "242/242 [==============================] - 69s 285ms/step - loss: 0.0571 - accuracy: 0.9798 - val_loss: 0.4334 - val_accuracy: 0.8764 - lr: 1.0000e-04\n",
            "Epoch 11/100\n",
            "243/242 [==============================] - ETA: 0s - loss: 0.0361 - accuracy: 0.9883\n",
            "Epoch 11: val_accuracy did not improve from 0.91021\n",
            "242/242 [==============================] - 69s 285ms/step - loss: 0.0361 - accuracy: 0.9883 - val_loss: 0.3475 - val_accuracy: 0.8954 - lr: 1.0000e-04\n",
            "Epoch 12/100\n",
            "243/242 [==============================] - ETA: 0s - loss: 0.0193 - accuracy: 0.9944\n",
            "Epoch 12: val_accuracy did not improve from 0.91021\n",
            "242/242 [==============================] - 69s 285ms/step - loss: 0.0193 - accuracy: 0.9944 - val_loss: 0.3915 - val_accuracy: 0.9036 - lr: 1.0000e-04\n",
            "Epoch 13/100\n",
            "243/242 [==============================] - ETA: 0s - loss: 0.0480 - accuracy: 0.9850\n",
            "Epoch 13: val_accuracy did not improve from 0.91021\n",
            "242/242 [==============================] - 69s 286ms/step - loss: 0.0480 - accuracy: 0.9850 - val_loss: 1.9638 - val_accuracy: 0.7611 - lr: 1.0000e-04\n",
            "Epoch 14/100\n",
            "243/242 [==============================] - ETA: 0s - loss: 0.0708 - accuracy: 0.9790\n",
            "Epoch 14: val_accuracy did not improve from 0.91021\n",
            "242/242 [==============================] - 70s 287ms/step - loss: 0.0708 - accuracy: 0.9790 - val_loss: 0.4418 - val_accuracy: 0.8748 - lr: 1.0000e-04\n",
            "Epoch 15/100\n",
            "243/242 [==============================] - ETA: 0s - loss: 0.0487 - accuracy: 0.9843\n",
            "Epoch 15: val_accuracy did not improve from 0.91021\n",
            "242/242 [==============================] - 69s 286ms/step - loss: 0.0487 - accuracy: 0.9843 - val_loss: 0.3484 - val_accuracy: 0.9003 - lr: 1.0000e-04\n",
            "Epoch 16/100\n",
            "243/242 [==============================] - ETA: 0s - loss: 0.0285 - accuracy: 0.9909\n",
            "Epoch 16: val_accuracy did not improve from 0.91021\n",
            "242/242 [==============================] - 69s 286ms/step - loss: 0.0285 - accuracy: 0.9909 - val_loss: 0.3600 - val_accuracy: 0.8979 - lr: 1.0000e-04\n",
            "Epoch 17/100\n",
            "243/242 [==============================] - ETA: 0s - loss: 0.0236 - accuracy: 0.9911\n",
            "Epoch 17: val_accuracy did not improve from 0.91021\n",
            "242/242 [==============================] - 70s 289ms/step - loss: 0.0236 - accuracy: 0.9911 - val_loss: 0.5655 - val_accuracy: 0.8633 - lr: 1.0000e-04\n",
            "Epoch 18/100\n",
            "243/242 [==============================] - ETA: 0s - loss: 0.0308 - accuracy: 0.9901\n",
            "Epoch 18: val_accuracy did not improve from 0.91021\n",
            "242/242 [==============================] - 69s 286ms/step - loss: 0.0308 - accuracy: 0.9901 - val_loss: 0.5641 - val_accuracy: 0.8970 - lr: 1.0000e-04\n",
            "Epoch 19/100\n",
            "243/242 [==============================] - ETA: 0s - loss: 0.0317 - accuracy: 0.9889\n",
            "Epoch 19: ReduceLROnPlateau reducing learning rate to 9.999999747378752e-06.\n",
            "\n",
            "Epoch 19: val_accuracy did not improve from 0.91021\n",
            "242/242 [==============================] - 69s 286ms/step - loss: 0.0317 - accuracy: 0.9889 - val_loss: 0.6317 - val_accuracy: 0.8616 - lr: 1.0000e-04\n",
            "Epoch 20/100\n",
            "243/242 [==============================] - ETA: 0s - loss: 0.0193 - accuracy: 0.9928\n",
            "Epoch 20: val_accuracy improved from 0.91021 to 0.91433, saving model to resnet50.lung.best.raw.hdf5\n",
            "242/242 [==============================] - 73s 300ms/step - loss: 0.0193 - accuracy: 0.9928 - val_loss: 0.3156 - val_accuracy: 0.9143 - lr: 1.0000e-05\n",
            "Epoch 21/100\n",
            "243/242 [==============================] - ETA: 0s - loss: 0.0144 - accuracy: 0.9977\n",
            "Epoch 21: val_accuracy improved from 0.91433 to 0.91516, saving model to resnet50.lung.best.raw.hdf5\n",
            "242/242 [==============================] - 73s 302ms/step - loss: 0.0144 - accuracy: 0.9977 - val_loss: 0.3280 - val_accuracy: 0.9152 - lr: 1.0000e-05\n",
            "Epoch 22/100\n",
            "243/242 [==============================] - ETA: 0s - loss: 0.0053 - accuracy: 0.9988\n",
            "Epoch 22: val_accuracy improved from 0.91516 to 0.91598, saving model to resnet50.lung.best.raw.hdf5\n",
            "242/242 [==============================] - 73s 301ms/step - loss: 0.0053 - accuracy: 0.9988 - val_loss: 0.3303 - val_accuracy: 0.9160 - lr: 1.0000e-05\n",
            "Epoch 23/100\n",
            "243/242 [==============================] - ETA: 0s - loss: 0.0031 - accuracy: 0.9992\n",
            "Epoch 23: val_accuracy improved from 0.91598 to 0.91928, saving model to resnet50.lung.best.raw.hdf5\n",
            "242/242 [==============================] - 73s 301ms/step - loss: 0.0031 - accuracy: 0.9992 - val_loss: 0.3343 - val_accuracy: 0.9193 - lr: 1.0000e-05\n",
            "Epoch 24/100\n",
            "243/242 [==============================] - ETA: 0s - loss: 0.0074 - accuracy: 0.9979\n",
            "Epoch 24: val_accuracy did not improve from 0.91928\n",
            "242/242 [==============================] - 69s 286ms/step - loss: 0.0074 - accuracy: 0.9979 - val_loss: 0.3299 - val_accuracy: 0.9135 - lr: 1.0000e-05\n",
            "Epoch 25/100\n",
            "243/242 [==============================] - ETA: 0s - loss: 0.0182 - accuracy: 0.9957\n",
            "Epoch 25: val_accuracy improved from 0.91928 to 0.92422, saving model to resnet50.lung.best.raw.hdf5\n",
            "242/242 [==============================] - 74s 304ms/step - loss: 0.0182 - accuracy: 0.9957 - val_loss: 0.3564 - val_accuracy: 0.9242 - lr: 1.0000e-05\n",
            "Epoch 26/100\n",
            "243/242 [==============================] - ETA: 0s - loss: 0.0032 - accuracy: 0.9990\n",
            "Epoch 26: val_accuracy did not improve from 0.92422\n",
            "242/242 [==============================] - 69s 286ms/step - loss: 0.0032 - accuracy: 0.9990 - val_loss: 0.3715 - val_accuracy: 0.9226 - lr: 1.0000e-05\n",
            "Epoch 27/100\n",
            "243/242 [==============================] - ETA: 0s - loss: 0.0017 - accuracy: 1.0000\n",
            "Epoch 27: val_accuracy did not improve from 0.92422\n",
            "242/242 [==============================] - 69s 285ms/step - loss: 0.0017 - accuracy: 1.0000 - val_loss: 0.3611 - val_accuracy: 0.9209 - lr: 1.0000e-05\n",
            "Epoch 28/100\n",
            "243/242 [==============================] - ETA: 0s - loss: 0.0016 - accuracy: 1.0000\n",
            "Epoch 28: ReduceLROnPlateau reducing learning rate to 9.999999747378752e-07.\n",
            "\n",
            "Epoch 28: val_accuracy did not improve from 0.92422\n",
            "242/242 [==============================] - 69s 285ms/step - loss: 0.0016 - accuracy: 1.0000 - val_loss: 0.3591 - val_accuracy: 0.9242 - lr: 1.0000e-05\n",
            "Epoch 29/100\n",
            "243/242 [==============================] - ETA: 0s - loss: 0.0014 - accuracy: 0.9998\n",
            "Epoch 29: val_accuracy did not improve from 0.92422\n",
            "242/242 [==============================] - 69s 285ms/step - loss: 0.0014 - accuracy: 0.9998 - val_loss: 0.3605 - val_accuracy: 0.9242 - lr: 1.0000e-06\n",
            "Epoch 30/100\n",
            "243/242 [==============================] - ETA: 0s - loss: 0.0070 - accuracy: 0.9990\n",
            "Epoch 30: val_accuracy did not improve from 0.92422\n",
            "242/242 [==============================] - 69s 286ms/step - loss: 0.0070 - accuracy: 0.9990 - val_loss: 0.3516 - val_accuracy: 0.9242 - lr: 1.0000e-06\n",
            "Epoch 31/100\n",
            "243/242 [==============================] - ETA: 0s - loss: 0.0041 - accuracy: 0.9988\n",
            "Epoch 31: val_accuracy improved from 0.92422 to 0.92504, saving model to resnet50.lung.best.raw.hdf5\n",
            "242/242 [==============================] - 73s 301ms/step - loss: 0.0041 - accuracy: 0.9988 - val_loss: 0.3538 - val_accuracy: 0.9250 - lr: 1.0000e-06\n",
            "Epoch 32/100\n",
            "243/242 [==============================] - ETA: 0s - loss: 0.0020 - accuracy: 0.9996\n",
            "Epoch 32: val_accuracy did not improve from 0.92504\n",
            "242/242 [==============================] - 69s 286ms/step - loss: 0.0020 - accuracy: 0.9996 - val_loss: 0.3605 - val_accuracy: 0.9234 - lr: 1.0000e-06\n",
            "Epoch 33/100\n",
            "243/242 [==============================] - ETA: 0s - loss: 0.0015 - accuracy: 0.9998\n",
            "Epoch 33: val_accuracy did not improve from 0.92504\n",
            "242/242 [==============================] - 69s 286ms/step - loss: 0.0015 - accuracy: 0.9998 - val_loss: 0.3572 - val_accuracy: 0.9226 - lr: 1.0000e-06\n",
            "Epoch 34/100\n",
            "243/242 [==============================] - ETA: 0s - loss: 0.0021 - accuracy: 0.9998\n",
            "Epoch 34: val_accuracy did not improve from 0.92504\n",
            "242/242 [==============================] - 69s 286ms/step - loss: 0.0021 - accuracy: 0.9998 - val_loss: 0.3546 - val_accuracy: 0.9250 - lr: 1.0000e-06\n",
            "Epoch 35/100\n",
            "243/242 [==============================] - ETA: 0s - loss: 0.0045 - accuracy: 0.9992\n",
            "Epoch 35: val_accuracy did not improve from 0.92504\n",
            "242/242 [==============================] - 69s 286ms/step - loss: 0.0045 - accuracy: 0.9992 - val_loss: 0.3522 - val_accuracy: 0.9234 - lr: 1.0000e-06\n",
            "Epoch 36/100\n",
            "243/242 [==============================] - ETA: 0s - loss: 0.0044 - accuracy: 0.9992\n",
            "Epoch 36: ReduceLROnPlateau reducing learning rate to 1e-07.\n",
            "\n",
            "Epoch 36: val_accuracy did not improve from 0.92504\n",
            "242/242 [==============================] - 69s 285ms/step - loss: 0.0044 - accuracy: 0.9992 - val_loss: 0.3546 - val_accuracy: 0.9209 - lr: 1.0000e-06\n",
            "Epoch 37/100\n",
            "243/242 [==============================] - ETA: 0s - loss: 0.0015 - accuracy: 0.9996\n",
            "Epoch 37: val_accuracy did not improve from 0.92504\n",
            "242/242 [==============================] - 69s 285ms/step - loss: 0.0015 - accuracy: 0.9996 - val_loss: 0.3538 - val_accuracy: 0.9226 - lr: 1.0000e-07\n",
            "Epoch 38/100\n",
            "243/242 [==============================] - ETA: 0s - loss: 0.0011 - accuracy: 1.0000\n",
            "Epoch 38: val_accuracy did not improve from 0.92504\n",
            "242/242 [==============================] - 69s 285ms/step - loss: 0.0011 - accuracy: 1.0000 - val_loss: 0.3519 - val_accuracy: 0.9234 - lr: 1.0000e-07\n",
            "Epoch 39/100\n",
            "243/242 [==============================] - ETA: 0s - loss: 0.0029 - accuracy: 0.9992\n",
            "Epoch 39: val_accuracy did not improve from 0.92504\n",
            "242/242 [==============================] - 69s 286ms/step - loss: 0.0029 - accuracy: 0.9992 - val_loss: 0.3506 - val_accuracy: 0.9226 - lr: 1.0000e-07\n",
            "Epoch 40/100\n",
            "243/242 [==============================] - ETA: 0s - loss: 0.0020 - accuracy: 0.9992\n",
            "Epoch 40: val_accuracy did not improve from 0.92504\n",
            "242/242 [==============================] - 69s 286ms/step - loss: 0.0020 - accuracy: 0.9992 - val_loss: 0.3535 - val_accuracy: 0.9226 - lr: 1.0000e-07\n",
            "Epoch 41/100\n",
            "243/242 [==============================] - ETA: 0s - loss: 0.0014 - accuracy: 1.0000\n",
            "Epoch 41: val_accuracy did not improve from 0.92504\n",
            "242/242 [==============================] - 69s 286ms/step - loss: 0.0014 - accuracy: 1.0000 - val_loss: 0.3577 - val_accuracy: 0.9226 - lr: 1.0000e-07\n",
            "Epoch 42/100\n",
            "243/242 [==============================] - ETA: 0s - loss: 9.8420e-04 - accuracy: 1.0000\n",
            "Epoch 42: val_accuracy did not improve from 0.92504\n",
            "242/242 [==============================] - 69s 286ms/step - loss: 9.8420e-04 - accuracy: 1.0000 - val_loss: 0.3475 - val_accuracy: 0.9234 - lr: 1.0000e-07\n",
            "Epoch 43/100\n",
            "243/242 [==============================] - ETA: 0s - loss: 0.0015 - accuracy: 0.9998\n",
            "Epoch 43: val_accuracy did not improve from 0.92504\n",
            "242/242 [==============================] - 69s 285ms/step - loss: 0.0015 - accuracy: 0.9998 - val_loss: 0.3564 - val_accuracy: 0.9234 - lr: 1.0000e-07\n",
            "Epoch 44/100\n",
            "243/242 [==============================] - ETA: 0s - loss: 0.0015 - accuracy: 0.9998\n",
            "Epoch 44: val_accuracy did not improve from 0.92504\n",
            "242/242 [==============================] - 69s 286ms/step - loss: 0.0015 - accuracy: 0.9998 - val_loss: 0.3458 - val_accuracy: 0.9209 - lr: 1.0000e-07\n",
            "Epoch 45/100\n",
            "243/242 [==============================] - ETA: 0s - loss: 0.0014 - accuracy: 0.9998\n",
            "Epoch 45: val_accuracy did not improve from 0.92504\n",
            "242/242 [==============================] - 69s 285ms/step - loss: 0.0014 - accuracy: 0.9998 - val_loss: 0.3579 - val_accuracy: 0.9250 - lr: 1.0000e-07\n",
            "Epoch 46/100\n",
            "243/242 [==============================] - ETA: 0s - loss: 0.0020 - accuracy: 0.9996\n",
            "Epoch 46: val_accuracy did not improve from 0.92504\n",
            "242/242 [==============================] - 69s 285ms/step - loss: 0.0020 - accuracy: 0.9996 - val_loss: 0.3580 - val_accuracy: 0.9234 - lr: 1.0000e-07\n",
            "Epoch 47/100\n",
            "243/242 [==============================] - ETA: 0s - loss: 0.0060 - accuracy: 0.9992\n",
            "Epoch 47: val_accuracy did not improve from 0.92504\n",
            "242/242 [==============================] - 69s 286ms/step - loss: 0.0060 - accuracy: 0.9992 - val_loss: 0.3537 - val_accuracy: 0.9250 - lr: 1.0000e-07\n",
            "Epoch 48/100\n",
            "243/242 [==============================] - ETA: 0s - loss: 0.0011 - accuracy: 1.0000\n",
            "Epoch 48: val_accuracy did not improve from 0.92504\n",
            "242/242 [==============================] - 69s 285ms/step - loss: 0.0011 - accuracy: 1.0000 - val_loss: 0.3619 - val_accuracy: 0.9234 - lr: 1.0000e-07\n",
            "Epoch 49/100\n",
            "243/242 [==============================] - ETA: 0s - loss: 0.0021 - accuracy: 0.9994\n",
            "Epoch 49: val_accuracy did not improve from 0.92504\n",
            "242/242 [==============================] - 69s 285ms/step - loss: 0.0021 - accuracy: 0.9994 - val_loss: 0.3547 - val_accuracy: 0.9209 - lr: 1.0000e-07\n",
            "Epoch 50/100\n",
            "243/242 [==============================] - ETA: 0s - loss: 0.0028 - accuracy: 0.9990\n",
            "Epoch 50: val_accuracy did not improve from 0.92504\n",
            "242/242 [==============================] - 69s 285ms/step - loss: 0.0028 - accuracy: 0.9990 - val_loss: 0.3560 - val_accuracy: 0.9217 - lr: 1.0000e-07\n",
            "Epoch 51/100\n",
            "243/242 [==============================] - ETA: 0s - loss: 0.0010 - accuracy: 1.0000\n",
            "Epoch 51: val_accuracy did not improve from 0.92504\n",
            "242/242 [==============================] - 69s 285ms/step - loss: 0.0010 - accuracy: 1.0000 - val_loss: 0.3545 - val_accuracy: 0.9226 - lr: 1.0000e-07\n",
            "Epoch 52/100\n",
            "243/242 [==============================] - ETA: 0s - loss: 0.0017 - accuracy: 0.9994\n",
            "Epoch 52: val_accuracy did not improve from 0.92504\n",
            "242/242 [==============================] - 69s 286ms/step - loss: 0.0017 - accuracy: 0.9994 - val_loss: 0.3549 - val_accuracy: 0.9226 - lr: 1.0000e-07\n",
            "Epoch 53/100\n",
            "243/242 [==============================] - ETA: 0s - loss: 0.0056 - accuracy: 0.9988\n",
            "Epoch 53: val_accuracy did not improve from 0.92504\n",
            "242/242 [==============================] - 69s 286ms/step - loss: 0.0056 - accuracy: 0.9988 - val_loss: 0.3603 - val_accuracy: 0.9234 - lr: 1.0000e-07\n",
            "Epoch 54/100\n",
            "243/242 [==============================] - ETA: 0s - loss: 0.0015 - accuracy: 0.9998\n",
            "Epoch 54: val_accuracy did not improve from 0.92504\n",
            "242/242 [==============================] - 69s 285ms/step - loss: 0.0015 - accuracy: 0.9998 - val_loss: 0.3602 - val_accuracy: 0.9242 - lr: 1.0000e-07\n",
            "Epoch 55/100\n",
            "243/242 [==============================] - ETA: 0s - loss: 0.0072 - accuracy: 0.9984\n",
            "Epoch 55: val_accuracy did not improve from 0.92504\n",
            "242/242 [==============================] - 69s 286ms/step - loss: 0.0072 - accuracy: 0.9984 - val_loss: 0.3484 - val_accuracy: 0.9226 - lr: 1.0000e-07\n",
            "Epoch 56/100\n",
            "243/242 [==============================] - ETA: 0s - loss: 0.0090 - accuracy: 0.9994\n",
            "Epoch 56: val_accuracy did not improve from 0.92504\n",
            "242/242 [==============================] - 69s 286ms/step - loss: 0.0090 - accuracy: 0.9994 - val_loss: 0.3504 - val_accuracy: 0.9226 - lr: 1.0000e-07\n",
            "Epoch 57/100\n",
            "243/242 [==============================] - ETA: 0s - loss: 0.0018 - accuracy: 0.9996\n",
            "Epoch 57: val_accuracy did not improve from 0.92504\n",
            "242/242 [==============================] - 69s 286ms/step - loss: 0.0018 - accuracy: 0.9996 - val_loss: 0.3621 - val_accuracy: 0.9234 - lr: 1.0000e-07\n",
            "Epoch 58/100\n",
            "243/242 [==============================] - ETA: 0s - loss: 0.0015 - accuracy: 0.9996\n",
            "Epoch 58: val_accuracy did not improve from 0.92504\n",
            "242/242 [==============================] - 69s 286ms/step - loss: 0.0015 - accuracy: 0.9996 - val_loss: 0.3577 - val_accuracy: 0.9226 - lr: 1.0000e-07\n",
            "Epoch 59/100\n",
            "243/242 [==============================] - ETA: 0s - loss: 0.0013 - accuracy: 0.9998\n",
            "Epoch 59: val_accuracy did not improve from 0.92504\n",
            "242/242 [==============================] - 69s 286ms/step - loss: 0.0013 - accuracy: 0.9998 - val_loss: 0.3681 - val_accuracy: 0.9234 - lr: 1.0000e-07\n",
            "Epoch 60/100\n",
            "243/242 [==============================] - ETA: 0s - loss: 0.0026 - accuracy: 0.9994\n",
            "Epoch 60: val_accuracy did not improve from 0.92504\n",
            "242/242 [==============================] - 69s 286ms/step - loss: 0.0026 - accuracy: 0.9994 - val_loss: 0.3660 - val_accuracy: 0.9226 - lr: 1.0000e-07\n",
            "Epoch 61/100\n",
            "243/242 [==============================] - ETA: 0s - loss: 0.0015 - accuracy: 1.0000\n",
            "Epoch 61: val_accuracy did not improve from 0.92504\n",
            "242/242 [==============================] - 69s 286ms/step - loss: 0.0015 - accuracy: 1.0000 - val_loss: 0.3589 - val_accuracy: 0.9226 - lr: 1.0000e-07\n",
            "Epoch 62/100\n",
            "243/242 [==============================] - ETA: 0s - loss: 0.0034 - accuracy: 0.9994\n",
            "Epoch 62: val_accuracy did not improve from 0.92504\n",
            "242/242 [==============================] - 69s 286ms/step - loss: 0.0034 - accuracy: 0.9994 - val_loss: 0.3518 - val_accuracy: 0.9234 - lr: 1.0000e-07\n",
            "Epoch 63/100\n",
            "243/242 [==============================] - ETA: 0s - loss: 0.0011 - accuracy: 1.0000\n",
            "Epoch 63: val_accuracy did not improve from 0.92504\n",
            "242/242 [==============================] - 69s 285ms/step - loss: 0.0011 - accuracy: 1.0000 - val_loss: 0.3559 - val_accuracy: 0.9234 - lr: 1.0000e-07\n",
            "Epoch 64/100\n",
            "243/242 [==============================] - ETA: 0s - loss: 0.0013 - accuracy: 1.0000\n",
            "Epoch 64: val_accuracy did not improve from 0.92504\n",
            "242/242 [==============================] - 69s 286ms/step - loss: 0.0013 - accuracy: 1.0000 - val_loss: 0.3496 - val_accuracy: 0.9234 - lr: 1.0000e-07\n",
            "Epoch 65/100\n",
            "243/242 [==============================] - ETA: 0s - loss: 0.0015 - accuracy: 0.9998\n",
            "Epoch 65: val_accuracy did not improve from 0.92504\n",
            "242/242 [==============================] - 69s 286ms/step - loss: 0.0015 - accuracy: 0.9998 - val_loss: 0.3521 - val_accuracy: 0.9234 - lr: 1.0000e-07\n",
            "Epoch 66/100\n",
            "243/242 [==============================] - ETA: 0s - loss: 0.0030 - accuracy: 0.9994\n",
            "Epoch 66: val_accuracy did not improve from 0.92504\n",
            "242/242 [==============================] - 69s 285ms/step - loss: 0.0030 - accuracy: 0.9994 - val_loss: 0.3532 - val_accuracy: 0.9226 - lr: 1.0000e-07\n",
            "Epoch 67/100\n",
            "243/242 [==============================] - ETA: 0s - loss: 0.0015 - accuracy: 0.9996\n",
            "Epoch 67: val_accuracy did not improve from 0.92504\n",
            "242/242 [==============================] - 69s 285ms/step - loss: 0.0015 - accuracy: 0.9996 - val_loss: 0.3514 - val_accuracy: 0.9234 - lr: 1.0000e-07\n",
            "Epoch 68/100\n",
            "243/242 [==============================] - ETA: 0s - loss: 8.2419e-04 - accuracy: 1.0000\n",
            "Epoch 68: val_accuracy did not improve from 0.92504\n",
            "242/242 [==============================] - 69s 285ms/step - loss: 8.2419e-04 - accuracy: 1.0000 - val_loss: 0.3601 - val_accuracy: 0.9234 - lr: 1.0000e-07\n",
            "Epoch 69/100\n",
            "243/242 [==============================] - ETA: 0s - loss: 0.0011 - accuracy: 0.9998\n",
            "Epoch 69: val_accuracy did not improve from 0.92504\n",
            "242/242 [==============================] - 69s 285ms/step - loss: 0.0011 - accuracy: 0.9998 - val_loss: 0.3655 - val_accuracy: 0.9226 - lr: 1.0000e-07\n",
            "Epoch 70/100\n",
            "243/242 [==============================] - ETA: 0s - loss: 0.0047 - accuracy: 0.9992\n",
            "Epoch 70: val_accuracy did not improve from 0.92504\n",
            "242/242 [==============================] - 69s 285ms/step - loss: 0.0047 - accuracy: 0.9992 - val_loss: 0.3549 - val_accuracy: 0.9226 - lr: 1.0000e-07\n",
            "Epoch 71/100\n",
            "243/242 [==============================] - ETA: 0s - loss: 0.0053 - accuracy: 0.9986\n",
            "Epoch 71: val_accuracy did not improve from 0.92504\n",
            "242/242 [==============================] - 69s 286ms/step - loss: 0.0053 - accuracy: 0.9986 - val_loss: 0.3555 - val_accuracy: 0.9234 - lr: 1.0000e-07\n",
            "Epoch 72/100\n",
            "243/242 [==============================] - ETA: 0s - loss: 0.0013 - accuracy: 0.9998\n",
            "Epoch 72: val_accuracy did not improve from 0.92504\n",
            "242/242 [==============================] - 69s 285ms/step - loss: 0.0013 - accuracy: 0.9998 - val_loss: 0.3540 - val_accuracy: 0.9226 - lr: 1.0000e-07\n",
            "Epoch 73/100\n",
            "243/242 [==============================] - ETA: 0s - loss: 0.0014 - accuracy: 0.9996\n",
            "Epoch 73: val_accuracy did not improve from 0.92504\n",
            "242/242 [==============================] - 69s 285ms/step - loss: 0.0014 - accuracy: 0.9996 - val_loss: 0.3581 - val_accuracy: 0.9226 - lr: 1.0000e-07\n",
            "Epoch 74/100\n",
            "243/242 [==============================] - ETA: 0s - loss: 0.0016 - accuracy: 0.9998\n",
            "Epoch 74: val_accuracy did not improve from 0.92504\n",
            "242/242 [==============================] - 69s 285ms/step - loss: 0.0016 - accuracy: 0.9998 - val_loss: 0.3529 - val_accuracy: 0.9234 - lr: 1.0000e-07\n",
            "Epoch 75/100\n",
            "243/242 [==============================] - ETA: 0s - loss: 0.0058 - accuracy: 0.9984\n",
            "Epoch 75: val_accuracy did not improve from 0.92504\n",
            "242/242 [==============================] - 70s 287ms/step - loss: 0.0058 - accuracy: 0.9984 - val_loss: 0.3581 - val_accuracy: 0.9234 - lr: 1.0000e-07\n",
            "Epoch 76/100\n",
            "243/242 [==============================] - ETA: 0s - loss: 0.0015 - accuracy: 0.9998\n",
            "Epoch 76: val_accuracy did not improve from 0.92504\n",
            "242/242 [==============================] - 69s 286ms/step - loss: 0.0015 - accuracy: 0.9998 - val_loss: 0.3569 - val_accuracy: 0.9226 - lr: 1.0000e-07\n",
            "Epoch 77/100\n",
            "243/242 [==============================] - ETA: 0s - loss: 0.0011 - accuracy: 1.0000\n",
            "Epoch 77: val_accuracy did not improve from 0.92504\n",
            "242/242 [==============================] - 69s 286ms/step - loss: 0.0011 - accuracy: 1.0000 - val_loss: 0.3600 - val_accuracy: 0.9234 - lr: 1.0000e-07\n",
            "Epoch 78/100\n",
            "243/242 [==============================] - ETA: 0s - loss: 0.0030 - accuracy: 0.9994\n",
            "Epoch 78: val_accuracy did not improve from 0.92504\n",
            "242/242 [==============================] - 69s 286ms/step - loss: 0.0030 - accuracy: 0.9994 - val_loss: 0.3537 - val_accuracy: 0.9234 - lr: 1.0000e-07\n",
            "Epoch 79/100\n",
            "243/242 [==============================] - ETA: 0s - loss: 0.0030 - accuracy: 0.9996\n",
            "Epoch 79: val_accuracy did not improve from 0.92504\n",
            "242/242 [==============================] - 69s 286ms/step - loss: 0.0030 - accuracy: 0.9996 - val_loss: 0.3588 - val_accuracy: 0.9242 - lr: 1.0000e-07\n",
            "Epoch 80/100\n",
            "243/242 [==============================] - ETA: 0s - loss: 0.0015 - accuracy: 0.9998\n",
            "Epoch 80: val_accuracy did not improve from 0.92504\n",
            "242/242 [==============================] - 69s 286ms/step - loss: 0.0015 - accuracy: 0.9998 - val_loss: 0.3568 - val_accuracy: 0.9234 - lr: 1.0000e-07\n",
            "Epoch 81/100\n",
            "243/242 [==============================] - ETA: 0s - loss: 0.0015 - accuracy: 0.9998\n",
            "Epoch 81: val_accuracy did not improve from 0.92504\n",
            "242/242 [==============================] - 69s 285ms/step - loss: 0.0015 - accuracy: 0.9998 - val_loss: 0.3541 - val_accuracy: 0.9242 - lr: 1.0000e-07\n",
            "Epoch 82/100\n",
            "243/242 [==============================] - ETA: 0s - loss: 0.0014 - accuracy: 0.9998\n",
            "Epoch 82: val_accuracy did not improve from 0.92504\n",
            "242/242 [==============================] - 69s 285ms/step - loss: 0.0014 - accuracy: 0.9998 - val_loss: 0.3612 - val_accuracy: 0.9242 - lr: 1.0000e-07\n",
            "Epoch 83/100\n",
            "243/242 [==============================] - ETA: 0s - loss: 0.0014 - accuracy: 0.9996\n",
            "Epoch 83: val_accuracy did not improve from 0.92504\n",
            "242/242 [==============================] - 69s 285ms/step - loss: 0.0014 - accuracy: 0.9996 - val_loss: 0.3577 - val_accuracy: 0.9234 - lr: 1.0000e-07\n",
            "Epoch 84/100\n",
            "243/242 [==============================] - ETA: 0s - loss: 0.0029 - accuracy: 0.9994\n",
            "Epoch 84: val_accuracy did not improve from 0.92504\n",
            "242/242 [==============================] - 69s 285ms/step - loss: 0.0029 - accuracy: 0.9994 - val_loss: 0.3613 - val_accuracy: 0.9242 - lr: 1.0000e-07\n",
            "Epoch 85/100\n",
            "243/242 [==============================] - ETA: 0s - loss: 0.0013 - accuracy: 0.9998\n",
            "Epoch 85: val_accuracy did not improve from 0.92504\n",
            "242/242 [==============================] - 69s 285ms/step - loss: 0.0013 - accuracy: 0.9998 - val_loss: 0.3624 - val_accuracy: 0.9234 - lr: 1.0000e-07\n",
            "Epoch 86/100\n",
            "243/242 [==============================] - ETA: 0s - loss: 0.0012 - accuracy: 1.0000\n",
            "Epoch 86: val_accuracy did not improve from 0.92504\n",
            "242/242 [==============================] - 69s 285ms/step - loss: 0.0012 - accuracy: 1.0000 - val_loss: 0.3568 - val_accuracy: 0.9234 - lr: 1.0000e-07\n",
            "Epoch 87/100\n",
            "243/242 [==============================] - ETA: 0s - loss: 0.0038 - accuracy: 0.9992\n",
            "Epoch 87: val_accuracy did not improve from 0.92504\n",
            "242/242 [==============================] - 69s 286ms/step - loss: 0.0038 - accuracy: 0.9992 - val_loss: 0.3585 - val_accuracy: 0.9226 - lr: 1.0000e-07\n",
            "Epoch 88/100\n",
            "243/242 [==============================] - ETA: 0s - loss: 0.0012 - accuracy: 0.9998\n",
            "Epoch 88: val_accuracy did not improve from 0.92504\n",
            "242/242 [==============================] - 69s 286ms/step - loss: 0.0012 - accuracy: 0.9998 - val_loss: 0.3515 - val_accuracy: 0.9234 - lr: 1.0000e-07\n",
            "Epoch 89/100\n",
            "243/242 [==============================] - ETA: 0s - loss: 0.0012 - accuracy: 1.0000\n",
            "Epoch 89: val_accuracy did not improve from 0.92504\n",
            "242/242 [==============================] - 69s 285ms/step - loss: 0.0012 - accuracy: 1.0000 - val_loss: 0.3546 - val_accuracy: 0.9234 - lr: 1.0000e-07\n",
            "Epoch 90/100\n",
            "243/242 [==============================] - ETA: 0s - loss: 0.0011 - accuracy: 1.0000\n",
            "Epoch 90: val_accuracy did not improve from 0.92504\n",
            "242/242 [==============================] - 69s 286ms/step - loss: 0.0011 - accuracy: 1.0000 - val_loss: 0.3609 - val_accuracy: 0.9234 - lr: 1.0000e-07\n",
            "Epoch 91/100\n",
            "243/242 [==============================] - ETA: 0s - loss: 0.0015 - accuracy: 0.9998\n",
            "Epoch 91: val_accuracy did not improve from 0.92504\n",
            "242/242 [==============================] - 69s 285ms/step - loss: 0.0015 - accuracy: 0.9998 - val_loss: 0.3531 - val_accuracy: 0.9226 - lr: 1.0000e-07\n",
            "Epoch 92/100\n",
            "243/242 [==============================] - ETA: 0s - loss: 0.0011 - accuracy: 1.0000\n",
            "Epoch 92: val_accuracy did not improve from 0.92504\n",
            "242/242 [==============================] - 69s 285ms/step - loss: 0.0011 - accuracy: 1.0000 - val_loss: 0.3620 - val_accuracy: 0.9234 - lr: 1.0000e-07\n",
            "Epoch 93/100\n",
            "243/242 [==============================] - ETA: 0s - loss: 0.0012 - accuracy: 0.9998\n",
            "Epoch 93: val_accuracy did not improve from 0.92504\n",
            "242/242 [==============================] - 69s 286ms/step - loss: 0.0012 - accuracy: 0.9998 - val_loss: 0.3573 - val_accuracy: 0.9234 - lr: 1.0000e-07\n",
            "Epoch 94/100\n",
            "243/242 [==============================] - ETA: 0s - loss: 0.0018 - accuracy: 0.9996\n",
            "Epoch 94: val_accuracy did not improve from 0.92504\n",
            "242/242 [==============================] - 69s 286ms/step - loss: 0.0018 - accuracy: 0.9996 - val_loss: 0.3575 - val_accuracy: 0.9217 - lr: 1.0000e-07\n",
            "Epoch 95/100\n",
            "243/242 [==============================] - ETA: 0s - loss: 0.0047 - accuracy: 0.9988\n",
            "Epoch 95: val_accuracy did not improve from 0.92504\n",
            "242/242 [==============================] - 69s 285ms/step - loss: 0.0047 - accuracy: 0.9988 - val_loss: 0.3515 - val_accuracy: 0.9226 - lr: 1.0000e-07\n",
            "Epoch 96/100\n",
            "243/242 [==============================] - ETA: 0s - loss: 0.0014 - accuracy: 0.9998\n",
            "Epoch 96: val_accuracy did not improve from 0.92504\n",
            "242/242 [==============================] - 69s 285ms/step - loss: 0.0014 - accuracy: 0.9998 - val_loss: 0.3563 - val_accuracy: 0.9234 - lr: 1.0000e-07\n",
            "Epoch 97/100\n",
            "243/242 [==============================] - ETA: 0s - loss: 0.0011 - accuracy: 1.0000\n",
            "Epoch 97: val_accuracy did not improve from 0.92504\n",
            "242/242 [==============================] - 69s 286ms/step - loss: 0.0011 - accuracy: 1.0000 - val_loss: 0.3518 - val_accuracy: 0.9234 - lr: 1.0000e-07\n",
            "Epoch 98/100\n",
            "243/242 [==============================] - ETA: 0s - loss: 8.6149e-04 - accuracy: 0.9998\n",
            "Epoch 98: val_accuracy did not improve from 0.92504\n",
            "242/242 [==============================] - 69s 286ms/step - loss: 8.6149e-04 - accuracy: 0.9998 - val_loss: 0.3616 - val_accuracy: 0.9242 - lr: 1.0000e-07\n",
            "Epoch 99/100\n",
            "243/242 [==============================] - ETA: 0s - loss: 0.0017 - accuracy: 0.9998\n",
            "Epoch 99: val_accuracy did not improve from 0.92504\n",
            "242/242 [==============================] - 70s 288ms/step - loss: 0.0017 - accuracy: 0.9998 - val_loss: 0.3572 - val_accuracy: 0.9234 - lr: 1.0000e-07\n",
            "Epoch 100/100\n",
            "243/242 [==============================] - ETA: 0s - loss: 0.0015 - accuracy: 0.9996\n",
            "Epoch 100: val_accuracy did not improve from 0.92504\n",
            "242/242 [==============================] - 69s 286ms/step - loss: 0.0015 - accuracy: 0.9996 - val_loss: 0.3610 - val_accuracy: 0.9242 - lr: 1.0000e-07\n"
          ]
        }
      ],
      "source": [
        "### lung model.fit\n",
        "\n",
        "with tf.device('/device:GPU:0'):\n",
        "  history = model.fit( x = x_train, y = y_train, batch_size=BATCH_SIZE,\n",
        "      steps_per_epoch=x_train.shape[0] / BATCH_SIZE,\n",
        "      epochs=100,\n",
        "      validation_steps = x_val.shape[0] / BATCH_SIZE,\n",
        "      validation_data=(x_val, y_val),\n",
        "      callbacks=[learn_control, checkpoint])"
      ]
    },
    {
      "cell_type": "code",
      "execution_count": 12,
      "metadata": {
        "id": "Vxs-CDC3Q8jw",
        "colab": {
          "base_uri": "https://localhost:8080/",
          "height": 513
        },
        "outputId": "36bc5c3d-1bf2-4a81-db2d-49dd23686b16"
      },
      "outputs": [
        {
          "output_type": "display_data",
          "data": {
            "text/plain": [
              "<Figure size 432x288 with 1 Axes>"
            ],
            "image/png": "[encoded data removed]"
          },
          "metadata": {
            "needs_background": "light"
          }
        },
        {
          "output_type": "display_data",
          "data": {
            "text/plain": [
              "<Figure size 432x288 with 1 Axes>"
            ],
            "image/png": "[encoded data removed]"
          },
          "metadata": {
            "needs_background": "light"
          }
        }
      ],
      "source": [
        "# plot the loss\n",
        "plt.plot(history.history['loss'], label='train loss')\n",
        "plt.plot(history.history['val_loss'], label='val loss')\n",
        "plt.legend()\n",
        "plt.show()\n",
        "\n",
        "# plot the accuracy\n",
        "plt.plot(history.history['accuracy'], label='train acc')\n",
        "plt.plot(history.history['val_accuracy'], label='val acc')\n",
        "plt.legend()\n",
        "plt.show()"
      ]
    },
    {
      "cell_type": "code",
      "execution_count": null,
      "metadata": {
        "id": "RXAJgKlxSqSt"
      },
      "outputs": [],
      "source": [
        "with open('history.json', 'w') as f:\n",
        "    json.dump(str(history.history), f)"
      ]
    },
    {
      "cell_type": "code",
      "execution_count": null,
      "metadata": {
        "id": "Q_91LlCWSqSy"
      },
      "outputs": [],
      "source": [
        "history_df = pd.DataFrame(history.history)\n",
        "history_df[['acc', 'val_acc']].plot()"
      ]
    },
    {
      "cell_type": "code",
      "execution_count": null,
      "metadata": {
        "id": "IlBxAgv_SqS3"
      },
      "outputs": [],
      "source": [
        "history_df = pd.DataFrame(history.history)\n",
        "history_df[['loss', 'val_loss']].plot()"
      ]
    },
    {
      "cell_type": "code",
      "execution_count": null,
      "metadata": {
        "id": "PZcb04DwDM7D"
      },
      "outputs": [],
      "source": [
        "X_train.shape"
      ]
    },
    {
      "cell_type": "markdown",
      "metadata": {
        "id": "vZJCGQnCSqS8"
      },
      "source": [
        "# Prediction"
      ]
    },
    {
      "cell_type": "code",
      "execution_count": null,
      "metadata": {
        "id": "BGxPt71KSqS9"
      },
      "outputs": [],
      "source": [
        "model.load_weights(\"resnet50.lung.best.raw.hdf5\")"
      ]
    },
    {
      "cell_type": "code",
      "execution_count": null,
      "metadata": {
        "id": "hr5CdtGLSqTB"
      },
      "outputs": [],
      "source": [
        "Y_val_pred = model.predict(x_val)"
      ]
    },
    {
      "cell_type": "code",
      "execution_count": null,
      "metadata": {
        "id": "nipQelbV0VIK",
        "colab": {
          "base_uri": "https://localhost:8080/"
        },
        "outputId": "e2415434-a7e4-4334-8159-9b10a9488226"
      },
      "outputs": [
        {
          "output_type": "execute_result",
          "data": {
            "text/plain": [
              "(1214, 3)"
            ]
          },
          "metadata": {},
          "execution_count": 16
        }
      ],
      "source": [
        "Y_val_pred.shape"
      ]
    },
    {
      "cell_type": "code",
      "source": [
        "x_val.shape"
      ],
      "metadata": {
        "colab": {
          "base_uri": "https://localhost:8080/"
        },
        "id": "XOtkPPi9kuIC",
        "outputId": "7aa229b6-42b3-4166-cd8f-8b5fcf809034"
      },
      "execution_count": null,
      "outputs": [
        {
          "output_type": "execute_result",
          "data": {
            "text/plain": [
              "(1214, 256, 256, 3)"
            ]
          },
          "metadata": {},
          "execution_count": 22
        }
      ]
    },
    {
      "cell_type": "code",
      "source": [
        "accuracy_score(np.argmax(y_val, axis=1), np.argmax(Y_val_pred, axis=1))"
      ],
      "metadata": {
        "colab": {
          "base_uri": "https://localhost:8080/",
          "height": 320
        },
        "id": "w945Pf73kumT",
        "outputId": "4283e4f3-4126-4441-8caa-93e2b52f0422"
      },
      "execution_count": null,
      "outputs": [
        {
          "output_type": "error",
          "ename": "ValueError",
          "evalue": "ignored",
          "traceback": [
            "\u001b[0;31m---------------------------------------------------------------------------\u001b[0m",
            "\u001b[0;31mValueError\u001b[0m                                Traceback (most recent call last)",
            "\u001b[0;32m<ipython-input-28-c9e394f32906>\u001b[0m in \u001b[0;36m<module>\u001b[0;34m()\u001b[0m\n\u001b[0;32m----> 1\u001b[0;31m \u001b[0maccuracy_score\u001b[0m\u001b[0;34m(\u001b[0m\u001b[0mnp\u001b[0m\u001b[0;34m.\u001b[0m\u001b[0margmax\u001b[0m\u001b[0;34m(\u001b[0m\u001b[0mx_val\u001b[0m\u001b[0;34m,\u001b[0m \u001b[0maxis\u001b[0m\u001b[0;34m=\u001b[0m\u001b[0;36m1\u001b[0m\u001b[0;34m)\u001b[0m\u001b[0;34m,\u001b[0m \u001b[0mnp\u001b[0m\u001b[0;34m.\u001b[0m\u001b[0margmax\u001b[0m\u001b[0;34m(\u001b[0m\u001b[0mY_val_pred\u001b[0m\u001b[0;34m,\u001b[0m \u001b[0maxis\u001b[0m\u001b[0;34m=\u001b[0m\u001b[0;36m1\u001b[0m\u001b[0;34m)\u001b[0m\u001b[0;34m)\u001b[0m\u001b[0;34m\u001b[0m\u001b[0;34m\u001b[0m\u001b[0m\n\u001b[0m",
            "\u001b[0;32m/usr/local/lib/python3.7/dist-packages/sklearn/metrics/_classification.py\u001b[0m in \u001b[0;36maccuracy_score\u001b[0;34m(y_true, y_pred, normalize, sample_weight)\u001b[0m\n\u001b[1;32m    209\u001b[0m \u001b[0;34m\u001b[0m\u001b[0m\n\u001b[1;32m    210\u001b[0m     \u001b[0;31m# Compute accuracy for each possible representation\u001b[0m\u001b[0;34m\u001b[0m\u001b[0;34m\u001b[0m\u001b[0;34m\u001b[0m\u001b[0m\n\u001b[0;32m--> 211\u001b[0;31m     \u001b[0my_type\u001b[0m\u001b[0;34m,\u001b[0m \u001b[0my_true\u001b[0m\u001b[0;34m,\u001b[0m \u001b[0my_pred\u001b[0m \u001b[0;34m=\u001b[0m \u001b[0m_check_targets\u001b[0m\u001b[0;34m(\u001b[0m\u001b[0my_true\u001b[0m\u001b[0;34m,\u001b[0m \u001b[0my_pred\u001b[0m\u001b[0;34m)\u001b[0m\u001b[0;34m\u001b[0m\u001b[0;34m\u001b[0m\u001b[0m\n\u001b[0m\u001b[1;32m    212\u001b[0m     \u001b[0mcheck_consistent_length\u001b[0m\u001b[0;34m(\u001b[0m\u001b[0my_true\u001b[0m\u001b[0;34m,\u001b[0m \u001b[0my_pred\u001b[0m\u001b[0;34m,\u001b[0m \u001b[0msample_weight\u001b[0m\u001b[0;34m)\u001b[0m\u001b[0;34m\u001b[0m\u001b[0;34m\u001b[0m\u001b[0m\n\u001b[1;32m    213\u001b[0m     \u001b[0;32mif\u001b[0m \u001b[0my_type\u001b[0m\u001b[0;34m.\u001b[0m\u001b[0mstartswith\u001b[0m\u001b[0;34m(\u001b[0m\u001b[0;34m\"multilabel\"\u001b[0m\u001b[0;34m)\u001b[0m\u001b[0;34m:\u001b[0m\u001b[0;34m\u001b[0m\u001b[0;34m\u001b[0m\u001b[0m\n",
            "\u001b[0;32m/usr/local/lib/python3.7/dist-packages/sklearn/metrics/_classification.py\u001b[0m in \u001b[0;36m_check_targets\u001b[0;34m(y_true, y_pred)\u001b[0m\n\u001b[1;32m     93\u001b[0m         raise ValueError(\n\u001b[1;32m     94\u001b[0m             \"Classification metrics can't handle a mix of {0} and {1} targets\".format(\n\u001b[0;32m---> 95\u001b[0;31m                 \u001b[0mtype_true\u001b[0m\u001b[0;34m,\u001b[0m \u001b[0mtype_pred\u001b[0m\u001b[0;34m\u001b[0m\u001b[0;34m\u001b[0m\u001b[0m\n\u001b[0m\u001b[1;32m     96\u001b[0m             )\n\u001b[1;32m     97\u001b[0m         )\n",
            "\u001b[0;31mValueError\u001b[0m: Classification metrics can't handle a mix of unknown and multiclass targets"
          ]
        }
      ]
    },
    {
      "cell_type": "code",
      "source": [
        "confusion_matrix(np.argmax(Y_test, axis=1), np.argmax(Y_pred, axis=1))"
      ],
      "metadata": {
        "id": "Lhc3HDK0lCHo"
      },
      "execution_count": null,
      "outputs": []
    },
    {
      "cell_type": "code",
      "source": [
        "rawPatch = np.load('rawPatch.npy')"
      ],
      "metadata": {
        "id": "BQBQK8UkpCjY"
      },
      "execution_count": null,
      "outputs": []
    },
    {
      "cell_type": "code",
      "source": [
        "rawPatch.shape"
      ],
      "metadata": {
        "colab": {
          "base_uri": "https://localhost:8080/"
        },
        "id": "2OmGzaUZpJ_Q",
        "outputId": "ade373d6-2b85-4d76-b5be-9697a1f5bd01"
      },
      "execution_count": null,
      "outputs": [
        {
          "output_type": "execute_result",
          "data": {
            "text/plain": [
              "(256, 256, 3)"
            ]
          },
          "metadata": {},
          "execution_count": 30
        }
      ]
    },
    {
      "cell_type": "code",
      "source": [
        ""
      ],
      "metadata": {
        "id": "_phG3cZRpK96"
      },
      "execution_count": null,
      "outputs": []
    }
  ],
  "metadata": {
    "colab": {
      "collapsed_sections": [],
      "name": "wikmm cancer classification models.ipynb",
      "provenance": []
    },
    "kernelspec": {
      "display_name": "Python 3",
      "name": "python3"
    },
    "language_info": {
      "codemirror_mode": {
        "name": "ipython",
        "version": 3
      },
      "file_extension": ".py",
      "mimetype": "text/x-python",
      "name": "python",
      "nbconvert_exporter": "python",
      "pygments_lexer": "ipython3",
      "version": "3.6.7"
    }
  },
  "nbformat": 4,
  "nbformat_minor": 0
}
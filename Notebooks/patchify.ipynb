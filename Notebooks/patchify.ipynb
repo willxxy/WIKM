{
  "nbformat": 4,
  "nbformat_minor": 0,
  "metadata": {
    "colab": {
      "name": "patchify.ipynb",
      "provenance": []
    },
    "kernelspec": {
      "name": "python3",
      "display_name": "Python 3"
    },
    "language_info": {
      "name": "python"
    }
  },
  "cells": [
    {
      "cell_type": "code",
      "source": [
        "import torch\n",
        "import torch.nn as nn\n",
        "import torch.nn.functional as F\n",
        "import torchvision\n",
        "import torchvision.transforms as transforms\n",
        "from torch.utils.data import DataLoader,Dataset\n",
        "import tensorflow as tf\n",
        "import numpy as np\n",
        "import pandas as pd\n",
        "import matplotlib.pyplot as plt \n",
        "import argparse\n",
        "import cv2\n",
        "from google.colab.patches import cv2_imshow\n",
        "import pathlib\n",
        "import PIL\n",
        "import os\n",
        "import json\n",
        "import random"
      ],
      "metadata": {
        "id": "WuFqXv1YhQJH"
      },
      "execution_count": 2,
      "outputs": []
    },
    {
      "cell_type": "code",
      "execution_count": 5,
      "metadata": {
        "colab": {
          "base_uri": "https://localhost:8080/"
        },
        "id": "2BVHl464fz94",
        "outputId": "5ab7c520-2da0-411d-eb2a-35db439b6cb9"
      },
      "outputs": [
        {
          "output_type": "stream",
          "name": "stdout",
          "text": [
            "Mounted at /content/drive\n"
          ]
        }
      ],
      "source": [
        "from google.colab import drive\n",
        "drive.mount('/content/drive')\n",
        "os.chdir('/content/drive/MyDrive/WIKM')"
      ]
    },
    {
      "cell_type": "markdown",
      "source": [
        "Helper Functions"
      ],
      "metadata": {
        "id": "P44jVwNqiRdI"
      }
    },
    {
      "cell_type": "code",
      "source": [
        "# put mask over image\n",
        "def maskOverImage(source, mask):\n",
        "  source2 = cv2.resize(mask, source.shape[1::-1])\n",
        "\n",
        "  dst = cv2.bitwise_and(source, source2)\n",
        "\n",
        "  return dst\n",
        "\n",
        "\n",
        "#create folder\n",
        "def createFolderandChdir(pathToFolder):\n",
        "  if not os.path.exists(pathToFolder):\n",
        "    os.makedirs(pathToFolder)\n",
        "\n",
        "  os.chdir(pathToFolder)"
      ],
      "metadata": {
        "id": "k3AXP8pMhgCB"
      },
      "execution_count": 6,
      "outputs": []
    },
    {
      "cell_type": "markdown",
      "source": [
        "### JSON structure "
      ],
      "metadata": {
        "id": "tCjVUR_aiNhu"
      }
    },
    {
      "cell_type": "code",
      "source": [
        "import pathlib\n",
        "import os\n",
        "import json\n",
        "# os.chdir('/content/drive/My Drive/WIKM')\n",
        "datasetPath = pathlib.Path(\"/content/drive/My Drive/WIKM/data/LungCancer\")\n",
        "pathDataset = []\n",
        "\n",
        "patientDirs = sorted([str(pathlib.Path(datasetPath, patient)) for patient in os.listdir(datasetPath) if patient != \"FinalPublishedResults\"]) # names of all the folders\n",
        "\n",
        "# print(patientDirs)\n",
        "# print()\n",
        "\n",
        "for patientNumber, patientDir in enumerate(patientDirs, 1):\n",
        "  slidesImages = sorted(os.listdir(str(patientDir) + '/images'))\n",
        "  maskImages = sorted(os.listdir(str(patientDir) + '/annotations'))\n",
        "\n",
        "  slideDict = {}\n",
        "\n",
        "  for slideNum, images in enumerate(slidesImages, 1):\n",
        "    slideKey = f'slide{slideNum}'\n",
        "    slideDict[slideKey] = {}\n",
        "    slideDict[slideKey]['imgPath'] = str(pathlib.Path(str(patientDir), 'images', images).absolute())\n",
        "    slideDict[slideKey]['invasive'] = list()\n",
        "    slideDict[slideKey]['in_situ'] = list()\n",
        "    slideDict[slideKey]['both'] = list()\n",
        "    slideDict[slideKey]['airway'] = \"\"\n",
        "    slideDict[slideKey]['blood'] = \"\"\n",
        "    annotsForCurrSlide = [annot for annot in maskImages if annot[:18] == images[:-5]]\n",
        "\n",
        "    for annotations in annotsForCurrSlide:\n",
        "      pathToAnnotation = str(pathlib.Path(patientDir, 'annotations', annotations))\n",
        "      serial = annotations[33:-5]\n",
        "\n",
        "      if serial in [\"R000G000B255\",\"R001G000B255\",\"R002G000B255\"]: #in situ\n",
        "          slideDict[slideKey]['in_situ'].append(pathToAnnotation)\n",
        "      elif serial in [\"R000G255B000\", \"R001G255B000\", \"R002G255B000\", \"R003G255B000\", \"R004G255B000\", \"R005G255B000\", \"R006G255B000\"]: #invasive\n",
        "          slideDict[slideKey]['invasive'].append(pathToAnnotation)\n",
        "      elif serial == \"R255G000B000\": #both region\n",
        "          slideDict[slideKey]['both'].append(pathToAnnotation)\n",
        "\n",
        "\n",
        "    patientDirPathObj = pathlib.Path(patientDir)\n",
        "    airPath = pathlib.Path(patientDirPathObj.parent, 'FinalPublishedResults', patientDirPathObj.name, 'histology', 'masks', 'airways')  #some don't have\n",
        "    bloodPath = pathlib.Path(patientDirPathObj.parent, 'FinalPublishedResults', patientDirPathObj.name, 'histology', 'masks', 'blood')\n",
        "\n",
        "    if os.path.exists(airPath):\n",
        "        for air in os.listdir(airPath):\n",
        "            if images[:-1].lower() == air.lower() or images[:-5].lower() == air[:-4].lower(): #some tif some png\n",
        "                slideDict[slideKey]['airway'] = str(pathlib.Path(airPath, air).absolute()) # os.path.join(airPath, air)\n",
        "\n",
        "    if os.path.exists(bloodPath):\n",
        "        for bld in os.listdir(bloodPath):\n",
        "            if images[:-1].lower() == bld.lower() or images[:-5].lower() == bld[:-4].lower():\n",
        "                slideDict[slideKey]['blood'] = str(pathlib.Path(bloodPath, bld).absolute()) # os.path.join(bloodPath, bld)\n",
        "\n",
        "  patientDict = {}\n",
        "  patientDict['patient{}'.format(patientNumber)] = slideDict\n",
        "  pathDataset.append(patientDict)\n",
        "\n",
        "#print(pathDataset)\n",
        "#print(json.dumps(pathDataset, indent = 5))"
      ],
      "metadata": {
        "id": "VADGw9xqhyo-"
      },
      "execution_count": null,
      "outputs": []
    },
    {
      "cell_type": "markdown",
      "source": [
        "### Masked normal region"
      ],
      "metadata": {
        "id": "Xe-yLxzoiF0d"
      }
    },
    {
      "cell_type": "code",
      "source": [
        "wikmMaskedImagesFolder = '//content//drive//My Drive//WIKM//maskedImages'\n",
        "os.chdir(wikmMaskedImagesFolder)\n",
        "# took about 10 minutes 20 seconds\n",
        "for patientDict in pathDataset:\n",
        "  for patientNum in patientDict:\n",
        "    os.chdir(wikmMaskedImagesFolder)\n",
        "    patientFolder = wikmMaskedImagesFolder + '//' + patientNum\n",
        "    createFolderandChdir(patientFolder)\n",
        "    # print(patientFolder)\n",
        "\n",
        "    for slideNum, slideDict in patientDict[patientNum].items():\n",
        "      slideFolder = patientFolder + '//' + slideNum\n",
        "      # print(slideFolder)\n",
        "      createFolderandChdir(slideFolder)\n",
        "\n",
        "      for slideKey, slideContents in slideDict.items():\n",
        "        if slideKey == 'imgPath':\n",
        "          slideImage = cv2.imread(slideContents)\n",
        "        \n",
        "        elif slideKey == 'invasive':\n",
        "          invasiveFolder = slideFolder + '//invasive'\n",
        "          createFolderandChdir(invasiveFolder)\n",
        "\n",
        "          for imageNum, invasiveSlide in enumerate(slideContents, 1):\n",
        "            imageName = str(patientNum) + '_{}'.format(slideNum) + '_INVASIVE_' + str(imageNum) + '.tiff'\n",
        "            imageToMask = cv2.imread(invasiveSlide)\n",
        "            maskedSlide = maskOverImage(slideImage, imageToMask)\n",
        "            cv2.imwrite(imageName, maskedSlide)\n",
        "\n",
        "        elif slideKey == 'in_situ':\n",
        "          inSituFolder = slideFolder + '//in_situ'\n",
        "          createFolderandChdir(inSituFolder)\n",
        "\n",
        "          for imageNum, inSitu in enumerate(slideContents, 1):\n",
        "            imageName = str(patientNum) + '_{}'.format(slideNum) + '_IN_SITU_' + str(imageNum) + '.tiff'\n",
        "            imageToMask = cv2.imread(inSitu)\n",
        "            maskedSlide = maskOverImage(slideImage, imageToMask)\n",
        "            cv2.imwrite(imageName, maskedSlide)\n",
        "\n",
        "        elif slideKey == 'both':\n",
        "          both = slideFolder + '//both'\n",
        "          createFolderandChdir(both)\n",
        "\n",
        "          for imageNum, both in enumerate(slideContents, 1):\n",
        "            imageName = str(patientNum) + '_{}'.format(slideNum) + '_BOTH_' + str(imageNum) + '.tiff'\n",
        "            imageToMask = cv2.imread(both)\n",
        "            maskedSlide = maskOverImage(slideImage, imageToMask)\n",
        "            cv2.imwrite(imageName, maskedSlide)\n",
        "\n",
        "        imageToMask = None\n"
      ],
      "metadata": {
        "id": "vFQ8OpW5h9RR"
      },
      "execution_count": null,
      "outputs": []
    },
    {
      "cell_type": "markdown",
      "source": [
        "### Install Patchify"
      ],
      "metadata": {
        "id": "I1b1kJyTjca2"
      }
    },
    {
      "cell_type": "code",
      "source": [
        "!pip install patchify"
      ],
      "metadata": {
        "id": "heYopsdkiZQc"
      },
      "execution_count": null,
      "outputs": []
    },
    {
      "cell_type": "markdown",
      "source": [
        "### Patching from Invasive, Both, and In Situ regions"
      ],
      "metadata": {
        "id": "85zhmQwIjd20"
      }
    },
    {
      "cell_type": "code",
      "source": [
        "from patchify import patchify, unpatchify\n",
        "from PIL import Image\n",
        "\n",
        "wikmMaskedImagesFolder = '//content//drive//My Drive//WIKM//maskedImages'\n",
        "\n",
        "patchedImagesPNG256x256 = '/content/drive/MyDrive/WIKM/patchedImagesPNG256x256'\n",
        "\n",
        "os.chdir(wikmMaskedImagesFolder)\n",
        "wikmMaskedImagesPath = pathlib.Path(wikmMaskedImagesFolder)\n",
        "\n",
        "\n",
        "patchNum = 1\n",
        "for patientFolder in wikmMaskedImagesPath.iterdir():\n",
        "  os.chdir(wikmMaskedImagesFolder)\n",
        "  patientPath = pathlib.Path(wikmMaskedImagesFolder, patientFolder)\n",
        "\n",
        "  for slideFolder in patientPath.iterdir():\n",
        "    slidePath = pathlib.Path(patientPath, slideFolder)\n",
        "    if slideFolder.name in ['both', 'in_situ', 'invasive']: # Checks for the right folder\n",
        "\n",
        "      for maskedImage in sorted(slidePath.iterdir()): # \"Patching\" the image\n",
        "        thisImageTotalPatches = 1\n",
        "        os.chdir(maskedImage.parent)\n",
        "        print('--ACCESSING IMAGE--', maskedImage.absolute())\n",
        "        image = cv2.imread(str(maskedImage.absolute()))\n",
        "\n",
        "        patches = patchify(image, (256, 256, 3), step = 256)    # im is image // 256x256 patches // 3 is the for colored image // step = 256\n",
        "        if not os.path.exists(patchedImagesPNG256x256 + '//' + patientFolder.name + '//' + slideFolder.name):\n",
        "          os.makedirs(patchedImagesPNG256x256 + '//' + patientFolder.name + '//' + slideFolder.name)\n",
        "\n",
        "        os.chdir(patchedImagesPNG256x256 + '//' + patientFolder.name + '//' + slideFolder.name)\n",
        "\n",
        "\n",
        "        for i in range(patches.shape[0]): #0 is first dimension\n",
        "            for j in range(patches.shape[1]): #1 is second dimension\n",
        "              singlePatch = patches[i, j, 0, :, :, :]\n",
        "\n",
        "              if not np.all(singlePatch == 0): #ignore all black patches\n",
        "                cv2.imwrite(f'Patch{patchNum}.png', singlePatch)\n",
        "                patchNum += 1"
      ],
      "metadata": {
        "id": "NHwhXrLaidK2"
      },
      "execution_count": null,
      "outputs": []
    },
    {
      "cell_type": "markdown",
      "source": [
        "### Reversing Mask (masking invasive, in situ, both)"
      ],
      "metadata": {
        "id": "sO98PcpgkyLi"
      }
    },
    {
      "cell_type": "code",
      "source": [
        "wikmMaskedImagesFolder = '//content//drive//My Drive//WIKM//maskedImages'\n",
        "wikmPatchedImagesFolderNorm = '//content//drive//My Drive//WIKM//normMaskedImages'\n",
        "\n",
        "os.chdir(wikmMaskedImagesFolder)\n",
        "wikmMaskedImagesPath = pathlib.Path(wikmMaskedImagesFolder)\n",
        "\n",
        "def combineAllMasks(masksList):\n",
        "  for maskNum, masksPath in enumerate(masksList):\n",
        "    if maskNum == 0:\n",
        "      currentMask = cv2.imread(masksPath)\n",
        "      prevMask = None\n",
        "    else:\n",
        "      currentMask = cv2.bitwise_or(cv2.imread(masksPath), currentMask)\n",
        "      prevMask = currentMask\n",
        "\n",
        "  return currentMask\n",
        "\n",
        "\n",
        "for patientDict in pathDataset: # remove [0] to do all patients\n",
        "  print(patientDict)\n",
        "  for patientKey, slideDict in patientDict.items(): # 1 value only\n",
        "    print(patientKey, slideDict)\n",
        "    for slideKey in slideDict:\n",
        "      if not(patientKey == 'patient5' and slideKey == 'slide3'):\n",
        "        if len(slideDict[slideKey]['both']) == 0:\n",
        "          masksList = []\n",
        "\n",
        "          for mask in slideDict[slideKey]['in_situ']:\n",
        "            masksList.append(mask)\n",
        "\n",
        "          for mask in slideDict[slideKey]['invasive']:\n",
        "            masksList.append(mask)\n",
        "\n",
        "          # reverse patch it through the both\n",
        "\n",
        "        else:\n",
        "          # reverse patch it through the in_situ and invasive combined\n",
        "          masksList = slideDict[slideKey]['both']\n",
        "\n",
        "        # combine the masks\n",
        "        combinedMasks = combineAllMasks(masksList) \n",
        "        combinedMasksInv = cv2.bitwise_not(combinedMasks)\n",
        "        slideImg = cv2.imread(slideDict[slideKey]['imgPath'])\n",
        "                              \n",
        "        assert combinedMasksInv.shape == slideImg.shape, (\"not the same size!\")\n",
        "\n",
        "        normal = cv2.bitwise_and(slideImg, combinedMasksInv)\n",
        "\n",
        "        os.chdir(wikmPatchedImagesFolderNorm)\n",
        "\n",
        "        cv2.imwrite(f'{patientKey}_{slideKey}_normal.png', normal) # patient1_slide1_normal.png"
      ],
      "metadata": {
        "id": "5zTPwyE-jqQ2"
      },
      "execution_count": null,
      "outputs": []
    },
    {
      "cell_type": "markdown",
      "source": [
        "### Patching Normal region"
      ],
      "metadata": {
        "id": "chBibg1Sk_BG"
      }
    },
    {
      "cell_type": "code",
      "source": [
        "wikmPatchedImagesFolderNorm = '//content//drive//My Drive//WIKM//normMaskedImages'\n",
        "wikmTrainNormalPatches = '/content/drive/MyDrive/WIKM/patchedImagesPNG256x256/Train/normal'\n",
        "wikmTestNormalPatches = '//content//drive//My Drive//WIKM//normalPatches//Test'\n",
        "wikmValidationNormalPatches = '//content//drive//My Drive//WIKM//normalPatches//Validation'\n",
        "os.chdir(wikmPatchedImagesFolderNorm)\n",
        "\n",
        "patchNum = 1\n",
        "for imageName in os.listdir(wikmPatchedImagesFolderNorm):\n",
        "  os.chdir(wikmPatchedImagesFolderNorm)\n",
        "  image = cv2.imread(imageName)\n",
        "  patches = patchify(image, (256, 256, 3), step = 256)    # im is image // 256x256 patches // 3 is the for colored image // step = 256\n",
        "\n",
        "  for i in range(patches.shape[0]): #0 is first dimension\n",
        "      for j in range(patches.shape[1]): #1 is second dimension\n",
        "        singlePatch = patches[i, j, 0, :, :, :]\n",
        "\n",
        "        if not (np.all(singlePatch == 0) or np.all(singlePatch == 255)):\n",
        "          #RNG = random.randint(1, 10)\n",
        "          #if RNG == 1:\n",
        "          #  os.chdir(wikmTestNormalPatches)\n",
        "          #  cv2.imwrite(f'Patch{patchNum}.png', singlePatch) # test\n",
        "          #elif RNG == 2:\n",
        "          #  os.chdir(wikmValidationNormalPatches)\n",
        "          #  cv2.imwrite(f'Patch{patchNum}.png', singlePatch) # validation\n",
        "          #else:\n",
        "          os.chdir(wikmTrainNormalPatches)\n",
        "          cv2.imwrite(f'Patch{patchNum}.png', singlePatch) # train\n",
        "        patchNum += 1"
      ],
      "metadata": {
        "id": "Xo-KF8nek_Tq"
      },
      "execution_count": null,
      "outputs": []
    }
  ]
}

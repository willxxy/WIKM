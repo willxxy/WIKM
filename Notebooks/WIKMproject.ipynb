{
  "cells": [
    {
      "cell_type": "code",
      "execution_count": null,
      "metadata": {
        "id": "uk0cJERiHwyB",
        "colab": {
          "base_uri": "https://localhost:8080/"
        },
        "outputId": "aa8aa312-0bd3-4767-ae47-37844e379194"
      },
      "outputs": [
        {
          "output_type": "stream",
          "name": "stdout",
          "text": [
            "Requirement already satisfied: torch in /usr/local/lib/python3.7/dist-packages (1.10.0+cu111)\n",
            "Requirement already satisfied: torchvision in /usr/local/lib/python3.7/dist-packages (0.11.1+cu111)\n",
            "Requirement already satisfied: typing-extensions in /usr/local/lib/python3.7/dist-packages (from torch) (3.10.0.2)\n",
            "Requirement already satisfied: numpy in /usr/local/lib/python3.7/dist-packages (from torchvision) (1.19.5)\n",
            "Requirement already satisfied: pillow!=8.3.0,>=5.3.0 in /usr/local/lib/python3.7/dist-packages (from torchvision) (7.1.2)\n",
            "Requirement already satisfied: torchsummary in /usr/local/lib/python3.7/dist-packages (1.5.1)\n",
            "Requirement already satisfied: tensorflow==2.7.0 in /usr/local/lib/python3.7/dist-packages (2.7.0)\n",
            "Requirement already satisfied: keras<2.8,>=2.7.0rc0 in /usr/local/lib/python3.7/dist-packages (from tensorflow==2.7.0) (2.7.0)\n",
            "Requirement already satisfied: absl-py>=0.4.0 in /usr/local/lib/python3.7/dist-packages (from tensorflow==2.7.0) (0.12.0)\n",
            "Requirement already satisfied: grpcio<2.0,>=1.24.3 in /usr/local/lib/python3.7/dist-packages (from tensorflow==2.7.0) (1.43.0)\n",
            "Requirement already satisfied: tensorflow-estimator<2.8,~=2.7.0rc0 in /usr/local/lib/python3.7/dist-packages (from tensorflow==2.7.0) (2.7.0)\n",
            "Requirement already satisfied: protobuf>=3.9.2 in /usr/local/lib/python3.7/dist-packages (from tensorflow==2.7.0) (3.17.3)\n",
            "Requirement already satisfied: six>=1.12.0 in /usr/local/lib/python3.7/dist-packages (from tensorflow==2.7.0) (1.15.0)\n",
            "Requirement already satisfied: opt-einsum>=2.3.2 in /usr/local/lib/python3.7/dist-packages (from tensorflow==2.7.0) (3.3.0)\n",
            "Requirement already satisfied: libclang>=9.0.1 in /usr/local/lib/python3.7/dist-packages (from tensorflow==2.7.0) (12.0.0)\n",
            "Requirement already satisfied: tensorboard~=2.6 in /usr/local/lib/python3.7/dist-packages (from tensorflow==2.7.0) (2.7.0)\n",
            "Requirement already satisfied: numpy>=1.14.5 in /usr/local/lib/python3.7/dist-packages (from tensorflow==2.7.0) (1.19.5)\n",
            "Requirement already satisfied: termcolor>=1.1.0 in /usr/local/lib/python3.7/dist-packages (from tensorflow==2.7.0) (1.1.0)\n",
            "Requirement already satisfied: astunparse>=1.6.0 in /usr/local/lib/python3.7/dist-packages (from tensorflow==2.7.0) (1.6.3)\n",
            "Requirement already satisfied: typing-extensions>=3.6.6 in /usr/local/lib/python3.7/dist-packages (from tensorflow==2.7.0) (3.10.0.2)\n",
            "Requirement already satisfied: flatbuffers<3.0,>=1.12 in /usr/local/lib/python3.7/dist-packages (from tensorflow==2.7.0) (2.0)\n",
            "Requirement already satisfied: keras-preprocessing>=1.1.1 in /usr/local/lib/python3.7/dist-packages (from tensorflow==2.7.0) (1.1.2)\n",
            "Requirement already satisfied: google-pasta>=0.1.1 in /usr/local/lib/python3.7/dist-packages (from tensorflow==2.7.0) (0.2.0)\n",
            "Requirement already satisfied: gast<0.5.0,>=0.2.1 in /usr/local/lib/python3.7/dist-packages (from tensorflow==2.7.0) (0.4.0)\n",
            "Requirement already satisfied: tensorflow-io-gcs-filesystem>=0.21.0 in /usr/local/lib/python3.7/dist-packages (from tensorflow==2.7.0) (0.23.1)\n",
            "Requirement already satisfied: wrapt>=1.11.0 in /usr/local/lib/python3.7/dist-packages (from tensorflow==2.7.0) (1.13.3)\n",
            "Requirement already satisfied: h5py>=2.9.0 in /usr/local/lib/python3.7/dist-packages (from tensorflow==2.7.0) (3.1.0)\n",
            "Requirement already satisfied: wheel<1.0,>=0.32.0 in /usr/local/lib/python3.7/dist-packages (from tensorflow==2.7.0) (0.37.1)\n",
            "Requirement already satisfied: cached-property in /usr/local/lib/python3.7/dist-packages (from h5py>=2.9.0->tensorflow==2.7.0) (1.5.2)\n",
            "Requirement already satisfied: markdown>=2.6.8 in /usr/local/lib/python3.7/dist-packages (from tensorboard~=2.6->tensorflow==2.7.0) (3.3.6)\n",
            "Requirement already satisfied: tensorboard-data-server<0.7.0,>=0.6.0 in /usr/local/lib/python3.7/dist-packages (from tensorboard~=2.6->tensorflow==2.7.0) (0.6.1)\n",
            "Requirement already satisfied: requests<3,>=2.21.0 in /usr/local/lib/python3.7/dist-packages (from tensorboard~=2.6->tensorflow==2.7.0) (2.23.0)\n",
            "Requirement already satisfied: google-auth<3,>=1.6.3 in /usr/local/lib/python3.7/dist-packages (from tensorboard~=2.6->tensorflow==2.7.0) (1.35.0)\n",
            "Requirement already satisfied: setuptools>=41.0.0 in /usr/local/lib/python3.7/dist-packages (from tensorboard~=2.6->tensorflow==2.7.0) (57.4.0)\n",
            "Requirement already satisfied: werkzeug>=0.11.15 in /usr/local/lib/python3.7/dist-packages (from tensorboard~=2.6->tensorflow==2.7.0) (1.0.1)\n",
            "Requirement already satisfied: google-auth-oauthlib<0.5,>=0.4.1 in /usr/local/lib/python3.7/dist-packages (from tensorboard~=2.6->tensorflow==2.7.0) (0.4.6)\n",
            "Requirement already satisfied: tensorboard-plugin-wit>=1.6.0 in /usr/local/lib/python3.7/dist-packages (from tensorboard~=2.6->tensorflow==2.7.0) (1.8.1)\n",
            "Requirement already satisfied: pyasn1-modules>=0.2.1 in /usr/local/lib/python3.7/dist-packages (from google-auth<3,>=1.6.3->tensorboard~=2.6->tensorflow==2.7.0) (0.2.8)\n",
            "Requirement already satisfied: rsa<5,>=3.1.4 in /usr/local/lib/python3.7/dist-packages (from google-auth<3,>=1.6.3->tensorboard~=2.6->tensorflow==2.7.0) (4.8)\n",
            "Requirement already satisfied: cachetools<5.0,>=2.0.0 in /usr/local/lib/python3.7/dist-packages (from google-auth<3,>=1.6.3->tensorboard~=2.6->tensorflow==2.7.0) (4.2.4)\n",
            "Requirement already satisfied: requests-oauthlib>=0.7.0 in /usr/local/lib/python3.7/dist-packages (from google-auth-oauthlib<0.5,>=0.4.1->tensorboard~=2.6->tensorflow==2.7.0) (1.3.0)\n",
            "Requirement already satisfied: importlib-metadata>=4.4 in /usr/local/lib/python3.7/dist-packages (from markdown>=2.6.8->tensorboard~=2.6->tensorflow==2.7.0) (4.10.0)\n",
            "Requirement already satisfied: zipp>=0.5 in /usr/local/lib/python3.7/dist-packages (from importlib-metadata>=4.4->markdown>=2.6.8->tensorboard~=2.6->tensorflow==2.7.0) (3.7.0)\n",
            "Requirement already satisfied: pyasn1<0.5.0,>=0.4.6 in /usr/local/lib/python3.7/dist-packages (from pyasn1-modules>=0.2.1->google-auth<3,>=1.6.3->tensorboard~=2.6->tensorflow==2.7.0) (0.4.8)\n",
            "Requirement already satisfied: urllib3!=1.25.0,!=1.25.1,<1.26,>=1.21.1 in /usr/local/lib/python3.7/dist-packages (from requests<3,>=2.21.0->tensorboard~=2.6->tensorflow==2.7.0) (1.24.3)\n",
            "Requirement already satisfied: idna<3,>=2.5 in /usr/local/lib/python3.7/dist-packages (from requests<3,>=2.21.0->tensorboard~=2.6->tensorflow==2.7.0) (2.10)\n",
            "Requirement already satisfied: certifi>=2017.4.17 in /usr/local/lib/python3.7/dist-packages (from requests<3,>=2.21.0->tensorboard~=2.6->tensorflow==2.7.0) (2021.10.8)\n",
            "Requirement already satisfied: chardet<4,>=3.0.2 in /usr/local/lib/python3.7/dist-packages (from requests<3,>=2.21.0->tensorboard~=2.6->tensorflow==2.7.0) (3.0.4)\n",
            "Requirement already satisfied: oauthlib>=3.0.0 in /usr/local/lib/python3.7/dist-packages (from requests-oauthlib>=0.7.0->google-auth-oauthlib<0.5,>=0.4.1->tensorboard~=2.6->tensorflow==2.7.0) (3.1.1)\n",
            "Collecting patchify\n",
            "  Downloading patchify-0.2.3-py3-none-any.whl (6.6 kB)\n",
            "Requirement already satisfied: numpy<2,>=1 in /usr/local/lib/python3.7/dist-packages (from patchify) (1.19.5)\n",
            "Installing collected packages: patchify\n",
            "Successfully installed patchify-0.2.3\n"
          ]
        }
      ],
      "source": [
        "!pip install -q sklearn\n",
        "!pip install torch torchvision\n",
        "!pip3 install torchsummary\n",
        "# !pip3 install torch==1.2.0+cu92 torchvision==0.4.0+cu92 -f https://download.pytorch.org/whl/torch_stable.html\n",
        "!pip install tensorflow==2.7.0\n",
        "!pip install patchify"
      ]
    },
    {
      "cell_type": "code",
      "source": [
        "%tensorflow_version 2.x\n",
        "import tensorflow as tf\n",
        "device_name = tf.test.gpu_device_name()\n",
        "if device_name != '/device:GPU:0':\n",
        "  raise SystemError('GPU device not found')\n",
        "print('Found GPU at: {}'.format(device_name))"
      ],
      "metadata": {
        "id": "6128Ots7c9eT",
        "colab": {
          "base_uri": "https://localhost:8080/"
        },
        "outputId": "32c9f37e-6b6a-411d-92a2-753865e246d4"
      },
      "execution_count": null,
      "outputs": [
        {
          "output_type": "stream",
          "name": "stdout",
          "text": [
            "Found GPU at: /device:GPU:0\n"
          ]
        }
      ]
    },
    {
      "cell_type": "markdown",
      "metadata": {
        "id": "grVc3IBfnSp0"
      },
      "source": [
        ""
      ]
    },
    {
      "cell_type": "code",
      "execution_count": null,
      "metadata": {
        "colab": {
          "base_uri": "https://localhost:8080/"
        },
        "id": "32cF4QtuIPAI",
        "outputId": "31a1c1f2-fd6f-45e0-b23e-31a37095a32b"
      },
      "outputs": [
        {
          "output_type": "stream",
          "name": "stdout",
          "text": [
            "Mounted at /content/drive\n"
          ]
        }
      ],
      "source": [
        "from google.colab import drive\n",
        "drive.mount('/content/drive')\n",
        "import os\n",
        "# os.chdir('drive/Shareddrives/WIKM') run this line (and comment below) if drive in ur shared drives\n",
        "os.chdir('/content/drive/MyDrive/WIKM')"
      ]
    },
    {
      "cell_type": "code",
      "source": [
        "print(len(os.listdir('/content/drive/MyDrive/WIKM/OsteosarcomaData/Non-Tumor')))\n",
        "print(len(os.listdir('/content/drive/MyDrive/WIKM/OsteosarcomaData/Non-Viable-Tumor')))\n",
        "print(len(os.listdir('/content/drive/MyDrive/WIKM/OsteosarcomaData/Viable')))"
      ],
      "metadata": {
        "id": "ILQPCrApKDeh",
        "outputId": "10c582a3-f877-472b-8c07-cefd28e7f35d",
        "colab": {
          "base_uri": "https://localhost:8080/"
        }
      },
      "execution_count": null,
      "outputs": [
        {
          "output_type": "stream",
          "name": "stdout",
          "text": [
            "488\n",
            "263\n",
            "292\n"
          ]
        }
      ]
    },
    {
      "cell_type": "code",
      "execution_count": null,
      "metadata": {
        "colab": {
          "base_uri": "https://localhost:8080/"
        },
        "id": "ovb6zIFlNsrB",
        "outputId": "f1a1af01-4c46-4987-b91c-2dde96393f28"
      },
      "outputs": [
        {
          "output_type": "stream",
          "name": "stdout",
          "text": [
            " data\t\t\t\t       patchedImagesPNG512x512\n",
            " lung_histopathology_bench_best.hdf5   Test_Images\n",
            " maskedImages\t\t\t       vgg_bone_model_100epoch.h5\n",
            " normMaskedImages\t\t      'WIKMM notes.gdoc'\n",
            "'notes and articles'\t\t      'WIKMM (update).gslides'\n",
            " OsteosarcomaData\t\t      'WIKM new test.ipynb'\n",
            " output\t\t\t\t       WIKMproject.ipynb\n",
            " patchedImagesPNG256x256\t      'WIKM Test.ipynb'\n"
          ]
        }
      ],
      "source": [
        "!ls"
      ]
    },
    {
      "cell_type": "code",
      "execution_count": null,
      "metadata": {
        "id": "Ygq9GWgLHfcw"
      },
      "outputs": [],
      "source": [
        "import torch\n",
        "import torch.nn as nn\n",
        "import torch.nn.functional as F\n",
        "import torchvision\n",
        "import torchvision.transforms as transforms\n",
        "from torch.utils.data import DataLoader,Dataset\n",
        "import tensorflow as tf\n",
        "import numpy as np\n",
        "import pandas as pd\n",
        "import matplotlib.pyplot as plt \n",
        "import argparse\n",
        "import cv2\n",
        "from google.colab.patches import cv2_imshow\n",
        "import pathlib\n",
        "import PIL\n",
        "import os\n",
        "import json"
      ]
    },
    {
      "cell_type": "markdown",
      "metadata": {
        "id": "oPeShTSAL9Oy"
      },
      "source": [
        "### Load tiff Images "
      ]
    },
    {
      "cell_type": "code",
      "execution_count": null,
      "metadata": {
        "id": "LnlTzAO6YYCR"
      },
      "outputs": [],
      "source": [
        "pip install opencv-python"
      ]
    },
    {
      "cell_type": "code",
      "execution_count": null,
      "metadata": {
        "id": "xZGbBpSDYHpn"
      },
      "outputs": [],
      "source": [
        "# (I though there's some difference for loading tiff images but turns out it's as simple as loading jpg)\n",
        "import cv2\n",
        "img_arr = cv2.imread('data/LungCancer/FinalPublishedResults/LungFCP-01-0001/histology/imgs/LungFCP-01-0001_B1.tif')\n",
        "print(img_arr.shape)\n",
        "print(type(img_arr))"
      ]
    },
    {
      "cell_type": "markdown",
      "metadata": {
        "id": "olARhJLBZOA3"
      },
      "source": [
        "### Build structure"
      ]
    },
    {
      "cell_type": "code",
      "execution_count": null,
      "metadata": {
        "id": "eLM--tKhaghn",
        "colab": {
          "base_uri": "https://localhost:8080/",
          "height": 50
        },
        "outputId": "878b4824-9bd8-4650-df32-3e022e9cd989"
      },
      "outputs": [
        {
          "output_type": "execute_result",
          "data": {
            "application/vnd.google.colaboratory.intrinsic+json": {
              "type": "string"
            },
            "text/plain": [
              "'\\nlist of dict of dict of list\\n[\\n  {patient1:\\n    {slide1: \\n      {path: imgPath},\\n      {airway: maskPath},\\n      {blood: maskPath},\\n      {invasive: [maskPath]},\\n      {in situ: [maskPath]},\\n      {both: [maskPath]}\\n    },\\n    {slide2:\\n      ...\\n    }\\n    ...\\n  },\\n  {patient2:\\n    ...\\n  },\\n  ...\\n]\\n'"
            ]
          },
          "metadata": {},
          "execution_count": 6
        }
      ],
      "source": [
        "'''\n",
        "list of dict of dict of list\n",
        "[\n",
        "  {patient1:\n",
        "    {slide1: \n",
        "      {path: imgPath},\n",
        "      {airway: maskPath},\n",
        "      {blood: maskPath},\n",
        "      {invasive: [maskPath]},\n",
        "      {in situ: [maskPath]},\n",
        "      {both: [maskPath]}\n",
        "    },\n",
        "    {slide2:\n",
        "      ...\n",
        "    }\n",
        "    ...\n",
        "  },\n",
        "  {patient2:\n",
        "    ...\n",
        "  },\n",
        "  ...\n",
        "]\n",
        "'''"
      ]
    },
    {
      "cell_type": "code",
      "execution_count": null,
      "metadata": {
        "id": "OSwlxr7mMCeO",
        "colab": {
          "base_uri": "https://localhost:8080/"
        },
        "outputId": "1ac17dc5-7c15-4ee0-ddb3-551c650118e3"
      },
      "outputs": [
        {
          "output_type": "stream",
          "name": "stdout",
          "text": [
            "patients ['LungFCP-01-0001', 'LungFCP-01-0002', 'LungFCP-01-0003', 'LungFCP-01-0004', 'LungFCP-01-0005', 'LungFCP-01-0006']\n"
          ]
        }
      ],
      "source": [
        "path = \"data/LungCancer\"\n",
        "pathDataset = []\n",
        "patients = os.listdir(path)\n",
        "patients.sort()\n",
        "#patients.remove(\"FinalPublishedResults\")\n",
        "print(\"patients\", patients) #folders\n",
        "for c, patient in enumerate(patients,1):\n",
        "    slideDict = {}\n",
        "    images = os.listdir(f'{path}/{patient}/images')\n",
        "    images.sort()\n",
        "    masks = os.listdir(f'{path}/{patient}/annotations')\n",
        "    masks.sort()\n",
        "    for i,img in enumerate(images,1):\n",
        "        slide = f'slide{i}'\n",
        "        slideDict[slide] = {}\n",
        "        slideDict[slide]['imgPath'] = os.path.join(path, patient, \"images\", img)\n",
        "        slideDict[slide]['invasive'] = list()\n",
        "        slideDict[slide]['in_situ'] = list()\n",
        "        slideDict[slide]['both'] = list()\n",
        "        slideDict[slide]['airway'] = \"\"\n",
        "        slideDict[slide]['blood'] = \"\"\n",
        "        \n",
        "        annot = [a for a in masks if a[:18] == img[:-5]]\n",
        "        annot.sort()\n",
        "        for mask in annot:\n",
        "            serial = mask[33:-5]\n",
        "            if serial in [\"R000G000B255\",\"R001G000B255\",\"R002G000B255\"]: #in situ\n",
        "                slideDict[slide]['in_situ'].append(os.path.join(path, patient, \"annotations\", mask))\n",
        "            elif serial in [\"R000G255B000\", \"R001G255B000\", \"R002G255B000\", \"R003G255B000\", \"R004G255B000\", \"R005G255B000\", \"R006G255B000\"]: #invasive\n",
        "                slideDict[slide]['invasive'].append(os.path.join(path, patient, \"annotations\", mask))\n",
        "            elif serial == \"R255G000B000\":\n",
        "                slideDict[slide]['both'].append(os.path.join(path, patient, \"annotations\", mask))\n",
        "        \n",
        "        airPath = f'{path}/FinalPublishedResults/{patient}/histology/masks/airways' #some don't have\n",
        "        bloodPath = f'{path}/FinalPublishedResults/{patient}/histology/masks/blood'\n",
        "        if os.path.exists(airPath):\n",
        "            airway = os.listdir(airPath)\n",
        "            for air in airway:\n",
        "                if img[:-1].lower() == air.lower() or img[:-5].lower() == air[:-4].lower(): #some tif some png\n",
        "                    slideDict[slide]['airway'] = os.path.join(airPath, air)\n",
        "        if os.path.exists(bloodPath):\n",
        "            blood = os.listdir(bloodPath)\n",
        "            for bld in blood:\n",
        "                if img[:-1].lower() == bld.lower() or img[:-5].lower() == bld[:-4].lower():\n",
        "                    slideDict[slide]['blood'] = os.path.join(airPath, bld)\n",
        "\n",
        "    # print(slideDict)\n",
        "    patientDict = {}\n",
        "    patientDict[f'patient{c}'] = slideDict\n",
        "    # patientDict['patient#'] = patients\n",
        "    pathDataset.append(patientDict)\n",
        "    # print(patientDict)"
      ]
    },
    {
      "cell_type": "code",
      "execution_count": null,
      "metadata": {
        "id": "HICNz1Ys3u_d"
      },
      "outputs": [],
      "source": [
        "import json\n",
        "print(json.dumps(pathDataset, indent=4))"
      ]
    },
    {
      "cell_type": "markdown",
      "metadata": {
        "id": "IBqhVSUnMGOH"
      },
      "source": [
        "### Pre-Processing"
      ]
    },
    {
      "cell_type": "markdown",
      "metadata": {
        "id": "CTkWj_MV4L_O"
      },
      "source": [
        ""
      ]
    },
    {
      "cell_type": "code",
      "execution_count": null,
      "metadata": {
        "id": "rheRew58PsUq",
        "colab": {
          "base_uri": "https://localhost:8080/",
          "height": 264
        },
        "outputId": "ec7429d8-777b-4fcd-cc67-59535b736393"
      },
      "outputs": [
        {
          "output_type": "execute_result",
          "data": {
            "text/plain": [
              "<matplotlib.image.AxesImage at 0x7ff46eae2850>"
            ]
          },
          "metadata": {},
          "execution_count": 9
        },
        {
          "output_type": "display_data",
          "data": {
            "image/png": "[encoded data removed]",
            "text/plain": [
              "<Figure size 432x288 with 1 Axes>"
            ]
          },
          "metadata": {
            "needs_background": "light"
          }
        }
      ],
      "source": [
        "path_LungFCP_01_0001_b1_image = r'/content/drive/MyDrive/WIKM/data/LungCancer/LungFCP-01-0001/images/LungFCP-01-0001_b1.tiff'\n",
        "\n",
        "path_LungFCP_01_0001_b1_mask = r'/content/drive/MyDrive/WIKM/data/LungCancer/LungFCP-01-0001/annotations/LungFCP-01-0001_b1_annotation_00_R000G255B000.tiff'\n",
        "\n",
        "\n",
        "image_LungFCP_01_0001_b1  = cv2.imread(path_LungFCP_01_0001_b1_image, 1) \n",
        "\n",
        "image_LungFCP_01_0001_b1_annotation_00_R000G255B000 = cv2.imread(path_LungFCP_01_0001_b1_mask, 1) \n",
        "\n",
        "plt.axis(\"off\")\n",
        "plt.imshow(image_LungFCP_01_0001_b1)\n",
        "\n"
      ]
    },
    {
      "cell_type": "code",
      "execution_count": null,
      "metadata": {
        "id": "mU0gLbEjjiZN",
        "colab": {
          "base_uri": "https://localhost:8080/"
        },
        "outputId": "ea7289f7-526a-4d0a-f444-7374fa23688c"
      },
      "outputs": [
        {
          "output_type": "stream",
          "name": "stdout",
          "text": [
            "<class 'numpy.ndarray'>\n",
            "uint8\n",
            "(9832, 9688, 3)\n",
            "<class 'numpy.ndarray'>\n",
            "uint8\n",
            "(9832, 9688)\n"
          ]
        }
      ],
      "source": [
        "from PIL import Image\n",
        "Image.MAX_IMAGE_PIXELS = None\n",
        "\n",
        "im = np.array(Image.open(path_LungFCP_01_0001_b1_image))\n",
        "print(type(im))\n",
        "print(im.dtype)\n",
        "print(im.shape)\n",
        "\n",
        "im_mask = np.array(Image.open(path_LungFCP_01_0001_b1_mask))\n",
        "print(type(im_mask))\n",
        "print(im_mask.dtype)\n",
        "print(im_mask.shape)"
      ]
    },
    {
      "cell_type": "code",
      "execution_count": null,
      "metadata": {
        "colab": {
          "base_uri": "https://localhost:8080/"
        },
        "id": "ErGxIQpv7wUs",
        "outputId": "c38195f4-e9f9-4ca5-84b1-532c8cc4f972"
      },
      "outputs": [
        {
          "output_type": "stream",
          "name": "stdout",
          "text": [
            "Collecting patchify\n",
            "  Downloading patchify-0.2.3-py3-none-any.whl (6.6 kB)\n",
            "Requirement already satisfied: numpy<2,>=1 in /usr/local/lib/python3.7/dist-packages (from patchify) (1.19.5)\n",
            "Installing collected packages: patchify\n",
            "Successfully installed patchify-0.2.3\n"
          ]
        }
      ],
      "source": [
        "!pip install patchify"
      ]
    },
    {
      "cell_type": "markdown",
      "metadata": {
        "id": "LhQjRvTDnhEV"
      },
      "source": [
        "Masking"
      ]
    },
    {
      "cell_type": "code",
      "execution_count": null,
      "metadata": {
        "id": "v6_4RqN2TgK2"
      },
      "outputs": [],
      "source": [
        "src2 = image_LungFCP_01_0001_b1_annotation_00_R000G255B000\n",
        "\n",
        "src2 = cv2.resize(src2, image_LungFCP_01_0001_b1.shape[1::-1])\n",
        "\n",
        "print(src2.shape)\n",
        "\n",
        "print(src2.dtype)\n",
        "\n",
        "masked = cv2.bitwise_and(image_LungFCP_01_0001_b1, src2)\n",
        "# cv2_imshow(masked)\n",
        "\n",
        "#make black region transparent\n",
        "tmp = cv2.cvtColor(masked, cv2.COLOR_BGR2GRAY)\n",
        "_, alpha = cv2.threshold(tmp, 0, 255, cv2.THRESH_BINARY)\n",
        "b, g, r = cv2.split(masked)\n",
        "rgba = [b, g, r, alpha]\n",
        "masked_tr = cv2.merge(rgba, 4)\n",
        "\n",
        "cv2_imshow(masked_tr)"
      ]
    },
    {
      "cell_type": "code",
      "execution_count": null,
      "metadata": {
        "id": "uUHrF3dyPDpN"
      },
      "outputs": [],
      "source": [
        "masked_tr.shape"
      ]
    },
    {
      "cell_type": "code",
      "source": [
        "from google.colab import drive\n",
        "drive.mount('/content/drive')"
      ],
      "metadata": {
        "colab": {
          "base_uri": "https://localhost:8080/"
        },
        "id": "k21UVuA4imL5",
        "outputId": "b79e6890-4e42-4b4f-9842-9f781471348c"
      },
      "execution_count": null,
      "outputs": [
        {
          "output_type": "stream",
          "name": "stdout",
          "text": [
            "Drive already mounted at /content/drive; to attempt to forcibly remount, call drive.mount(\"/content/drive\", force_remount=True).\n"
          ]
        }
      ]
    },
    {
      "cell_type": "code",
      "source": [
        "import glob"
      ],
      "metadata": {
        "id": "HNKwQR1T62vT"
      },
      "execution_count": null,
      "outputs": []
    },
    {
      "cell_type": "code",
      "source": [
        "print(len(os.listdir('/content/drive/MyDrive/WIKM/patchedImagesPNG512x512/Validation/both')))\n",
        "print(len(os.listdir('/content/drive/MyDrive/WIKM/patchedImagesPNG512x512/Validation/in_situ')))\n",
        "print(len(os.listdir('/content/drive/MyDrive/WIKM/patchedImagesPNG512x512/Validation/invasive')))\n",
        "print(len(os.listdir('/content/drive/MyDrive/WIKM/patchedImagesPNG512x512/Validation/normal')))\n",
        "\n",
        "\n",
        "print(len(os.listdir('/content/drive/MyDrive/WIKM/patchedImagesPNG512x512/Test/both')))\n",
        "print(len(os.listdir('/content/drive/MyDrive/WIKM/patchedImagesPNG512x512/Test/in_situ')))\n",
        "print(len(os.listdir('/content/drive/MyDrive/WIKM/patchedImagesPNG512x512/Test/invasive')))\n",
        "print(len(os.listdir('/content/drive/MyDrive/WIKM/patchedImagesPNG512x512/Test/normal')))\n",
        "\n",
        "print(len(os.listdir('/content/drive/MyDrive/WIKM/patchedImagesPNG512x512/Train/both')))\n",
        "print(len(os.listdir('/content/drive/MyDrive/WIKM/patchedImagesPNG512x512/Train/in_situ')))\n",
        "print(len(os.listdir('/content/drive/MyDrive/WIKM/patchedImagesPNG512x512/Train/invasive')))\n",
        "print(len(os.listdir('/content/drive/MyDrive/WIKM/patchedImagesPNG512x512/Train/normal')))"
      ],
      "metadata": {
        "colab": {
          "base_uri": "https://localhost:8080/"
        },
        "id": "sdZG1OeZru1D",
        "outputId": "40fc07e4-1099-4629-d384-ff5278ef5359"
      },
      "execution_count": null,
      "outputs": [
        {
          "output_type": "stream",
          "name": "stdout",
          "text": [
            "10\n",
            "54\n",
            "158\n",
            "821\n",
            "10\n",
            "69\n",
            "241\n",
            "789\n",
            "12\n",
            "141\n",
            "1131\n",
            "5579\n"
          ]
        }
      ]
    },
    {
      "cell_type": "code",
      "source": [
        ""
      ],
      "metadata": {
        "id": "ZfWjQdtG7R40"
      },
      "execution_count": null,
      "outputs": []
    },
    {
      "cell_type": "code",
      "source": [
        ""
      ],
      "metadata": {
        "id": "8lWQLU3j7OHl"
      },
      "execution_count": null,
      "outputs": []
    },
    {
      "cell_type": "markdown",
      "metadata": {
        "id": "AFk6EmNyMJ6l"
      },
      "source": [
        "Augmentation"
      ]
    },
    {
      "cell_type": "code",
      "execution_count": null,
      "metadata": {
        "id": "rhGo67DCnNAf"
      },
      "outputs": [],
      "source": [
        "import cv2\n",
        "import imutils # allows for image augmentation\n",
        "from random import randint, uniform  # allows for random rotation degree, translation, gamma\n",
        "from google.colab.patches import cv2_imshow\n",
        "import numpy as np\n",
        "\n",
        "import pathlib\n",
        "import os\n",
        "\n",
        "\n",
        "def save_image(img): # write to folder\n",
        "\n",
        "  directory = \"/content/drive/My Drive/WIKM/patchedAugmented\"\n",
        "  os.chdir(directory)\n",
        "  \n",
        "  random_int = randint(1, 100)\n",
        "\n",
        "  patch_name = f'augment{random_int}.jpg'\n",
        "\n",
        "  cv2.imwrite(patch_name, img)\n",
        "\n",
        "\n",
        "def get_image():\n",
        "  datasetPath = pathlib.Path(\"/content/drive/My Drive/WIKM/patchedImages100x100\")\n",
        "  patientDirs = sorted([str(pathlib.Path(datasetPath, patient)) for patient in os.listdir(datasetPath)]) # names of all the folders\n",
        "  \n",
        "  \"patientDirs[0] --> /content/drive/My Drive/WIKM/patchedImages100x100/patient1\"\n",
        "\n",
        "  for patient_dir in patientDirs: # /content/drive/MyDrive/WIKM/patchedImages100x100/patient1/both/Patch1.tiff\n",
        "    \n",
        "    # INVASIVE IMAGES\n",
        "    setPath = patient_dir + '/invasive' \n",
        "\n",
        "    patchDirs = sorted([str(pathlib.Path(setPath, patch)) for patch in os.listdir(setPath)]) # names of patches\n",
        "\n",
        "    for patch in patchDirs[0:99]: # Only did the first 100 patches -- may change later at group discretion...\n",
        "      augment(patch)\n",
        "\n",
        "def gamma(img, gamma_value):\n",
        "  inverse_gamma = 1 / gamma_value\n",
        " \n",
        "  table = [((num / 255) ** inverse_gamma) * 255 for num in range(256)]\n",
        "  table = np.array(table, np.uint8)\n",
        " \n",
        "  return cv2.LUT(img, table)\n",
        "\n",
        "\n",
        "def rotation(img):\n",
        "  rotated = imutils.rotate(img, randint(0, 360))\n",
        "  return rotated\n",
        "\n",
        "\n",
        "def flip(img):\n",
        "  flipped = cv2.flip(img, randint(-1, 1))\n",
        "  return flipped\n",
        "\n",
        "\n",
        "def augment(patch): # stopped execution at 10 minutes on local runtime\n",
        "  patch_image = cv2.imread(patch)\n",
        "  output_img = rotation(patch_image)\n",
        "  output_img = flip(output_img)\n",
        "  output_img = gamma(output_img, uniform(1.8, 2.2))\n",
        "  \n",
        "  cv2_imshow(output_img)\n",
        "  \n",
        "  save_image(output_img)\n",
        "\n",
        "get_image()\n"
      ]
    },
    {
      "cell_type": "markdown",
      "metadata": {
        "id": "8IDKMvyJnT3s"
      },
      "source": [
        "Masking over all the slides and creating folders"
      ]
    },
    {
      "cell_type": "code",
      "execution_count": null,
      "metadata": {
        "id": "UEj9VJ85n-OF"
      },
      "outputs": [],
      "source": [
        "# Helper Functions\n",
        "\n",
        "def maskOverImage(source, mask):\n",
        "  source2 = cv2.resize(mask, source.shape[1::-1])\n",
        "\n",
        "  dst = cv2.bitwise_and(source, source2)\n",
        "\n",
        "  return dst\n",
        "\n",
        "def createFolderandChdir(pathToFolder):\n",
        "  if not os.path.exists(pathToFolder):\n",
        "    os.makedirs(pathToFolder)\n",
        "\n",
        "  os.chdir(pathToFolder)"
      ]
    },
    {
      "cell_type": "code",
      "execution_count": null,
      "metadata": {
        "id": "nn2L-faM2EB_"
      },
      "outputs": [],
      "source": [
        "# Creating the JSON structure but with absolute paths\n",
        "import pathlib\n",
        "import os\n",
        "import json\n",
        "# os.chdir('/content/drive/My Drive/WIKM')\n",
        "datasetPath = pathlib.Path(\"/content/drive/My Drive/WIKM/data/LungCancer\")\n",
        "pathDataset = []\n",
        "\n",
        "patientDirs = sorted([str(pathlib.Path(datasetPath, patient)) for patient in os.listdir(datasetPath) if patient != \"FinalPublishedResults\"]) # names of all the folders\n",
        "\n",
        "# print(patientDirs)\n",
        "# print()\n",
        "\n",
        "for patientNumber, patientDir in enumerate(patientDirs, 1):\n",
        "  slidesImages = sorted(os.listdir(str(patientDir) + '/images'))\n",
        "  maskImages = sorted(os.listdir(str(patientDir) + '/annotations'))\n",
        "\n",
        "  slideDict = {}\n",
        "\n",
        "  for slideNum, images in enumerate(slidesImages, 1):\n",
        "    slideKey = f'slide{slideNum}'\n",
        "    slideDict[slideKey] = {}\n",
        "    slideDict[slideKey]['imgPath'] = str(pathlib.Path(str(patientDir), 'images', images).absolute())\n",
        "    slideDict[slideKey]['invasive'] = list()\n",
        "    slideDict[slideKey]['in_situ'] = list()\n",
        "    slideDict[slideKey]['both'] = list()\n",
        "    slideDict[slideKey]['airway'] = \"\"\n",
        "    slideDict[slideKey]['blood'] = \"\"\n",
        "    annotsForCurrSlide = [annot for annot in maskImages if annot[:18] == images[:-5]]\n",
        "\n",
        "    for annotations in annotsForCurrSlide:\n",
        "      pathToAnnotation = str(pathlib.Path(patientDir, 'annotations', annotations))\n",
        "      serial = annotations[33:-5]\n",
        "\n",
        "      if serial in [\"R000G000B255\",\"R001G000B255\",\"R002G000B255\"]: #in situ\n",
        "          slideDict[slideKey]['in_situ'].append(pathToAnnotation)\n",
        "      elif serial in [\"R000G255B000\", \"R001G255B000\", \"R002G255B000\", \"R003G255B000\", \"R004G255B000\", \"R005G255B000\", \"R006G255B000\"]: #invasive\n",
        "          slideDict[slideKey]['invasive'].append(pathToAnnotation)\n",
        "      elif serial == \"R255G000B000\": #both region\n",
        "          slideDict[slideKey]['both'].append(pathToAnnotation)\n",
        "\n",
        "\n",
        "    patientDirPathObj = pathlib.Path(patientDir)\n",
        "    airPath = pathlib.Path(patientDirPathObj.parent, 'FinalPublishedResults', patientDirPathObj.name, 'histology', 'masks', 'airways')  #some don't have\n",
        "    bloodPath = pathlib.Path(patientDirPathObj.parent, 'FinalPublishedResults', patientDirPathObj.name, 'histology', 'masks', 'blood')\n",
        "\n",
        "    if os.path.exists(airPath):\n",
        "        for air in os.listdir(airPath):\n",
        "            if images[:-1].lower() == air.lower() or images[:-5].lower() == air[:-4].lower(): #some tif some png\n",
        "                slideDict[slideKey]['airway'] = str(pathlib.Path(airPath, air).absolute()) # os.path.join(airPath, air)\n",
        "\n",
        "    if os.path.exists(bloodPath):\n",
        "        for bld in os.listdir(bloodPath):\n",
        "            if images[:-1].lower() == bld.lower() or images[:-5].lower() == bld[:-4].lower():\n",
        "                slideDict[slideKey]['blood'] = str(pathlib.Path(bloodPath, bld).absolute()) # os.path.join(bloodPath, bld)\n",
        "\n",
        "  patientDict = {}\n",
        "  patientDict['patient{}'.format(patientNumber)] = slideDict\n",
        "  pathDataset.append(patientDict)\n",
        "\n",
        "# print(pathDataset)\n",
        "# print(json.dumps(pathDataset, indent = 5))"
      ]
    },
    {
      "cell_type": "code",
      "source": [
        "import cv2\n",
        "patient2Test = pathDataset[1]['patient2']['slide2']\n",
        "# print(patient2Test)\n",
        "\n",
        "\n",
        "masksList = []\n",
        "for mask in patient2Test['invasive']:\n",
        "  masksList.append(cv2.imread(mask))\n",
        "\n",
        "for mask in patient2Test['in_situ']:\n",
        "  masksList.append(cv2.imread(mask))\n",
        "\n",
        "\n",
        "for num, testMask in enumerate(masksList):\n",
        "  if num == 0:\n",
        "    prevMask = None\n",
        "    currentMask = testMask\n",
        "  else:\n",
        "    prevMask = currentMask\n",
        "    currentMask = cv2.bitwise_or(testMask, prevMask)\n",
        "\n",
        "mask_inv = cv2.bitwise_not(currentMask)\n",
        "slide = cv2.imread(patient2Test['imgPath'])\n",
        "#cv2_imshow(mask_inv)\n",
        "print(currentMask.shape, mask_inv.shape, slide.shape)\n",
        "dst = cv2.resize(mask_inv, slide.shape[1::-1])\n",
        "\n",
        "rev_mask = cv2.bitwise_and(slide, dst)\n",
        "\n",
        "\n",
        "cv2.imwrite('/content/drive/MyDrive/WIKM/testMask.png', rev_mask)\n",
        "#cv2_imshow(rev_mask)"
      ],
      "metadata": {
        "colab": {
          "base_uri": "https://localhost:8080/"
        },
        "id": "CWEbLdoAup1P",
        "outputId": "ba96931e-8fc3-4e62-e696-bfc44c385acf"
      },
      "execution_count": null,
      "outputs": [
        {
          "output_type": "stream",
          "name": "stdout",
          "text": [
            "(12040, 25872, 3) (12040, 25872, 3) (12040, 25872, 3)\n"
          ]
        },
        {
          "output_type": "execute_result",
          "data": {
            "text/plain": [
              "True"
            ]
          },
          "metadata": {},
          "execution_count": 13
        }
      ]
    },
    {
      "cell_type": "code",
      "execution_count": null,
      "metadata": {
        "id": "9Kvkw9G8nY9L"
      },
      "outputs": [],
      "source": [
        "wikmMaskedImagesFolder = '//content//drive//My Drive//WIKM//maskedImages'\n",
        "os.chdir(wikmMaskedImagesFolder)\n",
        "# took about 10 minutes 20 seconds\n",
        "for patientDict in pathDataset:\n",
        "  for patientNum in patientDict:\n",
        "    os.chdir(wikmMaskedImagesFolder)\n",
        "    patientFolder = wikmMaskedImagesFolder + '//' + patientNum\n",
        "    createFolderandChdir(patientFolder)\n",
        "    # print(patientFolder)\n",
        "\n",
        "    for slideNum, slideDict in patientDict[patientNum].items():\n",
        "      slideFolder = patientFolder + '//' + slideNum\n",
        "      # print(slideFolder)\n",
        "      createFolderandChdir(slideFolder)\n",
        "\n",
        "      for slideKey, slideContents in slideDict.items():\n",
        "        if slideKey == 'imgPath':\n",
        "          slideImage = cv2.imread(slideContents)\n",
        "        \n",
        "        elif slideKey == 'invasive':\n",
        "          invasiveFolder = slideFolder + '//invasive'\n",
        "          createFolderandChdir(invasiveFolder)\n",
        "\n",
        "          for imageNum, invasiveSlide in enumerate(slideContents, 1):\n",
        "            imageName = str(patientNum) + '_{}'.format(slideNum) + '_INVASIVE_' + str(imageNum) + '.tiff'\n",
        "            imageToMask = cv2.imread(invasiveSlide)\n",
        "            maskedSlide = maskOverImage(slideImage, imageToMask)\n",
        "            cv2.imwrite(imageName, maskedSlide)\n",
        "\n",
        "        elif slideKey == 'in_situ':\n",
        "          inSituFolder = slideFolder + '//in_situ'\n",
        "          createFolderandChdir(inSituFolder)\n",
        "\n",
        "          for imageNum, inSitu in enumerate(slideContents, 1):\n",
        "            imageName = str(patientNum) + '_{}'.format(slideNum) + '_IN_SITU_' + str(imageNum) + '.tiff'\n",
        "            imageToMask = cv2.imread(inSitu)\n",
        "            maskedSlide = maskOverImage(slideImage, imageToMask)\n",
        "            cv2.imwrite(imageName, maskedSlide)\n",
        "\n",
        "        elif slideKey == 'both':\n",
        "          both = slideFolder + '//both'\n",
        "          createFolderandChdir(both)\n",
        "\n",
        "          for imageNum, both in enumerate(slideContents, 1):\n",
        "            imageName = str(patientNum) + '_{}'.format(slideNum) + '_BOTH_' + str(imageNum) + '.tiff'\n",
        "            imageToMask = cv2.imread(both)\n",
        "            maskedSlide = maskOverImage(slideImage, imageToMask)\n",
        "            cv2.imwrite(imageName, maskedSlide)\n",
        "\n",
        "        imageToMask = None\n"
      ]
    },
    {
      "cell_type": "markdown",
      "source": [
        "Patch from normal area"
      ],
      "metadata": {
        "id": "n8OQxnsFqc2c"
      }
    },
    {
      "cell_type": "code",
      "source": [
        "!pip install patchify"
      ],
      "metadata": {
        "colab": {
          "base_uri": "https://localhost:8080/"
        },
        "id": "mncJYPWQtDPW",
        "outputId": "de7df420-74ac-4dc1-8f2d-2b89dc1742ec"
      },
      "execution_count": null,
      "outputs": [
        {
          "output_type": "stream",
          "name": "stdout",
          "text": [
            "Requirement already satisfied: patchify in /usr/local/lib/python3.7/dist-packages (0.2.3)\n",
            "Requirement already satisfied: numpy<2,>=1 in /usr/local/lib/python3.7/dist-packages (from patchify) (1.19.5)\n"
          ]
        }
      ]
    },
    {
      "cell_type": "code",
      "source": [
        "'''\n",
        "Testing ...\n",
        "'''\n",
        "from patchify import patchify, unpatchify\n",
        "from PIL import Image\n",
        "\n",
        "wikmMaskedImagesFolder = '//content//drive//My Drive//WIKM//maskedImages'\n",
        "\n",
        "wikmPatchedImagesFolder512x512 = '//content//drive//My Drive//WIKM//patchedImages512x512'\n",
        "\n",
        "os.chdir(wikmMaskedImagesFolder)\n",
        "wikmMaskedImagesPath = pathlib.Path(wikmMaskedImagesFolder)\n",
        "\n",
        "# sum = 0\n",
        "# patchNum = 1\n",
        "for patientFolder in wikmMaskedImagesPath.iterdir():\n",
        "  os.chdir(wikmMaskedImagesFolder)\n",
        "  patientPath = pathlib.Path(wikmMaskedImagesFolder, patientFolder)\n",
        "\n",
        "  for slideFolder in patientPath.iterdir():\n",
        "    slidePath = pathlib.Path(patientPath, slideFolder)\n",
        "    if slideFolder.name in ['both', 'in_situ', 'invasive']: # Checks for the right folder\n",
        "      # print(slideFolder)\n",
        "\n",
        "      for maskedImage in sorted(slidePath.iterdir()): # \"Patching\" the image\n",
        "        thisImageTotalPatches = 1\n",
        "        os.chdir(maskedImage.parent)\n",
        "        print('--ACCESSING IMAGE--', maskedImage.absolute())\n",
        "        image = cv2.imread(str(maskedImage.absolute()))\n",
        "\n",
        "        patches = patchify(image, (512, 512, 3), step = 512)    # im is image // 100x100 patches // 3 is the for colored image // step\n",
        "        # print('--ACCESSING IMAGE--', maskedImage.absolute())\n",
        "        if not os.path.exists(wikmPatchedImagesFolder512x512 + '//' + patientFolder.name + '//' + slideFolder.name):\n",
        "          os.makedirs(wikmPatchedImagesFolder512x512 + '//' + patientFolder.name + '//' + slideFolder.name)\n",
        "\n",
        "        os.chdir(wikmPatchedImagesFolder512x512 + '//' + patientFolder.name + '//' + slideFolder.name)\n",
        "\n",
        "\n",
        "        for i in range(patches.shape[0]): #0 is first dimension\n",
        "            for j in range(patches.shape[1]): #1 is second dimension\n",
        "              singlePatch = patches[i, j, 0, :, :, :]\n",
        "\n",
        "              if not np.all(singlePatch == 0):\n",
        "                cv2.imwrite(f'Patch{patchNum}.png', singlePatch)\n",
        "                patchNum += 1\n",
        "                  # thisImageTotalPatches += 1\n",
        "\n",
        "        #   print('---FOLDER---:', maskedImage.absolute(), 'THIS IMAGE TOTAL PATCHES:', thisImageTotalPatches, '--- PROJECTED TOTAL AMOUNT OF PATCHES (SO FAR) --- :', patchNum)\n",
        "        # sum += patchNum\n",
        "\n",
        "\n",
        "# print(sum)"
      ],
      "metadata": {
        "id": "lBAL9XgKqcdH"
      },
      "execution_count": null,
      "outputs": []
    },
    {
      "cell_type": "markdown",
      "source": [
        "### delete patches that are almost all-black\n",
        "(put them in a seperate 'black_folder' for now and once double checked, we'll remove them completely)\n",
        "\n",
        "don't need to run this every time"
      ],
      "metadata": {
        "id": "jktx92MH5cCp"
      }
    },
    {
      "cell_type": "code",
      "source": [
        "import cv2\n",
        "import os\n",
        "import numpy as np\n",
        "import shutil\n",
        "\n",
        "def delete_black(path): #input: folder path; output: # of images removed\n",
        "    file_names = os.listdir(path)\n",
        "    bad_set = set()\n",
        "    for f in file_names:\n",
        "        imgPath = os.path.join(path,f)\n",
        "        if f in bad_set or os.path.isdir(imgPath):\n",
        "            continue\n",
        "        img = cv2.imread(imgPath, 1)\n",
        "        rgb_mean = np.mean(img)\n",
        "        if (rgb_mean > 230) or (rgb_mean < 10) or (rgb_mean == None):\n",
        "            bad_set.add(f)\n",
        "    if not os.path.exists(os.path.join(path,'black_folder')):\n",
        "        os.makedirs(os.path.join(path,'black_folder'))\n",
        "    bad_list = list(bad_set)\n",
        "    bad_list.sort()\n",
        "    for im in bad_list:\n",
        "        old_fp = os.path.join(path, im)\n",
        "        new_fp = os.path.join(path,'black_folder',im)\n",
        "        shutil.copyfile(old_fp, new_fp)\n",
        "        os.remove(old_fp)\n",
        "    print(\"removing\", len(bad_list), \"images\")\n",
        "    return len(bad_list)\n"
      ],
      "metadata": {
        "id": "Ez2JS-gKWRVA"
      },
      "execution_count": null,
      "outputs": []
    },
    {
      "cell_type": "markdown",
      "source": [
        "PATCHING (1/8/22)\n"
      ],
      "metadata": {
        "id": "EoL5FcvnFm2I"
      }
    },
    {
      "cell_type": "code",
      "source": [
        "# --- load example patch\n",
        "from PIL import Image\n",
        "from pathlib import Path\n",
        "\n",
        "original_wsi_dir = '/content/drive/MyDrive/WIKM/data/LungCancer'\n",
        "\n",
        "os.chdir(original_wsi_dir)\n",
        "original_wsi_path = pathlib.Path(original_wsi_dir)\n",
        "\n",
        "for patientnum in original_wsi_path.iterdir():\n",
        "  os.chdir(original_wsi_dir)\n",
        "  patientnum_path = pathlib.Path(original_wsi_dir, patientnum)\n",
        "\n",
        "  for slidefolder in patientnum_path.iterdir():\n",
        "    slidepath = pathlib.Path(patientnum_path, slidefolder)\n",
        "    if slidefolder in ['annotations', 'images']:\n",
        "      print(slidefolder)\n",
        "\n",
        "      for mask_and_wsi in sorted(slidepath.iterdir()):\n",
        "        os.chdir(mask_and_wsi.parent)\n",
        "        print('--Opening Image--', mask_and_wsi.absolute())\n",
        "        dat = np.array(Image.open(mask_and_wsi.absolute()))\n",
        "\n",
        "\n",
        "        # --- create mask (0 = label, 1 = background)\n",
        "        lbl = np.array (image.open( #image ))\n",
        "        lbl = (dat > 0).astype('uint8')\n",
        "        #imshow(lbl[..., 0])\n",
        "\n",
        "        # --- create patches of 256x256\n",
        "        PATCH_SIZE = 256\n",
        "        LBL_OF_INTEREST = 1\n",
        "\n",
        "        y_min, x_min = 0, 0\n",
        "        y_max, x_max = PATCH_SIZE, PATCH_SIZE\n",
        "\n",
        "        # --- calculate number of iterations for y and x axis\n",
        "        y_itrs = int(dat.shape[0] / PATCH_SIZE)\n",
        "        x_itrs = int(dat.shape[1] / PATCH_SIZE)\n",
        "\n",
        "        for y in range(y_itrs):\n",
        "            \n",
        "            for x in range(x_itrs):\n",
        "                \n",
        "                # --- crop (256, 256, 3) patch\n",
        "                dat_patch = dat[y_min : y_max, x_min: x_max, :]\n",
        "                lbl_patch = lbl[y_min : y_max, x_min: x_max, :]\n",
        "                \n",
        "                # --- check if patch is part of the group we want\n",
        "                indexes, counts = np.unique(lbl_patch, return_counts=True)\n",
        "                \n",
        "                # --- example: want patches with more group 1\n",
        "                if LBL_OF_INTEREST in indexes:\n",
        "                    \n",
        "                    # --- check if majority of cropped label is label of interest\n",
        "                    if indexes[np.argmax(counts)] == LBL_OF_INTEREST:\n",
        "                        \n",
        "                        # --- save patch\n",
        "                        #np.save('/content/drive/MyDrive/WIKM/Test_Images', patch)\n",
        "                        pass\n",
        "                    \n",
        "                x_min += PATCH_SIZE\n",
        "                x_max += PATCH_SIZE\n",
        "            \n",
        "            # --- reset x_min and x_max\n",
        "            x_min = 0\n",
        "            x_max = PATCH_SIZE\n",
        "            \n",
        "            y_min += PATCH_SIZE\n",
        "            y_max += PATCH_SIZE"
      ],
      "metadata": {
        "id": "DiGgN0h3FfpI"
      },
      "execution_count": null,
      "outputs": []
    },
    {
      "cell_type": "markdown",
      "source": [
        "reverse patching (getting the normal region from the slides)"
      ],
      "metadata": {
        "id": "4iyqw-Vz29KW"
      }
    },
    {
      "cell_type": "code",
      "source": [
        "pathDataset"
      ],
      "metadata": {
        "id": "EY4A2bAl3fyN"
      },
      "execution_count": null,
      "outputs": []
    },
    {
      "cell_type": "code",
      "source": [
        "from patchify import patchify, unpatchify\n",
        "from PIL import Image\n",
        "\n",
        "wikmMaskedImagesFolder = '//content//drive//My Drive//WIKM//maskedImages'\n",
        "wikmPatchedImagesFolderNorm = '//content//drive//My Drive//WIKM//normMaskedImages'\n",
        "\n",
        "os.chdir(wikmMaskedImagesFolder)\n",
        "wikmMaskedImagesPath = pathlib.Path(wikmMaskedImagesFolder)\n",
        "\n",
        "def combineAllMasks(masksList):\n",
        "  for maskNum, masksPath in enumerate(masksList):\n",
        "    if maskNum == 0:\n",
        "      currentMask = cv2.imread(masksPath)\n",
        "      prevMask = None\n",
        "    else:\n",
        "      currentMask = cv2.bitwise_or(cv2.imread(masksPath), currentMask)\n",
        "      prevMask = currentMask\n",
        "\n",
        "  return currentMask\n",
        "\n",
        "\n",
        "for patientDict in pathDataset: # remove [0] to do all patients\n",
        "  print(patientDict)\n",
        "  for patientKey, slideDict in patientDict.items(): # 1 value only\n",
        "    print(patientKey, slideDict)\n",
        "    for slideKey in slideDict:\n",
        "      if not(patientKey == 'patient5' and slideKey == 'slide3'):\n",
        "        if len(slideDict[slideKey]['both']) == 0:\n",
        "          masksList = []\n",
        "\n",
        "          for mask in slideDict[slideKey]['in_situ']:\n",
        "            masksList.append(mask)\n",
        "\n",
        "          for mask in slideDict[slideKey]['invasive']:\n",
        "            masksList.append(mask)\n",
        "\n",
        "          # reverse patch it through the both\n",
        "\n",
        "        else:\n",
        "          # reverse patch it through the in_situ and invasive combined\n",
        "          masksList = slideDict[slideKey]['both']\n",
        "\n",
        "        # combine the masks\n",
        "        combinedMasks = combineAllMasks(masksList) \n",
        "        combinedMasksInv = cv2.bitwise_not(combinedMasks)\n",
        "        slideImg = cv2.imread(slideDict[slideKey]['imgPath'])\n",
        "                              \n",
        "        assert combinedMasksInv.shape == slideImg.shape, (\"not the same size!\")\n",
        "\n",
        "        normal = cv2.bitwise_and(slideImg, combinedMasksInv)\n",
        "\n",
        "        os.chdir(wikmPatchedImagesFolderNorm)\n",
        "\n",
        "        cv2.imwrite(f'{patientKey}_{slideKey}_normal.png', normal) # patient1_slide1_normal.png\n"
      ],
      "metadata": {
        "colab": {
          "base_uri": "https://localhost:8080/"
        },
        "id": "vn9iphle28CO",
        "outputId": "6ed326ca-d03c-4059-bb32-b0fd9e761db3"
      },
      "execution_count": null,
      "outputs": [
        {
          "output_type": "stream",
          "name": "stdout",
          "text": [
            "{'patient1': {'slide1': {'imgPath': '/content/drive/My Drive/WIKM/data/LungCancer/LungFCP-01-0001/images/LungFCP-01-0001_b1.tiff', 'invasive': ['/content/drive/My Drive/WIKM/data/LungCancer/LungFCP-01-0001/annotations/LungFCP-01-0001_b1_annotation_00_R000G255B000.tiff'], 'in_situ': [], 'both': ['/content/drive/My Drive/WIKM/data/LungCancer/LungFCP-01-0001/annotations/LungFCP-01-0001_b1_annotation_00_R255G000B000.tiff'], 'airway': '', 'blood': ''}, 'slide2': {'imgPath': '/content/drive/My Drive/WIKM/data/LungCancer/LungFCP-01-0001/images/LungFCP-01-0001_b2.tiff', 'invasive': ['/content/drive/My Drive/WIKM/data/LungCancer/LungFCP-01-0001/annotations/LungFCP-01-0001_b2_annotation_00_R000G255B000.tiff'], 'in_situ': [], 'both': ['/content/drive/My Drive/WIKM/data/LungCancer/LungFCP-01-0001/annotations/LungFCP-01-0001_b2_annotation_00_R255G000B000.tiff'], 'airway': '', 'blood': ''}, 'slide3': {'imgPath': '/content/drive/My Drive/WIKM/data/LungCancer/LungFCP-01-0001/images/LungFCP-01-0001_b3.tiff', 'invasive': ['/content/drive/My Drive/WIKM/data/LungCancer/LungFCP-01-0001/annotations/LungFCP-01-0001_b3_annotation_00_R000G255B000.tiff'], 'in_situ': [], 'both': ['/content/drive/My Drive/WIKM/data/LungCancer/LungFCP-01-0001/annotations/LungFCP-01-0001_b3_annotation_00_R255G000B000.tiff'], 'airway': '', 'blood': ''}, 'slide4': {'imgPath': '/content/drive/My Drive/WIKM/data/LungCancer/LungFCP-01-0001/images/LungFCP-01-0001_b4.tiff', 'invasive': ['/content/drive/My Drive/WIKM/data/LungCancer/LungFCP-01-0001/annotations/LungFCP-01-0001_b4_annotation_00_R000G255B000.tiff'], 'in_situ': [], 'both': [], 'airway': '', 'blood': ''}}}\n",
            "patient1 {'slide1': {'imgPath': '/content/drive/My Drive/WIKM/data/LungCancer/LungFCP-01-0001/images/LungFCP-01-0001_b1.tiff', 'invasive': ['/content/drive/My Drive/WIKM/data/LungCancer/LungFCP-01-0001/annotations/LungFCP-01-0001_b1_annotation_00_R000G255B000.tiff'], 'in_situ': [], 'both': ['/content/drive/My Drive/WIKM/data/LungCancer/LungFCP-01-0001/annotations/LungFCP-01-0001_b1_annotation_00_R255G000B000.tiff'], 'airway': '', 'blood': ''}, 'slide2': {'imgPath': '/content/drive/My Drive/WIKM/data/LungCancer/LungFCP-01-0001/images/LungFCP-01-0001_b2.tiff', 'invasive': ['/content/drive/My Drive/WIKM/data/LungCancer/LungFCP-01-0001/annotations/LungFCP-01-0001_b2_annotation_00_R000G255B000.tiff'], 'in_situ': [], 'both': ['/content/drive/My Drive/WIKM/data/LungCancer/LungFCP-01-0001/annotations/LungFCP-01-0001_b2_annotation_00_R255G000B000.tiff'], 'airway': '', 'blood': ''}, 'slide3': {'imgPath': '/content/drive/My Drive/WIKM/data/LungCancer/LungFCP-01-0001/images/LungFCP-01-0001_b3.tiff', 'invasive': ['/content/drive/My Drive/WIKM/data/LungCancer/LungFCP-01-0001/annotations/LungFCP-01-0001_b3_annotation_00_R000G255B000.tiff'], 'in_situ': [], 'both': ['/content/drive/My Drive/WIKM/data/LungCancer/LungFCP-01-0001/annotations/LungFCP-01-0001_b3_annotation_00_R255G000B000.tiff'], 'airway': '', 'blood': ''}, 'slide4': {'imgPath': '/content/drive/My Drive/WIKM/data/LungCancer/LungFCP-01-0001/images/LungFCP-01-0001_b4.tiff', 'invasive': ['/content/drive/My Drive/WIKM/data/LungCancer/LungFCP-01-0001/annotations/LungFCP-01-0001_b4_annotation_00_R000G255B000.tiff'], 'in_situ': [], 'both': [], 'airway': '', 'blood': ''}}\n",
            "{'patient2': {'slide1': {'imgPath': '/content/drive/My Drive/WIKM/data/LungCancer/LungFCP-01-0002/images/LungFCP-01-0002_b1.tiff', 'invasive': ['/content/drive/My Drive/WIKM/data/LungCancer/LungFCP-01-0002/annotations/LungFCP-01-0002_b1_annotation_00_R000G255B000.tiff'], 'in_situ': ['/content/drive/My Drive/WIKM/data/LungCancer/LungFCP-01-0002/annotations/LungFCP-01-0002_b1_annotation_00_R000G000B255.tiff'], 'both': [], 'airway': '', 'blood': ''}, 'slide2': {'imgPath': '/content/drive/My Drive/WIKM/data/LungCancer/LungFCP-01-0002/images/LungFCP-01-0002_b2.tiff', 'invasive': ['/content/drive/My Drive/WIKM/data/LungCancer/LungFCP-01-0002/annotations/LungFCP-01-0002_b2_annotation_00_R000G255B000.tiff'], 'in_situ': ['/content/drive/My Drive/WIKM/data/LungCancer/LungFCP-01-0002/annotations/LungFCP-01-0002_b2_annotation_00_R000G000B255.tiff', '/content/drive/My Drive/WIKM/data/LungCancer/LungFCP-01-0002/annotations/LungFCP-01-0002_b2_annotation_00_R001G000B255.tiff'], 'both': [], 'airway': '', 'blood': ''}, 'slide3': {'imgPath': '/content/drive/My Drive/WIKM/data/LungCancer/LungFCP-01-0002/images/LungFCP-01-0002_b3.tiff', 'invasive': [], 'in_situ': ['/content/drive/My Drive/WIKM/data/LungCancer/LungFCP-01-0002/annotations/LungFCP-01-0002_b3_annotation_00_R000G000B255.tiff'], 'both': [], 'airway': '', 'blood': ''}, 'slide4': {'imgPath': '/content/drive/My Drive/WIKM/data/LungCancer/LungFCP-01-0002/images/LungFCP-01-0002_b6.tiff', 'invasive': [], 'in_situ': ['/content/drive/My Drive/WIKM/data/LungCancer/LungFCP-01-0002/annotations/LungFCP-01-0002_b6_annotation_00_R000G000B255.tiff'], 'both': [], 'airway': '', 'blood': ''}}}\n",
            "patient2 {'slide1': {'imgPath': '/content/drive/My Drive/WIKM/data/LungCancer/LungFCP-01-0002/images/LungFCP-01-0002_b1.tiff', 'invasive': ['/content/drive/My Drive/WIKM/data/LungCancer/LungFCP-01-0002/annotations/LungFCP-01-0002_b1_annotation_00_R000G255B000.tiff'], 'in_situ': ['/content/drive/My Drive/WIKM/data/LungCancer/LungFCP-01-0002/annotations/LungFCP-01-0002_b1_annotation_00_R000G000B255.tiff'], 'both': [], 'airway': '', 'blood': ''}, 'slide2': {'imgPath': '/content/drive/My Drive/WIKM/data/LungCancer/LungFCP-01-0002/images/LungFCP-01-0002_b2.tiff', 'invasive': ['/content/drive/My Drive/WIKM/data/LungCancer/LungFCP-01-0002/annotations/LungFCP-01-0002_b2_annotation_00_R000G255B000.tiff'], 'in_situ': ['/content/drive/My Drive/WIKM/data/LungCancer/LungFCP-01-0002/annotations/LungFCP-01-0002_b2_annotation_00_R000G000B255.tiff', '/content/drive/My Drive/WIKM/data/LungCancer/LungFCP-01-0002/annotations/LungFCP-01-0002_b2_annotation_00_R001G000B255.tiff'], 'both': [], 'airway': '', 'blood': ''}, 'slide3': {'imgPath': '/content/drive/My Drive/WIKM/data/LungCancer/LungFCP-01-0002/images/LungFCP-01-0002_b3.tiff', 'invasive': [], 'in_situ': ['/content/drive/My Drive/WIKM/data/LungCancer/LungFCP-01-0002/annotations/LungFCP-01-0002_b3_annotation_00_R000G000B255.tiff'], 'both': [], 'airway': '', 'blood': ''}, 'slide4': {'imgPath': '/content/drive/My Drive/WIKM/data/LungCancer/LungFCP-01-0002/images/LungFCP-01-0002_b6.tiff', 'invasive': [], 'in_situ': ['/content/drive/My Drive/WIKM/data/LungCancer/LungFCP-01-0002/annotations/LungFCP-01-0002_b6_annotation_00_R000G000B255.tiff'], 'both': [], 'airway': '', 'blood': ''}}\n",
            "{'patient3': {'slide1': {'imgPath': '/content/drive/My Drive/WIKM/data/LungCancer/LungFCP-01-0003/images/LungFCP-01-0003_d1.tiff', 'invasive': [], 'in_situ': ['/content/drive/My Drive/WIKM/data/LungCancer/LungFCP-01-0003/annotations/LungFCP-01-0003_d1_annotation_00_R000G000B255.tiff', '/content/drive/My Drive/WIKM/data/LungCancer/LungFCP-01-0003/annotations/LungFCP-01-0003_d1_annotation_00_R001G000B255.tiff', '/content/drive/My Drive/WIKM/data/LungCancer/LungFCP-01-0003/annotations/LungFCP-01-0003_d1_annotation_00_R002G000B255.tiff'], 'both': [], 'airway': '', 'blood': ''}, 'slide2': {'imgPath': '/content/drive/My Drive/WIKM/data/LungCancer/LungFCP-01-0003/images/LungFCP-01-0003_d2.tiff', 'invasive': ['/content/drive/My Drive/WIKM/data/LungCancer/LungFCP-01-0003/annotations/LungFCP-01-0003_d2_annotation_00_R000G255B000.tiff'], 'in_situ': ['/content/drive/My Drive/WIKM/data/LungCancer/LungFCP-01-0003/annotations/LungFCP-01-0003_d2_annotation_00_R000G000B255.tiff'], 'both': [], 'airway': '', 'blood': ''}, 'slide3': {'imgPath': '/content/drive/My Drive/WIKM/data/LungCancer/LungFCP-01-0003/images/LungFCP-01-0003_d3.tiff', 'invasive': ['/content/drive/My Drive/WIKM/data/LungCancer/LungFCP-01-0003/annotations/LungFCP-01-0003_d3_annotation_00_R000G255B000.tiff'], 'in_situ': ['/content/drive/My Drive/WIKM/data/LungCancer/LungFCP-01-0003/annotations/LungFCP-01-0003_d3_annotation_00_R000G000B255.tiff', '/content/drive/My Drive/WIKM/data/LungCancer/LungFCP-01-0003/annotations/LungFCP-01-0003_d3_annotation_00_R001G000B255.tiff'], 'both': [], 'airway': '', 'blood': ''}}}\n",
            "patient3 {'slide1': {'imgPath': '/content/drive/My Drive/WIKM/data/LungCancer/LungFCP-01-0003/images/LungFCP-01-0003_d1.tiff', 'invasive': [], 'in_situ': ['/content/drive/My Drive/WIKM/data/LungCancer/LungFCP-01-0003/annotations/LungFCP-01-0003_d1_annotation_00_R000G000B255.tiff', '/content/drive/My Drive/WIKM/data/LungCancer/LungFCP-01-0003/annotations/LungFCP-01-0003_d1_annotation_00_R001G000B255.tiff', '/content/drive/My Drive/WIKM/data/LungCancer/LungFCP-01-0003/annotations/LungFCP-01-0003_d1_annotation_00_R002G000B255.tiff'], 'both': [], 'airway': '', 'blood': ''}, 'slide2': {'imgPath': '/content/drive/My Drive/WIKM/data/LungCancer/LungFCP-01-0003/images/LungFCP-01-0003_d2.tiff', 'invasive': ['/content/drive/My Drive/WIKM/data/LungCancer/LungFCP-01-0003/annotations/LungFCP-01-0003_d2_annotation_00_R000G255B000.tiff'], 'in_situ': ['/content/drive/My Drive/WIKM/data/LungCancer/LungFCP-01-0003/annotations/LungFCP-01-0003_d2_annotation_00_R000G000B255.tiff'], 'both': [], 'airway': '', 'blood': ''}, 'slide3': {'imgPath': '/content/drive/My Drive/WIKM/data/LungCancer/LungFCP-01-0003/images/LungFCP-01-0003_d3.tiff', 'invasive': ['/content/drive/My Drive/WIKM/data/LungCancer/LungFCP-01-0003/annotations/LungFCP-01-0003_d3_annotation_00_R000G255B000.tiff'], 'in_situ': ['/content/drive/My Drive/WIKM/data/LungCancer/LungFCP-01-0003/annotations/LungFCP-01-0003_d3_annotation_00_R000G000B255.tiff', '/content/drive/My Drive/WIKM/data/LungCancer/LungFCP-01-0003/annotations/LungFCP-01-0003_d3_annotation_00_R001G000B255.tiff'], 'both': [], 'airway': '', 'blood': ''}}\n",
            "{'patient4': {'slide1': {'imgPath': '/content/drive/My Drive/WIKM/data/LungCancer/LungFCP-01-0004/images/LungFCP-01-0004_a3.tiff', 'invasive': ['/content/drive/My Drive/WIKM/data/LungCancer/LungFCP-01-0004/annotations/LungFCP-01-0004_a3_annotation_00_R000G255B000.tiff'], 'in_situ': [], 'both': [], 'airway': '', 'blood': ''}, 'slide2': {'imgPath': '/content/drive/My Drive/WIKM/data/LungCancer/LungFCP-01-0004/images/LungFCP-01-0004_a4.tiff', 'invasive': ['/content/drive/My Drive/WIKM/data/LungCancer/LungFCP-01-0004/annotations/LungFCP-01-0004_a4_annotation_00_R000G255B000.tiff'], 'in_situ': [], 'both': [], 'airway': '', 'blood': ''}, 'slide3': {'imgPath': '/content/drive/My Drive/WIKM/data/LungCancer/LungFCP-01-0004/images/LungFCP-01-0004_a5.tiff', 'invasive': ['/content/drive/My Drive/WIKM/data/LungCancer/LungFCP-01-0004/annotations/LungFCP-01-0004_a5_annotation_00_R000G255B000.tiff'], 'in_situ': [], 'both': [], 'airway': '', 'blood': ''}, 'slide4': {'imgPath': '/content/drive/My Drive/WIKM/data/LungCancer/LungFCP-01-0004/images/LungFCP-01-0004_a6.tiff', 'invasive': ['/content/drive/My Drive/WIKM/data/LungCancer/LungFCP-01-0004/annotations/LungFCP-01-0004_a6_annotation_00_R000G255B000.tiff'], 'in_situ': ['/content/drive/My Drive/WIKM/data/LungCancer/LungFCP-01-0004/annotations/LungFCP-01-0004_a6_annotation_00_R000G000B255.tiff'], 'both': [], 'airway': '', 'blood': ''}}}\n",
            "patient4 {'slide1': {'imgPath': '/content/drive/My Drive/WIKM/data/LungCancer/LungFCP-01-0004/images/LungFCP-01-0004_a3.tiff', 'invasive': ['/content/drive/My Drive/WIKM/data/LungCancer/LungFCP-01-0004/annotations/LungFCP-01-0004_a3_annotation_00_R000G255B000.tiff'], 'in_situ': [], 'both': [], 'airway': '', 'blood': ''}, 'slide2': {'imgPath': '/content/drive/My Drive/WIKM/data/LungCancer/LungFCP-01-0004/images/LungFCP-01-0004_a4.tiff', 'invasive': ['/content/drive/My Drive/WIKM/data/LungCancer/LungFCP-01-0004/annotations/LungFCP-01-0004_a4_annotation_00_R000G255B000.tiff'], 'in_situ': [], 'both': [], 'airway': '', 'blood': ''}, 'slide3': {'imgPath': '/content/drive/My Drive/WIKM/data/LungCancer/LungFCP-01-0004/images/LungFCP-01-0004_a5.tiff', 'invasive': ['/content/drive/My Drive/WIKM/data/LungCancer/LungFCP-01-0004/annotations/LungFCP-01-0004_a5_annotation_00_R000G255B000.tiff'], 'in_situ': [], 'both': [], 'airway': '', 'blood': ''}, 'slide4': {'imgPath': '/content/drive/My Drive/WIKM/data/LungCancer/LungFCP-01-0004/images/LungFCP-01-0004_a6.tiff', 'invasive': ['/content/drive/My Drive/WIKM/data/LungCancer/LungFCP-01-0004/annotations/LungFCP-01-0004_a6_annotation_00_R000G255B000.tiff'], 'in_situ': ['/content/drive/My Drive/WIKM/data/LungCancer/LungFCP-01-0004/annotations/LungFCP-01-0004_a6_annotation_00_R000G000B255.tiff'], 'both': [], 'airway': '', 'blood': ''}}\n",
            "{'patient5': {'slide1': {'imgPath': '/content/drive/My Drive/WIKM/data/LungCancer/LungFCP-01-0005/images/LungFCP-01-0005_01.tiff', 'invasive': ['/content/drive/My Drive/WIKM/data/LungCancer/LungFCP-01-0005/annotations/LungFCP-01-0005_01_annotation_00_R000G255B000.tiff', '/content/drive/My Drive/WIKM/data/LungCancer/LungFCP-01-0005/annotations/LungFCP-01-0005_01_annotation_00_R001G255B000.tiff', '/content/drive/My Drive/WIKM/data/LungCancer/LungFCP-01-0005/annotations/LungFCP-01-0005_01_annotation_00_R002G255B000.tiff', '/content/drive/My Drive/WIKM/data/LungCancer/LungFCP-01-0005/annotations/LungFCP-01-0005_01_annotation_00_R003G255B000.tiff', '/content/drive/My Drive/WIKM/data/LungCancer/LungFCP-01-0005/annotations/LungFCP-01-0005_01_annotation_00_R004G255B000.tiff', '/content/drive/My Drive/WIKM/data/LungCancer/LungFCP-01-0005/annotations/LungFCP-01-0005_01_annotation_00_R005G255B000.tiff', '/content/drive/My Drive/WIKM/data/LungCancer/LungFCP-01-0005/annotations/LungFCP-01-0005_01_annotation_00_R006G255B000.tiff'], 'in_situ': ['/content/drive/My Drive/WIKM/data/LungCancer/LungFCP-01-0005/annotations/LungFCP-01-0005_01_annotation_00_R000G000B255.tiff'], 'both': [], 'airway': '', 'blood': ''}, 'slide2': {'imgPath': '/content/drive/My Drive/WIKM/data/LungCancer/LungFCP-01-0005/images/LungFCP-01-0005_02.tiff', 'invasive': ['/content/drive/My Drive/WIKM/data/LungCancer/LungFCP-01-0005/annotations/LungFCP-01-0005_02_annotation_00_R000G255B000.tiff'], 'in_situ': ['/content/drive/My Drive/WIKM/data/LungCancer/LungFCP-01-0005/annotations/LungFCP-01-0005_02_annotation_00_R000G000B255.tiff', '/content/drive/My Drive/WIKM/data/LungCancer/LungFCP-01-0005/annotations/LungFCP-01-0005_02_annotation_00_R001G000B255.tiff', '/content/drive/My Drive/WIKM/data/LungCancer/LungFCP-01-0005/annotations/LungFCP-01-0005_02_annotation_00_R002G000B255.tiff'], 'both': [], 'airway': '', 'blood': ''}, 'slide3': {'imgPath': '/content/drive/My Drive/WIKM/data/LungCancer/LungFCP-01-0005/images/LungFCP-01-0005_03.tiff', 'invasive': [], 'in_situ': [], 'both': [], 'airway': '', 'blood': ''}, 'slide4': {'imgPath': '/content/drive/My Drive/WIKM/data/LungCancer/LungFCP-01-0005/images/LungFCP-01-0005_04.tiff', 'invasive': ['/content/drive/My Drive/WIKM/data/LungCancer/LungFCP-01-0005/annotations/LungFCP-01-0005_04_annotation_00_R000G255B000.tiff'], 'in_situ': ['/content/drive/My Drive/WIKM/data/LungCancer/LungFCP-01-0005/annotations/LungFCP-01-0005_04_annotation_00_R000G000B255.tiff'], 'both': [], 'airway': '', 'blood': ''}, 'slide5': {'imgPath': '/content/drive/My Drive/WIKM/data/LungCancer/LungFCP-01-0005/images/LungFCP-01-0005_05.tiff', 'invasive': ['/content/drive/My Drive/WIKM/data/LungCancer/LungFCP-01-0005/annotations/LungFCP-01-0005_05_annotation_00_R000G255B000.tiff'], 'in_situ': ['/content/drive/My Drive/WIKM/data/LungCancer/LungFCP-01-0005/annotations/LungFCP-01-0005_05_annotation_00_R000G000B255.tiff', '/content/drive/My Drive/WIKM/data/LungCancer/LungFCP-01-0005/annotations/LungFCP-01-0005_05_annotation_00_R001G000B255.tiff'], 'both': [], 'airway': '', 'blood': ''}}}\n",
            "patient5 {'slide1': {'imgPath': '/content/drive/My Drive/WIKM/data/LungCancer/LungFCP-01-0005/images/LungFCP-01-0005_01.tiff', 'invasive': ['/content/drive/My Drive/WIKM/data/LungCancer/LungFCP-01-0005/annotations/LungFCP-01-0005_01_annotation_00_R000G255B000.tiff', '/content/drive/My Drive/WIKM/data/LungCancer/LungFCP-01-0005/annotations/LungFCP-01-0005_01_annotation_00_R001G255B000.tiff', '/content/drive/My Drive/WIKM/data/LungCancer/LungFCP-01-0005/annotations/LungFCP-01-0005_01_annotation_00_R002G255B000.tiff', '/content/drive/My Drive/WIKM/data/LungCancer/LungFCP-01-0005/annotations/LungFCP-01-0005_01_annotation_00_R003G255B000.tiff', '/content/drive/My Drive/WIKM/data/LungCancer/LungFCP-01-0005/annotations/LungFCP-01-0005_01_annotation_00_R004G255B000.tiff', '/content/drive/My Drive/WIKM/data/LungCancer/LungFCP-01-0005/annotations/LungFCP-01-0005_01_annotation_00_R005G255B000.tiff', '/content/drive/My Drive/WIKM/data/LungCancer/LungFCP-01-0005/annotations/LungFCP-01-0005_01_annotation_00_R006G255B000.tiff'], 'in_situ': ['/content/drive/My Drive/WIKM/data/LungCancer/LungFCP-01-0005/annotations/LungFCP-01-0005_01_annotation_00_R000G000B255.tiff'], 'both': [], 'airway': '', 'blood': ''}, 'slide2': {'imgPath': '/content/drive/My Drive/WIKM/data/LungCancer/LungFCP-01-0005/images/LungFCP-01-0005_02.tiff', 'invasive': ['/content/drive/My Drive/WIKM/data/LungCancer/LungFCP-01-0005/annotations/LungFCP-01-0005_02_annotation_00_R000G255B000.tiff'], 'in_situ': ['/content/drive/My Drive/WIKM/data/LungCancer/LungFCP-01-0005/annotations/LungFCP-01-0005_02_annotation_00_R000G000B255.tiff', '/content/drive/My Drive/WIKM/data/LungCancer/LungFCP-01-0005/annotations/LungFCP-01-0005_02_annotation_00_R001G000B255.tiff', '/content/drive/My Drive/WIKM/data/LungCancer/LungFCP-01-0005/annotations/LungFCP-01-0005_02_annotation_00_R002G000B255.tiff'], 'both': [], 'airway': '', 'blood': ''}, 'slide3': {'imgPath': '/content/drive/My Drive/WIKM/data/LungCancer/LungFCP-01-0005/images/LungFCP-01-0005_03.tiff', 'invasive': [], 'in_situ': [], 'both': [], 'airway': '', 'blood': ''}, 'slide4': {'imgPath': '/content/drive/My Drive/WIKM/data/LungCancer/LungFCP-01-0005/images/LungFCP-01-0005_04.tiff', 'invasive': ['/content/drive/My Drive/WIKM/data/LungCancer/LungFCP-01-0005/annotations/LungFCP-01-0005_04_annotation_00_R000G255B000.tiff'], 'in_situ': ['/content/drive/My Drive/WIKM/data/LungCancer/LungFCP-01-0005/annotations/LungFCP-01-0005_04_annotation_00_R000G000B255.tiff'], 'both': [], 'airway': '', 'blood': ''}, 'slide5': {'imgPath': '/content/drive/My Drive/WIKM/data/LungCancer/LungFCP-01-0005/images/LungFCP-01-0005_05.tiff', 'invasive': ['/content/drive/My Drive/WIKM/data/LungCancer/LungFCP-01-0005/annotations/LungFCP-01-0005_05_annotation_00_R000G255B000.tiff'], 'in_situ': ['/content/drive/My Drive/WIKM/data/LungCancer/LungFCP-01-0005/annotations/LungFCP-01-0005_05_annotation_00_R000G000B255.tiff', '/content/drive/My Drive/WIKM/data/LungCancer/LungFCP-01-0005/annotations/LungFCP-01-0005_05_annotation_00_R001G000B255.tiff'], 'both': [], 'airway': '', 'blood': ''}}\n",
            "{'patient6': {'slide1': {'imgPath': '/content/drive/My Drive/WIKM/data/LungCancer/LungFCP-01-0006/images/LungFCP-01-0006_d2.tiff', 'invasive': ['/content/drive/My Drive/WIKM/data/LungCancer/LungFCP-01-0006/annotations/LungFCP-01-0006_d2_annotation_00_R000G255B000.tiff'], 'in_situ': [], 'both': [], 'airway': '', 'blood': ''}, 'slide2': {'imgPath': '/content/drive/My Drive/WIKM/data/LungCancer/LungFCP-01-0006/images/LungFCP-01-0006_d3.tiff', 'invasive': ['/content/drive/My Drive/WIKM/data/LungCancer/LungFCP-01-0006/annotations/LungFCP-01-0006_d3_annotation_00_R000G255B000.tiff'], 'in_situ': ['/content/drive/My Drive/WIKM/data/LungCancer/LungFCP-01-0006/annotations/LungFCP-01-0006_d3_annotation_00_R000G000B255.tiff'], 'both': [], 'airway': '', 'blood': ''}, 'slide3': {'imgPath': '/content/drive/My Drive/WIKM/data/LungCancer/LungFCP-01-0006/images/LungFCP-01-0006_d4.tiff', 'invasive': ['/content/drive/My Drive/WIKM/data/LungCancer/LungFCP-01-0006/annotations/LungFCP-01-0006_d4_annotation_00_R000G255B000.tiff'], 'in_situ': [], 'both': [], 'airway': '', 'blood': ''}, 'slide4': {'imgPath': '/content/drive/My Drive/WIKM/data/LungCancer/LungFCP-01-0006/images/LungFCP-01-0006_d5.tiff', 'invasive': ['/content/drive/My Drive/WIKM/data/LungCancer/LungFCP-01-0006/annotations/LungFCP-01-0006_d5_annotation_00_R000G255B000.tiff', '/content/drive/My Drive/WIKM/data/LungCancer/LungFCP-01-0006/annotations/LungFCP-01-0006_d5_annotation_00_R001G255B000.tiff'], 'in_situ': [], 'both': [], 'airway': '', 'blood': ''}, 'slide5': {'imgPath': '/content/drive/My Drive/WIKM/data/LungCancer/LungFCP-01-0006/images/LungFCP-01-0006_d6.tiff', 'invasive': ['/content/drive/My Drive/WIKM/data/LungCancer/LungFCP-01-0006/annotations/LungFCP-01-0006_d6_annotation_00_R000G255B000.tiff', '/content/drive/My Drive/WIKM/data/LungCancer/LungFCP-01-0006/annotations/LungFCP-01-0006_d6_annotation_00_R001G255B000.tiff'], 'in_situ': [], 'both': [], 'airway': '', 'blood': ''}}}\n",
            "patient6 {'slide1': {'imgPath': '/content/drive/My Drive/WIKM/data/LungCancer/LungFCP-01-0006/images/LungFCP-01-0006_d2.tiff', 'invasive': ['/content/drive/My Drive/WIKM/data/LungCancer/LungFCP-01-0006/annotations/LungFCP-01-0006_d2_annotation_00_R000G255B000.tiff'], 'in_situ': [], 'both': [], 'airway': '', 'blood': ''}, 'slide2': {'imgPath': '/content/drive/My Drive/WIKM/data/LungCancer/LungFCP-01-0006/images/LungFCP-01-0006_d3.tiff', 'invasive': ['/content/drive/My Drive/WIKM/data/LungCancer/LungFCP-01-0006/annotations/LungFCP-01-0006_d3_annotation_00_R000G255B000.tiff'], 'in_situ': ['/content/drive/My Drive/WIKM/data/LungCancer/LungFCP-01-0006/annotations/LungFCP-01-0006_d3_annotation_00_R000G000B255.tiff'], 'both': [], 'airway': '', 'blood': ''}, 'slide3': {'imgPath': '/content/drive/My Drive/WIKM/data/LungCancer/LungFCP-01-0006/images/LungFCP-01-0006_d4.tiff', 'invasive': ['/content/drive/My Drive/WIKM/data/LungCancer/LungFCP-01-0006/annotations/LungFCP-01-0006_d4_annotation_00_R000G255B000.tiff'], 'in_situ': [], 'both': [], 'airway': '', 'blood': ''}, 'slide4': {'imgPath': '/content/drive/My Drive/WIKM/data/LungCancer/LungFCP-01-0006/images/LungFCP-01-0006_d5.tiff', 'invasive': ['/content/drive/My Drive/WIKM/data/LungCancer/LungFCP-01-0006/annotations/LungFCP-01-0006_d5_annotation_00_R000G255B000.tiff', '/content/drive/My Drive/WIKM/data/LungCancer/LungFCP-01-0006/annotations/LungFCP-01-0006_d5_annotation_00_R001G255B000.tiff'], 'in_situ': [], 'both': [], 'airway': '', 'blood': ''}, 'slide5': {'imgPath': '/content/drive/My Drive/WIKM/data/LungCancer/LungFCP-01-0006/images/LungFCP-01-0006_d6.tiff', 'invasive': ['/content/drive/My Drive/WIKM/data/LungCancer/LungFCP-01-0006/annotations/LungFCP-01-0006_d6_annotation_00_R000G255B000.tiff', '/content/drive/My Drive/WIKM/data/LungCancer/LungFCP-01-0006/annotations/LungFCP-01-0006_d6_annotation_00_R001G255B000.tiff'], 'in_situ': [], 'both': [], 'airway': '', 'blood': ''}}\n"
          ]
        }
      ]
    },
    {
      "cell_type": "code",
      "source": [
        "from patchify import patchify, unpatchify\n",
        "from PIL import Image\n",
        "import random\n",
        "\n",
        "wikmPatchedImagesFolderNorm = '//content//drive//My Drive//WIKM//normMaskedImages'\n",
        "wikmTrainNormalPatches = '/content/drive/MyDrive/WIKM/patchedImagesPNG256x256/Train/normal'\n",
        "wikmTestNormalPatches = '//content//drive//My Drive//WIKM//normalPatches//Test'\n",
        "wikmValidationNormalPatches = '//content//drive//My Drive//WIKM//normalPatches//Validation'\n",
        "os.chdir(wikmPatchedImagesFolderNorm)\n",
        "\n",
        "patchNum = 1\n",
        "for imageName in os.listdir(wikmPatchedImagesFolderNorm):\n",
        "  os.chdir(wikmPatchedImagesFolderNorm)\n",
        "  print(imageName)\n",
        "  image = cv2.imread(imageName)\n",
        "  patches = patchify(image, (256, 256, 3), step = 256)    # im is image // 100x100 patches // 3 is the for colored image // step\n",
        "  print('--ACCESSING IMAGE--', imageName)\n",
        "\n",
        "  for i in range(patches.shape[0]): #0 is first dimension\n",
        "      for j in range(patches.shape[1]): #1 is second dimension\n",
        "        singlePatch = patches[i, j, 0, :, :, :]\n",
        "\n",
        "        if not (np.all(singlePatch == 0) or np.all(singlePatch == 255)):\n",
        "          #RNG = random.randint(1, 10)\n",
        "          #if RNG == 1:\n",
        "          #  os.chdir(wikmTestNormalPatches)\n",
        "          #  cv2.imwrite(f'Patch{patchNum}.png', singlePatch) # test\n",
        "          #elif RNG == 2:\n",
        "          #  os.chdir(wikmValidationNormalPatches)\n",
        "          #  cv2.imwrite(f'Patch{patchNum}.png', singlePatch) # validation\n",
        "          #else:\n",
        "          os.chdir(wikmTrainNormalPatches)\n",
        "          cv2.imwrite(f'Patch{patchNum}.png', singlePatch) # train\n",
        "        patchNum += 1"
      ],
      "metadata": {
        "id": "luHuERGODM6m"
      },
      "execution_count": null,
      "outputs": []
    },
    {
      "cell_type": "code",
      "source": [
        "normalPatchesFolder = '/content/drive/MyDrive/WIKM/patchedImagesPNG256x256/Train/normal'\n",
        "\n",
        "normalPatches = os.listdir(normalPatchesFolder)\n",
        "delete_black('/content/drive/MyDrive/WIKM/patchedImagesPNG256x256/Train/normal')\n",
        "#for setType in normalPatches:\n",
        "  # print(setType)\n",
        "#  folderPath = os.path.join(normalPatchesFolder, setType)\n",
        "#  print(folderPath)\n",
        "  # for patch in os.listdir(os.path.join(normalPatchesFolder, setType)):\n",
        "#  delete_black(folderPath)"
      ],
      "metadata": {
        "colab": {
          "base_uri": "https://localhost:8080/"
        },
        "id": "Og6srzbPK-1f",
        "outputId": "76605995-eb81-40e5-d15c-095031105d14"
      },
      "execution_count": null,
      "outputs": [
        {
          "output_type": "stream",
          "name": "stdout",
          "text": [
            "removing 0 images\n"
          ]
        },
        {
          "output_type": "execute_result",
          "data": {
            "text/plain": [
              "0"
            ]
          },
          "metadata": {},
          "execution_count": 34
        }
      ]
    },
    {
      "cell_type": "markdown",
      "source": [
        "### loading//preprocessing different way"
      ],
      "metadata": {
        "id": "pDR55iR01IVZ"
      }
    },
    {
      "cell_type": "code",
      "source": [
        "import fnmatch"
      ],
      "metadata": {
        "id": "F0ur3DNm3rhq"
      },
      "execution_count": null,
      "outputs": []
    },
    {
      "cell_type": "code",
      "source": [
        "imagePatches = glob('/content/drive/MyDrive/WIKM/patchedImagesPNG256x256/Train/*/*.png')\n",
        "\n",
        "\n",
        "'''\n",
        "class0 = norm\n",
        "class1= invasive\n",
        "class2 = in_situ\n",
        "class3 = both\n",
        "'''\n",
        "pattern0 = '/content/drive/MyDrive/WIKM/patchedImagesPNG256x256/Train/normal/*.png'\n",
        "pattern1 = '/content/drive/MyDrive/WIKM/patchedImagesPNG256x256/Train/invasive/*.png'\n",
        "pattern2 = '/content/drive/MyDrive/WIKM/patchedImagesPNG256x256/Train/in_situ/*.png'\n",
        "pattern3 = '/content/drive/MyDrive/WIKM/patchedImagesPNG256x256/Train/both/*.png'\n",
        "\n",
        "class0 = fnmatch.filter(imagePatches, pattern0)\n",
        "class1 = fnmatch.filter(imagePatches, pattern1)\n",
        "class2 = fnmatch.filter(imagePatches, pattern2)\n",
        "class3 = fnmatch.filter(imagePatches, pattern3)"
      ],
      "metadata": {
        "id": "ZkN80Q-_1kwM"
      },
      "execution_count": null,
      "outputs": []
    },
    {
      "cell_type": "code",
      "source": [
        "print(len(class0))\n",
        "print(len(class1))\n",
        "print(len(class2))\n",
        "print(len(class3))"
      ],
      "metadata": {
        "colab": {
          "base_uri": "https://localhost:8080/"
        },
        "id": "oCmlxa_pWPY7",
        "outputId": "168b3b92-949e-4073-fb66-0bb6bac8d6d1"
      },
      "execution_count": null,
      "outputs": [
        {
          "output_type": "stream",
          "name": "stdout",
          "text": [
            "25287\n",
            "4544\n",
            "736\n",
            "1040\n"
          ]
        }
      ]
    },
    {
      "cell_type": "code",
      "source": [
        "print(len(os.listdir('/content/drive/MyDrive/WIKM/patchedImagesPNG256x256/Train/normal')))\n",
        "print(len(os.listdir('/content/drive/MyDrive/WIKM/patchedImagesPNG256x256/Train/both')))\n",
        "print(len(os.listdir('/content/drive/MyDrive/WIKM/patchedImagesPNG256x256/Train/in_situ')))\n",
        "print(len(os.listdir('/content/drive/MyDrive/WIKM/patchedImagesPNG256x256/Train/invasive')))"
      ],
      "metadata": {
        "colab": {
          "base_uri": "https://localhost:8080/"
        },
        "id": "OdEv19hoWOJl",
        "outputId": "cb22385a-ad41-43db-cd70-632243d0251c"
      },
      "execution_count": null,
      "outputs": [
        {
          "output_type": "stream",
          "name": "stdout",
          "text": [
            "25287\n",
            "1041\n",
            "736\n",
            "4544\n"
          ]
        }
      ]
    },
    {
      "cell_type": "code",
      "source": [
        "def process_images(lowerIndex,upperIndex):\n",
        "    \"\"\"\n",
        "    Returns two arrays: \n",
        "        x is an array of resized images\n",
        "        y is an array of labels\n",
        "    \"\"\" \n",
        "    height = 256\n",
        "    width = 256\n",
        "    channels = 3\n",
        "    x = [] #list to store image data\n",
        "    y = [] #list to store corresponding class\n",
        "    for img in imagePatches[lowerIndex:upperIndex]:\n",
        "        full_image = cv2.imread(img)\n",
        "        image = (cv2.resize(full_image, (width, height), interpolation = cv2.INTER_CUBIC))\n",
        "        x.append(image)\n",
        "        if img in class0:\n",
        "            y.append(0)\n",
        "        elif img in class1:\n",
        "            y.append(1)\n",
        "        elif img in class2:\n",
        "          y.append(2)\n",
        "        elif img in class3:\n",
        "          y.append(3)\n",
        "        else:\n",
        "            return\n",
        "    return x,y"
      ],
      "metadata": {
        "id": "ZwmSMjG65zYz"
      },
      "execution_count": null,
      "outputs": []
    },
    {
      "cell_type": "code",
      "source": [
        "class_weights = generate_class_weights(y_train)\n",
        "n_classes = len(class_weights)\n",
        "print(n_classes)"
      ],
      "metadata": {
        "id": "rLinJxyJH-ki"
      },
      "execution_count": null,
      "outputs": []
    },
    {
      "cell_type": "code",
      "source": [
        "batch_size = 256\n",
        "num_classes = 4\n",
        "epochs = 80\n",
        "\n",
        "model = Sequential()\n",
        "model.add(Conv2D(16, kernel_size=3, activation='relu', padding='same', input_shape=(256, 256, 3)))\n",
        "model.add(Conv2D(16, kernel_size=3, activation='relu', padding='same'))\n",
        "model.add(Conv2D(16, kernel_size=3, activation='relu', padding='same'))\n",
        "model.add(MaxPooling2D(pool_size=2))\n",
        "model.add(Conv2D(32, kernel_size=3, activation='relu', padding='same'))\n",
        "model.add(Conv2D(32, kernel_size=3, activation='relu', padding='same'))\n",
        "model.add(Conv2D(32, kernel_size=3, activation='relu', padding='same'))\n",
        "model.add(MaxPooling2D(pool_size=2))\n",
        "model.add(Conv2D(64, kernel_size=3, activation='relu', padding='same'))\n",
        "model.add(Conv2D(64, kernel_size=3, activation='relu', padding='same'))\n",
        "model.add(Conv2D(64, kernel_size=3, activation='relu', padding='same'))\n",
        "model.add(MaxPooling2D(pool_size=2))\n",
        "model.add(Dropout(0.35))\n",
        "model.add(Flatten())\n",
        "model.add(Dense(256, activation='relu'))\n",
        "model.add(Dropout(0.5))\n",
        "model.add(Dense(num_classes, activation='softmax'))"
      ],
      "metadata": {
        "id": "mxnq48S9CIC0"
      },
      "execution_count": null,
      "outputs": []
    },
    {
      "cell_type": "code",
      "source": [
        "model.compile(loss=keras.losses.sparse_categorical_crossentropy,\n",
        "              optimizer=keras.optimizers.Adam(lr=0.0001),\n",
        "              metrics=['accuracy'])"
      ],
      "metadata": {
        "id": "i2_vx-blCcyR"
      },
      "execution_count": null,
      "outputs": []
    },
    {
      "cell_type": "code",
      "source": [
        "datagen = ImageDataGenerator(rescale = 1./255, \n",
        "                             shear_range = 0.2, \n",
        "                             zoom_range = 0.2, \n",
        "                             rotation_range=180, \n",
        "                             horizontal_flip=True, \n",
        "                             vertical_flip=True, \n",
        "                             fill_mode='wrap',\n",
        "                             featurewise_center = True,\n",
        "                             featurewise_std_normalization = True)"
      ],
      "metadata": {
        "id": "lOD3PpGzCz17"
      },
      "execution_count": null,
      "outputs": []
    },
    {
      "cell_type": "markdown",
      "source": [
        "### VGG Classification "
      ],
      "metadata": {
        "id": "gZOxv4gLTdDw"
      }
    },
    {
      "cell_type": "code",
      "source": [
        "from keras.preprocessing.image import ImageDataGenerator\n",
        "from glob import glob\n",
        "\n",
        "#train_datagen = ImageDataGenerator(rotation_range=180, horizontal_flip=True, vertical_flip=True, fill_mode='wrap')\n",
        "#train_generator = train_datagen.flow_from_directory(directory='patchedImages/patient1', class_mode='sparse', save_to_dir='preview', save_prefix='aug', save_format='jpeg')\n",
        "#train_generator = train_datagen.flow_from_directory(directory='/content/drive/MyDrive/WIKM/patchedImages/patient1', class_mode='sparse', save_to_dir='preview', save_prefix='aug', save_format='jpeg')\n",
        "\n",
        "# val_datagen = ImageDataGenerator()\n",
        "# val_generator = val_datagen.flow_from_directory(...)\n",
        "'''\n",
        "output: tuple (images, labels)\n",
        "images: (batch_size, image_size[0], image_size[1], num_channels)\n",
        "labels: (batch_size,) int32\n",
        "- 0-invasiive, 1-both (determined by class_name)\n",
        "preview\n",
        "'''"
      ],
      "metadata": {
        "id": "PGVl-Ts8Bf2d",
        "colab": {
          "base_uri": "https://localhost:8080/",
          "height": 54
        },
        "outputId": "84bef4b5-8b92-4bda-d5cc-37eeab5b3dcb"
      },
      "execution_count": null,
      "outputs": [
        {
          "output_type": "execute_result",
          "data": {
            "application/vnd.google.colaboratory.intrinsic+json": {
              "type": "string"
            },
            "text/plain": [
              "'\\noutput: tuple (images, labels)\\nimages: (batch_size, image_size[0], image_size[1], num_channels)\\nlabels: (batch_size,) int32\\n- 0-invasiive, 1-both (determined by class_name)\\npreview\\n'"
            ]
          },
          "metadata": {},
          "execution_count": 5
        }
      ]
    },
    {
      "cell_type": "code",
      "source": [
        "VGGIMAGE_SIZE = [224, 224]\n",
        "\n",
        "datagen = ImageDataGenerator(rescale = 1./255, shear_range = 0.2, zoom_range = 0.2, rotation_range=180, horizontal_flip=True, vertical_flip=True, fill_mode='wrap',validation_split=0.2)\n",
        "\n",
        "training_set = datagen.flow_from_directory(directory = 'patchedImagesPNG256x256/Train', target_size = (224, 224), shuffle = True,\n",
        "                                            batch_size = 20,class_mode = 'sparse',subset='training')\n",
        "val_set = datagen.flow_from_directory(directory = 'patchedImagesPNG256x256/Train', target_size = (224, 224), shuffle = True,\n",
        "                                            batch_size = 20,class_mode = 'sparse',subset='validation')"
      ],
      "metadata": {
        "colab": {
          "base_uri": "https://localhost:8080/"
        },
        "id": "PlFgjd8U6gKM",
        "outputId": "ba9c6c0e-59a8-4df2-aa6b-169213b7a7c8"
      },
      "execution_count": null,
      "outputs": [
        {
          "output_type": "stream",
          "name": "stdout",
          "text": [
            "Found 8101 images belonging to 3 classes.\n",
            "Found 7081 images belonging to 3 classes.\n"
          ]
        }
      ]
    },
    {
      "cell_type": "code",
      "source": [
        "from keras.layers import Input, Lambda, Dense, Flatten\n",
        "from keras.models import Model\n",
        "#from keras.applications.resnet50 import ResNet50\n",
        "from keras.applications.vgg16 import VGG16\n",
        "from keras.applications.vgg16 import preprocess_input\n",
        "from keras.preprocessing import image\n",
        "from keras.models import Sequential\n",
        "from glob import glob\n",
        "from keras.preprocessing.image import ImageDataGenerator\n",
        "import keras\n",
        "import tensorflow as tf\n",
        "import matplotlib.pyplot as plt\n",
        "import pandas as pd\n",
        "import numpy as np\n",
        "from PIL import ImageFile\n",
        "%matplotlib inline"
      ],
      "metadata": {
        "id": "0sFmz2-vrOe_"
      },
      "execution_count": null,
      "outputs": []
    },
    {
      "cell_type": "code",
      "source": [
        "vgg = VGG16(input_shape = VGGIMAGE_SIZE + [3], weights='imagenet', include_top=False)"
      ],
      "metadata": {
        "id": "L-zZnmxG1Ybj",
        "colab": {
          "base_uri": "https://localhost:8080/"
        },
        "outputId": "bca512eb-df5a-403e-9bce-1810b3924c53"
      },
      "execution_count": null,
      "outputs": [
        {
          "output_type": "stream",
          "name": "stdout",
          "text": [
            "Downloading data from https://storage.googleapis.com/tensorflow/keras-applications/vgg16/vgg16_weights_tf_dim_ordering_tf_kernels_notop.h5\n",
            "58892288/58889256 [==============================] - 1s 0us/step\n",
            "58900480/58889256 [==============================] - 1s 0us/step\n"
          ]
        }
      ]
    },
    {
      "cell_type": "code",
      "source": [
        "for layer in vgg.layers:\n",
        "  layer.trainable = False"
      ],
      "metadata": {
        "id": "sKAmwbjgrPtw"
      },
      "execution_count": null,
      "outputs": []
    },
    {
      "cell_type": "code",
      "source": [
        "folders = glob('/content/drive/MyDrive/WIKM/patchedImagesPNG256x256/Train/*')\n",
        "\n",
        "x = Flatten()(vgg.output)"
      ],
      "metadata": {
        "id": "XSuZ-DdB2CGj"
      },
      "execution_count": null,
      "outputs": []
    },
    {
      "cell_type": "code",
      "source": [
        "x.shape"
      ],
      "metadata": {
        "colab": {
          "base_uri": "https://localhost:8080/"
        },
        "id": "0uonazgmmFji",
        "outputId": "03b84101-a9ae-42f5-8e13-a104b9a29b70"
      },
      "execution_count": null,
      "outputs": [
        {
          "output_type": "execute_result",
          "data": {
            "text/plain": [
              "TensorShape([None, 25088])"
            ]
          },
          "metadata": {},
          "execution_count": 13
        }
      ]
    },
    {
      "cell_type": "code",
      "source": [
        "prediction = Dense(len(folders), activation='softmax')(x)\n",
        "\n",
        " \n",
        "model = Model(inputs=vgg.input, outputs=prediction)"
      ],
      "metadata": {
        "id": "o9c49TTA2buv"
      },
      "execution_count": null,
      "outputs": []
    },
    {
      "cell_type": "code",
      "source": [
        "#model.summary()\n",
        "from tensorflow import losses, optimizers\n",
        "#loss = losses.SparseCategoricalCrossentropy(from_logits=True)\n",
        "optimizer = optimizers.Adam(learning_rate=1e-4)\n",
        "\n",
        "model.compile(\n",
        "    loss = 'sparse_categorical_crossentropy',\n",
        "    optimizer = optimizer,\n",
        "    metrics = ['accuracy'])"
      ],
      "metadata": {
        "id": "PsxSYKcV2iDp"
      },
      "execution_count": null,
      "outputs": []
    },
    {
      "cell_type": "code",
      "source": [
        "model.summary()"
      ],
      "metadata": {
        "colab": {
          "base_uri": "https://localhost:8080/"
        },
        "id": "y7qGv7exolCO",
        "outputId": "99912f7d-8d50-4068-9736-4dae11c3cdff"
      },
      "execution_count": null,
      "outputs": [
        {
          "output_type": "stream",
          "name": "stdout",
          "text": [
            "Model: \"model_2\"\n",
            "_________________________________________________________________\n",
            " Layer (type)                Output Shape              Param #   \n",
            "=================================================================\n",
            " input_3 (InputLayer)        [(None, 224, 224, 3)]     0         \n",
            "                                                                 \n",
            " block1_conv1 (Conv2D)       (None, 224, 224, 64)      1792      \n",
            "                                                                 \n",
            " block1_conv2 (Conv2D)       (None, 224, 224, 64)      36928     \n",
            "                                                                 \n",
            " block1_pool (MaxPooling2D)  (None, 112, 112, 64)      0         \n",
            "                                                                 \n",
            " block2_conv1 (Conv2D)       (None, 112, 112, 128)     73856     \n",
            "                                                                 \n",
            " block2_conv2 (Conv2D)       (None, 112, 112, 128)     147584    \n",
            "                                                                 \n",
            " block2_pool (MaxPooling2D)  (None, 56, 56, 128)       0         \n",
            "                                                                 \n",
            " block3_conv1 (Conv2D)       (None, 56, 56, 256)       295168    \n",
            "                                                                 \n",
            " block3_conv2 (Conv2D)       (None, 56, 56, 256)       590080    \n",
            "                                                                 \n",
            " block3_conv3 (Conv2D)       (None, 56, 56, 256)       590080    \n",
            "                                                                 \n",
            " block3_pool (MaxPooling2D)  (None, 28, 28, 256)       0         \n",
            "                                                                 \n",
            " block4_conv1 (Conv2D)       (None, 28, 28, 512)       1180160   \n",
            "                                                                 \n",
            " block4_conv2 (Conv2D)       (None, 28, 28, 512)       2359808   \n",
            "                                                                 \n",
            " block4_conv3 (Conv2D)       (None, 28, 28, 512)       2359808   \n",
            "                                                                 \n",
            " block4_pool (MaxPooling2D)  (None, 14, 14, 512)       0         \n",
            "                                                                 \n",
            " block5_conv1 (Conv2D)       (None, 14, 14, 512)       2359808   \n",
            "                                                                 \n",
            " block5_conv2 (Conv2D)       (None, 14, 14, 512)       2359808   \n",
            "                                                                 \n",
            " block5_conv3 (Conv2D)       (None, 14, 14, 512)       2359808   \n",
            "                                                                 \n",
            " block5_pool (MaxPooling2D)  (None, 7, 7, 512)         0         \n",
            "                                                                 \n",
            " flatten_2 (Flatten)         (None, 25088)             0         \n",
            "                                                                 \n",
            " dense_2 (Dense)             (None, 4)                 100356    \n",
            "                                                                 \n",
            "=================================================================\n",
            "Total params: 14,815,044\n",
            "Trainable params: 100,356\n",
            "Non-trainable params: 14,714,688\n",
            "_________________________________________________________________\n"
          ]
        }
      ]
    },
    {
      "cell_type": "code",
      "source": [
        "sess = tf.compat.v1.Session(config=tf.compat.v1.ConfigProto(log_device_placement=True))"
      ],
      "metadata": {
        "id": "t4At-k67idt0",
        "colab": {
          "base_uri": "https://localhost:8080/"
        },
        "outputId": "114d751b-4719-4612-b0bb-38dae0725441"
      },
      "execution_count": null,
      "outputs": [
        {
          "output_type": "stream",
          "name": "stdout",
          "text": [
            "Device mapping:\n",
            "/job:localhost/replica:0/task:0/device:GPU:0 -> device: 0, name: Tesla T4, pci bus id: 0000:00:04.0, compute capability: 7.5\n",
            "\n"
          ]
        }
      ]
    },
    {
      "cell_type": "code",
      "source": [
        "from tensorflow.python.client import device_lib\n",
        "print(device_lib.list_local_devices())"
      ],
      "metadata": {
        "id": "hFcYtjQjioWt",
        "colab": {
          "base_uri": "https://localhost:8080/"
        },
        "outputId": "c6b2311b-ad38-442a-da98-fa1b13dff0b1"
      },
      "execution_count": null,
      "outputs": [
        {
          "output_type": "stream",
          "name": "stdout",
          "text": [
            "[name: \"/device:CPU:0\"\n",
            "device_type: \"CPU\"\n",
            "memory_limit: 268435456\n",
            "locality {\n",
            "}\n",
            "incarnation: 15034051253345942928\n",
            "xla_global_id: -1\n",
            ", name: \"/device:GPU:0\"\n",
            "device_type: \"GPU\"\n",
            "memory_limit: 14465892352\n",
            "locality {\n",
            "  bus_id: 1\n",
            "  links {\n",
            "  }\n",
            "}\n",
            "incarnation: 7648758483114517847\n",
            "physical_device_desc: \"device: 0, name: Tesla T4, pci bus id: 0000:00:04.0, compute capability: 7.5\"\n",
            "xla_global_id: 416903419\n",
            "]\n"
          ]
        }
      ]
    },
    {
      "cell_type": "code",
      "source": [
        "print(len(os.listdir('/content/drive/MyDrive/WIKM/patchedImagesPNG256x256/Train/normal')))\n",
        "print(len(os.listdir('/content/drive/MyDrive/WIKM/patchedImagesPNG256x256/Train/both')))\n",
        "print(len(os.listdir('/content/drive/MyDrive/WIKM/patchedImagesPNG256x256/Train/in_situ')))\n",
        "print(len(os.listdir('/content/drive/MyDrive/WIKM/patchedImagesPNG256x256/Train/invasive')))"
      ],
      "metadata": {
        "id": "Xr3wwPE7r3-2",
        "colab": {
          "base_uri": "https://localhost:8080/"
        },
        "outputId": "9f95b28d-5241-4e07-eff1-2d5a91dbd697"
      },
      "execution_count": null,
      "outputs": [
        {
          "output_type": "stream",
          "name": "stdout",
          "text": [
            "18670\n",
            "1041\n",
            "736\n",
            "4544\n"
          ]
        }
      ]
    },
    {
      "cell_type": "code",
      "source": [
        "step_size_train = training_set.n//training_set.batch_size\n",
        "step_size_valid = val_set.n//val_set.batch_size\n",
        "\n",
        "with tf.device('/device:GPU:0'):\n",
        "  vgg_model_train = model.fit_generator(\n",
        "      generator = training_set,\n",
        "      validation_data = val_set,\n",
        "      epochs = 100,\n",
        "      steps_per_epoch = step_size_train,\n",
        "      validation_steps = step_size_valid,\n",
        ")"
      ],
      "metadata": {
        "colab": {
          "base_uri": "https://localhost:8080/",
          "height": 1000
        },
        "id": "bsZjLmJV4aCO",
        "outputId": "0e25b33f-253f-4f30-96cd-26f9515ef992"
      },
      "execution_count": null,
      "outputs": [
        {
          "metadata": {
            "tags": null
          },
          "name": "stderr",
          "output_type": "stream",
          "text": [
            "/usr/local/lib/python3.7/dist-packages/ipykernel_launcher.py:10: UserWarning: `Model.fit_generator` is deprecated and will be removed in a future version. Please use `Model.fit`, which supports generators.\n",
            "  # Remove the CWD from sys.path while we load stuff.\n"
          ]
        },
        {
          "output_type": "stream",
          "name": "stdout",
          "text": [
            "Epoch 1/100\n",
            "773/998 [======================>.......] - ETA: 31:00 - loss: 0.6235 - accuracy: 0.7515"
          ]
        },
        {
          "output_type": "error",
          "ename": "UnknownError",
          "evalue": "ignored",
          "traceback": [
            "\u001b[0;31m---------------------------------------------------------------------------\u001b[0m",
            "\u001b[0;31mUnknownError\u001b[0m                              Traceback (most recent call last)",
            "\u001b[0;32m<ipython-input-14-fa1d3be3f4e7>\u001b[0m in \u001b[0;36m<module>\u001b[0;34m()\u001b[0m\n\u001b[1;32m      8\u001b[0m       \u001b[0mepochs\u001b[0m \u001b[0;34m=\u001b[0m \u001b[0;36m100\u001b[0m\u001b[0;34m,\u001b[0m\u001b[0;34m\u001b[0m\u001b[0;34m\u001b[0m\u001b[0m\n\u001b[1;32m      9\u001b[0m       \u001b[0msteps_per_epoch\u001b[0m \u001b[0;34m=\u001b[0m \u001b[0mstep_size_train\u001b[0m\u001b[0;34m,\u001b[0m\u001b[0;34m\u001b[0m\u001b[0;34m\u001b[0m\u001b[0m\n\u001b[0;32m---> 10\u001b[0;31m       \u001b[0mvalidation_steps\u001b[0m \u001b[0;34m=\u001b[0m \u001b[0mstep_size_valid\u001b[0m\u001b[0;34m,\u001b[0m\u001b[0;34m\u001b[0m\u001b[0;34m\u001b[0m\u001b[0m\n\u001b[0m\u001b[1;32m     11\u001b[0m )\n",
            "\u001b[0;32m/usr/local/lib/python3.7/dist-packages/keras/engine/training.py\u001b[0m in \u001b[0;36mfit_generator\u001b[0;34m(self, generator, steps_per_epoch, epochs, verbose, callbacks, validation_data, validation_steps, validation_freq, class_weight, max_queue_size, workers, use_multiprocessing, shuffle, initial_epoch)\u001b[0m\n\u001b[1;32m   2028\u001b[0m         \u001b[0muse_multiprocessing\u001b[0m\u001b[0;34m=\u001b[0m\u001b[0muse_multiprocessing\u001b[0m\u001b[0;34m,\u001b[0m\u001b[0;34m\u001b[0m\u001b[0;34m\u001b[0m\u001b[0m\n\u001b[1;32m   2029\u001b[0m         \u001b[0mshuffle\u001b[0m\u001b[0;34m=\u001b[0m\u001b[0mshuffle\u001b[0m\u001b[0;34m,\u001b[0m\u001b[0;34m\u001b[0m\u001b[0;34m\u001b[0m\u001b[0m\n\u001b[0;32m-> 2030\u001b[0;31m         initial_epoch=initial_epoch)\n\u001b[0m\u001b[1;32m   2031\u001b[0m \u001b[0;34m\u001b[0m\u001b[0m\n\u001b[1;32m   2032\u001b[0m   \u001b[0;34m@\u001b[0m\u001b[0mdoc_controls\u001b[0m\u001b[0;34m.\u001b[0m\u001b[0mdo_not_generate_docs\u001b[0m\u001b[0;34m\u001b[0m\u001b[0;34m\u001b[0m\u001b[0m\n",
            "\u001b[0;32m/usr/local/lib/python3.7/dist-packages/keras/utils/traceback_utils.py\u001b[0m in \u001b[0;36merror_handler\u001b[0;34m(*args, **kwargs)\u001b[0m\n\u001b[1;32m     65\u001b[0m     \u001b[0;32mexcept\u001b[0m \u001b[0mException\u001b[0m \u001b[0;32mas\u001b[0m \u001b[0me\u001b[0m\u001b[0;34m:\u001b[0m  \u001b[0;31m# pylint: disable=broad-except\u001b[0m\u001b[0;34m\u001b[0m\u001b[0;34m\u001b[0m\u001b[0m\n\u001b[1;32m     66\u001b[0m       \u001b[0mfiltered_tb\u001b[0m \u001b[0;34m=\u001b[0m \u001b[0m_process_traceback_frames\u001b[0m\u001b[0;34m(\u001b[0m\u001b[0me\u001b[0m\u001b[0;34m.\u001b[0m\u001b[0m__traceback__\u001b[0m\u001b[0;34m)\u001b[0m\u001b[0;34m\u001b[0m\u001b[0;34m\u001b[0m\u001b[0m\n\u001b[0;32m---> 67\u001b[0;31m       \u001b[0;32mraise\u001b[0m \u001b[0me\u001b[0m\u001b[0;34m.\u001b[0m\u001b[0mwith_traceback\u001b[0m\u001b[0;34m(\u001b[0m\u001b[0mfiltered_tb\u001b[0m\u001b[0;34m)\u001b[0m \u001b[0;32mfrom\u001b[0m \u001b[0;32mNone\u001b[0m\u001b[0;34m\u001b[0m\u001b[0;34m\u001b[0m\u001b[0m\n\u001b[0m\u001b[1;32m     68\u001b[0m     \u001b[0;32mfinally\u001b[0m\u001b[0;34m:\u001b[0m\u001b[0;34m\u001b[0m\u001b[0;34m\u001b[0m\u001b[0m\n\u001b[1;32m     69\u001b[0m       \u001b[0;32mdel\u001b[0m \u001b[0mfiltered_tb\u001b[0m\u001b[0;34m\u001b[0m\u001b[0;34m\u001b[0m\u001b[0m\n",
            "\u001b[0;32m/usr/local/lib/python3.7/dist-packages/tensorflow/python/eager/execute.py\u001b[0m in \u001b[0;36mquick_execute\u001b[0;34m(op_name, num_outputs, inputs, attrs, ctx, name)\u001b[0m\n\u001b[1;32m     57\u001b[0m     \u001b[0mctx\u001b[0m\u001b[0;34m.\u001b[0m\u001b[0mensure_initialized\u001b[0m\u001b[0;34m(\u001b[0m\u001b[0;34m)\u001b[0m\u001b[0;34m\u001b[0m\u001b[0;34m\u001b[0m\u001b[0m\n\u001b[1;32m     58\u001b[0m     tensors = pywrap_tfe.TFE_Py_Execute(ctx._handle, device_name, op_name,\n\u001b[0;32m---> 59\u001b[0;31m                                         inputs, attrs, num_outputs)\n\u001b[0m\u001b[1;32m     60\u001b[0m   \u001b[0;32mexcept\u001b[0m \u001b[0mcore\u001b[0m\u001b[0;34m.\u001b[0m\u001b[0m_NotOkStatusException\u001b[0m \u001b[0;32mas\u001b[0m \u001b[0me\u001b[0m\u001b[0;34m:\u001b[0m\u001b[0;34m\u001b[0m\u001b[0;34m\u001b[0m\u001b[0m\n\u001b[1;32m     61\u001b[0m     \u001b[0;32mif\u001b[0m \u001b[0mname\u001b[0m \u001b[0;32mis\u001b[0m \u001b[0;32mnot\u001b[0m \u001b[0;32mNone\u001b[0m\u001b[0;34m:\u001b[0m\u001b[0;34m\u001b[0m\u001b[0;34m\u001b[0m\u001b[0m\n",
            "\u001b[0;31mUnknownError\u001b[0m: 2 root error(s) found.\n  (0) UNKNOWN:  FileNotFoundError: [Errno 2] No such file or directory\nTraceback (most recent call last):\n\n  File \"/usr/local/lib/python3.7/dist-packages/tensorflow/python/ops/script_ops.py\", line 275, in __call__\n    ret = func(*args)\n\n  File \"/usr/local/lib/python3.7/dist-packages/tensorflow/python/autograph/impl/api.py\", line 649, in wrapper\n    return func(*args, **kwargs)\n\n  File \"/usr/local/lib/python3.7/dist-packages/tensorflow/python/data/ops/dataset_ops.py\", line 992, in generator_py_func\n    values = next(generator_state.get_iterator(iterator_id))\n\n  File \"/usr/local/lib/python3.7/dist-packages/keras/engine/data_adapter.py\", line 834, in wrapped_generator\n    for data in generator_fn():\n\n  File \"/usr/local/lib/python3.7/dist-packages/keras/engine/data_adapter.py\", line 960, in generator_fn\n    yield x[i]\n\n  File \"/usr/local/lib/python3.7/dist-packages/keras_preprocessing/image/iterator.py\", line 65, in __getitem__\n    return self._get_batches_of_transformed_samples(index_array)\n\n  File \"/usr/local/lib/python3.7/dist-packages/keras_preprocessing/image/iterator.py\", line 230, in _get_batches_of_transformed_samples\n    interpolation=self.interpolation)\n\n  File \"/usr/local/lib/python3.7/dist-packages/keras_preprocessing/image/utils.py\", line 114, in load_img\n    img = pil_image.open(io.BytesIO(f.read()))\n\nFileNotFoundError: [Errno 2] No such file or directory\n\n\n\t [[{{node PyFunc}}]]\n\t [[IteratorGetNext]]\n\t [[IteratorGetNext/_2]]\n  (1) UNKNOWN:  FileNotFoundError: [Errno 2] No such file or directory\nTraceback (most recent call last):\n\n  File \"/usr/local/lib/python3.7/dist-packages/tensorflow/python/ops/script_ops.py\", line 275, in __call__\n    ret = func(*args)\n\n  File \"/usr/local/lib/python3.7/dist-packages/tensorflow/python/autograph/impl/api.py\", line 649, in wrapper\n    return func(*args, **kwargs)\n\n  File \"/usr/local/lib/python3.7/dist-packages/tensorflow/python/data/ops/dataset_ops.py\", line 992, in generator_py_func\n    values = next(generator_state.get_iterator(iterator_id))\n\n  File \"/usr/local/lib/python3.7/dist-packages/keras/engine/data_adapter.py\", line 834, in wrapped_generator\n    for data in generator_fn():\n\n  File \"/usr/local/lib/python3.7/dist-packages/keras/engine/data_adapter.py\", line 960, in generator_fn\n    yield x[i]\n\n  File \"/usr/local/lib/python3.7/dist-packages/keras_preprocessing/image/iterator.py\", line 65, in __getitem__\n    return self._get_batches_of_transformed_samples(index_array)\n\n  File \"/usr/local/lib/python3.7/dist-packages/keras_preprocessing/image/iterator.py\", line 230, in _get_batches_of_transformed_samples\n    interpolation=self.interpolation)\n\n  File \"/usr/local/lib/python3.7/dist-packages/keras_preprocessing/image/utils.py\", line 114, in load_img\n    img = pil_image.open(io.BytesIO(f.read()))\n\nFileNotFoundError: [Errno 2] No such file or directory\n\n\n\t [[{{node PyFunc}}]]\n\t [[IteratorGetNext]]\n0 successful operations.\n0 derived errors ignored. [Op:__inference_train_function_1184]\n\nFunction call stack:\ntrain_function -> train_function\n"
          ]
        }
      ]
    },
    {
      "cell_type": "code",
      "source": [
        "# plot the loss\n",
        "plt.plot(vgg_model_train.history['loss'], label='train loss')\n",
        "plt.plot(vgg_model_train.history['val_loss'], label='val loss')\n",
        "plt.legend()\n",
        "plt.show()\n",
        "\n",
        "# plot the accuracy\n",
        "plt.plot(vgg_model_train.history['accuracy'], label='train acc')\n",
        "plt.plot(vgg_model_train.history['val_accuracy'], label='val acc')\n",
        "plt.legend()\n",
        "plt.show()\n"
      ],
      "metadata": {
        "colab": {
          "base_uri": "https://localhost:8080/",
          "height": 516
        },
        "id": "pb6aC9_h0_wY",
        "outputId": "8ed36a20-91c3-4087-d9bc-f1a918a13f40"
      },
      "execution_count": null,
      "outputs": [
        {
          "output_type": "display_data",
          "data": {
            "image/png": "[encoded data removed]",
            "text/plain": [
              "<Figure size 432x288 with 1 Axes>"
            ]
          },
          "metadata": {
            "needs_background": "light"
          }
        },
        {
          "output_type": "display_data",
          "data": {
            "image/png": "[encoded data removed]",
            "text/plain": [
              "<Figure size 432x288 with 1 Axes>"
            ]
          },
          "metadata": {
            "needs_background": "light"
          }
        }
      ]
    },
    {
      "cell_type": "markdown",
      "source": [
        "### Regular CNN Classification 512x512"
      ],
      "metadata": {
        "id": "7RTRMHcFx0Y4"
      }
    },
    {
      "cell_type": "code",
      "source": [
        "from tensorflow.python.keras.layers import Dense,Conv2D, MaxPooling2D, Flatten, BatchNormalization, Dropout\n",
        "from tensorflow.python.keras import Sequential\n",
        "from keras.models import Model\n",
        "from glob import glob\n",
        "from keras.preprocessing.image import ImageDataGenerator\n",
        "import keras\n",
        "import tensorflow as tf\n",
        "import matplotlib.pyplot as plt\n",
        "import pandas as pd\n",
        "import numpy as np\n",
        "from PIL import ImageFile\n",
        "%matplotlib inline"
      ],
      "metadata": {
        "id": "dc39lKhLzAhM"
      },
      "execution_count": null,
      "outputs": []
    },
    {
      "cell_type": "code",
      "source": [
        "datagen = ImageDataGenerator(rescale = 1./255, shear_range = 0.2, zoom_range = 0.2, rotation_range=180, horizontal_flip=True, vertical_flip=True, fill_mode='wrap',validation_split=0.2)\n",
        "\n",
        "training_set = datagen.flow_from_directory(directory = 'patchedImagesPNG256x256/Train', target_size = (256, 256), shuffle = True,\n",
        "                                             seed=42,batch_size = 32,class_mode = 'sparse',subset='training')\n",
        "\n",
        "val_set = datagen.flow_from_directory(directory = 'patchedImagesPNG256x256/Train', target_size = (256, 256), shuffle = True,\n",
        "                                             seed=42,batch_size = 32,class_mode = 'sparse',subset='validation')"
      ],
      "metadata": {
        "colab": {
          "base_uri": "https://localhost:8080/"
        },
        "id": "T4FQgOHzvUeO",
        "outputId": "241cbb34-7986-4dd1-b9e0-6841604a711f"
      },
      "execution_count": null,
      "outputs": [
        {
          "output_type": "stream",
          "name": "stdout",
          "text": [
            "Found 25287 images belonging to 4 classes.\n",
            "Found 6320 images belonging to 4 classes.\n"
          ]
        }
      ]
    },
    {
      "cell_type": "code",
      "source": [
        "from keras.models import Sequential, Model\n",
        "from keras.layers import Dense, Flatten, Input, Conv2D, MaxPooling2D, Dropout, Activation, GlobalAveragePooling2D\n",
        "from keras import regularizers\n",
        "from tensorflow.keras.optimizers import Adam\n",
        "\n",
        "\n",
        "model = Sequential()\n",
        "model.add(Conv2D(16, kernel_size=3, activation='relu', padding='same', input_shape=(256, 256, 3)))\n",
        "model.add(Conv2D(16, kernel_size=3, activation='relu', padding='same'))\n",
        "model.add(Conv2D(16, kernel_size=3, activation='relu', padding='same'))\n",
        "model.add(MaxPooling2D(pool_size=2))\n",
        "model.add(Conv2D(32, kernel_size=3, activation='relu', padding='same'))\n",
        "model.add(Conv2D(32, kernel_size=3, activation='relu', padding='same'))\n",
        "model.add(Conv2D(32, kernel_size=3, activation='relu', padding='same'))\n",
        "model.add(MaxPooling2D(pool_size=2))\n",
        "model.add(Conv2D(64, kernel_size=3, activation='relu', padding='same'))\n",
        "model.add(Conv2D(64, kernel_size=3, activation='relu', padding='same'))\n",
        "model.add(Conv2D(64, kernel_size=3, activation='relu', padding='same'))\n",
        "model.add(MaxPooling2D(pool_size=2))\n",
        "model.add(Dropout(0.35))\n",
        "model.add(Flatten())\n",
        "model.add(Dense(256, activation='relu'))\n",
        "model.add(Dropout(0.5))\n",
        "model.add(Dense(4, activation='softmax'))"
      ],
      "metadata": {
        "id": "PtYG013yct_h"
      },
      "execution_count": null,
      "outputs": []
    },
    {
      "cell_type": "code",
      "source": [
        "model.summary()"
      ],
      "metadata": {
        "id": "iU0eAiNhzJXx",
        "colab": {
          "base_uri": "https://localhost:8080/"
        },
        "outputId": "edeccb8b-0b24-41f3-beab-6ec67c83fed7"
      },
      "execution_count": null,
      "outputs": [
        {
          "output_type": "stream",
          "name": "stdout",
          "text": [
            "Model: \"sequential_2\"\n",
            "_________________________________________________________________\n",
            " Layer (type)                Output Shape              Param #   \n",
            "=================================================================\n",
            " conv2d_18 (Conv2D)          (None, 256, 256, 16)      448       \n",
            "                                                                 \n",
            " conv2d_19 (Conv2D)          (None, 256, 256, 16)      2320      \n",
            "                                                                 \n",
            " conv2d_20 (Conv2D)          (None, 256, 256, 16)      2320      \n",
            "                                                                 \n",
            " max_pooling2d_6 (MaxPooling  (None, 128, 128, 16)     0         \n",
            " 2D)                                                             \n",
            "                                                                 \n",
            " conv2d_21 (Conv2D)          (None, 128, 128, 32)      4640      \n",
            "                                                                 \n",
            " conv2d_22 (Conv2D)          (None, 128, 128, 32)      9248      \n",
            "                                                                 \n",
            " conv2d_23 (Conv2D)          (None, 128, 128, 32)      9248      \n",
            "                                                                 \n",
            " max_pooling2d_7 (MaxPooling  (None, 64, 64, 32)       0         \n",
            " 2D)                                                             \n",
            "                                                                 \n",
            " conv2d_24 (Conv2D)          (None, 64, 64, 64)        18496     \n",
            "                                                                 \n",
            " conv2d_25 (Conv2D)          (None, 64, 64, 64)        36928     \n",
            "                                                                 \n",
            " conv2d_26 (Conv2D)          (None, 64, 64, 64)        36928     \n",
            "                                                                 \n",
            " max_pooling2d_8 (MaxPooling  (None, 32, 32, 64)       0         \n",
            " 2D)                                                             \n",
            "                                                                 \n",
            " dropout_4 (Dropout)         (None, 32, 32, 64)        0         \n",
            "                                                                 \n",
            " flatten_2 (Flatten)         (None, 65536)             0         \n",
            "                                                                 \n",
            " dense_4 (Dense)             (None, 256)               16777472  \n",
            "                                                                 \n",
            " dropout_5 (Dropout)         (None, 256)               0         \n",
            "                                                                 \n",
            " dense_5 (Dense)             (None, 4)                 1028      \n",
            "                                                                 \n",
            "=================================================================\n",
            "Total params: 16,899,076\n",
            "Trainable params: 16,899,076\n",
            "Non-trainable params: 0\n",
            "_________________________________________________________________\n"
          ]
        }
      ]
    },
    {
      "cell_type": "code",
      "source": [
        "from keras.optimizers import adam_v2\n",
        "optimizer = adam_v2.Adam(learning_rate=1e-4)\n",
        "model.compile(loss='sparse_categorical_crossentropy',  optimizer=optimizer  , metrics=['accuracy'])"
      ],
      "metadata": {
        "id": "mflnRjfXaLQC"
      },
      "execution_count": null,
      "outputs": []
    },
    {
      "cell_type": "code",
      "source": [
        "step_size_train = training_set.n//training_set.batch_size\n",
        "step_size_valid = val_set.n//val_set.batch_size\n",
        "\n",
        "with tf.device('/device:GPU:0'):\n",
        "  model_CNN_train = model.fit(\n",
        "      training_set,\n",
        "      validation_data = val_set,\n",
        "      epochs = 100,\n",
        "      steps_per_epoch = step_size_train,\n",
        "      validation_steps = step_size_valid)"
      ],
      "metadata": {
        "id": "yX238c6l0dg-",
        "colab": {
          "base_uri": "https://localhost:8080/",
          "height": 484
        },
        "outputId": "b412530e-a3c2-4247-98dd-48af1f2a6c92"
      },
      "execution_count": null,
      "outputs": [
        {
          "output_type": "stream",
          "name": "stdout",
          "text": [
            "Epoch 1/100\n",
            "790/790 [==============================] - 7061s 9s/step - loss: 0.4260 - accuracy: 0.8485 - val_loss: 0.6723 - val_accuracy: 0.7229\n",
            "Epoch 2/100\n",
            "790/790 [==============================] - 558s 706ms/step - loss: 0.3393 - accuracy: 0.8683 - val_loss: 0.7553 - val_accuracy: 0.7108\n",
            "Epoch 3/100\n",
            "790/790 [==============================] - 549s 694ms/step - loss: 0.3099 - accuracy: 0.8769 - val_loss: 0.7990 - val_accuracy: 0.6734\n",
            "Epoch 4/100\n",
            "  9/790 [..............................] - ETA: 7:07 - loss: 0.3242 - accuracy: 0.8646"
          ]
        },
        {
          "output_type": "error",
          "ename": "KeyboardInterrupt",
          "evalue": "ignored",
          "traceback": [
            "\u001b[0;31m---------------------------------------------------------------------------\u001b[0m",
            "\u001b[0;31mKeyboardInterrupt\u001b[0m                         Traceback (most recent call last)",
            "\u001b[0;32m<ipython-input-19-e6174df15a4b>\u001b[0m in \u001b[0;36m<module>\u001b[0;34m()\u001b[0m\n\u001b[1;32m      8\u001b[0m       \u001b[0mepochs\u001b[0m \u001b[0;34m=\u001b[0m \u001b[0;36m100\u001b[0m\u001b[0;34m,\u001b[0m\u001b[0;34m\u001b[0m\u001b[0;34m\u001b[0m\u001b[0m\n\u001b[1;32m      9\u001b[0m       \u001b[0msteps_per_epoch\u001b[0m \u001b[0;34m=\u001b[0m \u001b[0mstep_size_train\u001b[0m\u001b[0;34m,\u001b[0m\u001b[0;34m\u001b[0m\u001b[0;34m\u001b[0m\u001b[0m\n\u001b[0;32m---> 10\u001b[0;31m       validation_steps = step_size_valid)\n\u001b[0m",
            "\u001b[0;32m/usr/local/lib/python3.7/dist-packages/keras/utils/traceback_utils.py\u001b[0m in \u001b[0;36merror_handler\u001b[0;34m(*args, **kwargs)\u001b[0m\n\u001b[1;32m     62\u001b[0m     \u001b[0mfiltered_tb\u001b[0m \u001b[0;34m=\u001b[0m \u001b[0;32mNone\u001b[0m\u001b[0;34m\u001b[0m\u001b[0;34m\u001b[0m\u001b[0m\n\u001b[1;32m     63\u001b[0m     \u001b[0;32mtry\u001b[0m\u001b[0;34m:\u001b[0m\u001b[0;34m\u001b[0m\u001b[0;34m\u001b[0m\u001b[0m\n\u001b[0;32m---> 64\u001b[0;31m       \u001b[0;32mreturn\u001b[0m \u001b[0mfn\u001b[0m\u001b[0;34m(\u001b[0m\u001b[0;34m*\u001b[0m\u001b[0margs\u001b[0m\u001b[0;34m,\u001b[0m \u001b[0;34m**\u001b[0m\u001b[0mkwargs\u001b[0m\u001b[0;34m)\u001b[0m\u001b[0;34m\u001b[0m\u001b[0;34m\u001b[0m\u001b[0m\n\u001b[0m\u001b[1;32m     65\u001b[0m     \u001b[0;32mexcept\u001b[0m \u001b[0mException\u001b[0m \u001b[0;32mas\u001b[0m \u001b[0me\u001b[0m\u001b[0;34m:\u001b[0m  \u001b[0;31m# pylint: disable=broad-except\u001b[0m\u001b[0;34m\u001b[0m\u001b[0;34m\u001b[0m\u001b[0m\n\u001b[1;32m     66\u001b[0m       \u001b[0mfiltered_tb\u001b[0m \u001b[0;34m=\u001b[0m \u001b[0m_process_traceback_frames\u001b[0m\u001b[0;34m(\u001b[0m\u001b[0me\u001b[0m\u001b[0;34m.\u001b[0m\u001b[0m__traceback__\u001b[0m\u001b[0;34m)\u001b[0m\u001b[0;34m\u001b[0m\u001b[0;34m\u001b[0m\u001b[0m\n",
            "\u001b[0;32m/usr/local/lib/python3.7/dist-packages/keras/engine/training.py\u001b[0m in \u001b[0;36mfit\u001b[0;34m(self, x, y, batch_size, epochs, verbose, callbacks, validation_split, validation_data, shuffle, class_weight, sample_weight, initial_epoch, steps_per_epoch, validation_steps, validation_batch_size, validation_freq, max_queue_size, workers, use_multiprocessing)\u001b[0m\n\u001b[1;32m   1214\u001b[0m                 _r=1):\n\u001b[1;32m   1215\u001b[0m               \u001b[0mcallbacks\u001b[0m\u001b[0;34m.\u001b[0m\u001b[0mon_train_batch_begin\u001b[0m\u001b[0;34m(\u001b[0m\u001b[0mstep\u001b[0m\u001b[0;34m)\u001b[0m\u001b[0;34m\u001b[0m\u001b[0;34m\u001b[0m\u001b[0m\n\u001b[0;32m-> 1216\u001b[0;31m               \u001b[0mtmp_logs\u001b[0m \u001b[0;34m=\u001b[0m \u001b[0mself\u001b[0m\u001b[0;34m.\u001b[0m\u001b[0mtrain_function\u001b[0m\u001b[0;34m(\u001b[0m\u001b[0miterator\u001b[0m\u001b[0;34m)\u001b[0m\u001b[0;34m\u001b[0m\u001b[0;34m\u001b[0m\u001b[0m\n\u001b[0m\u001b[1;32m   1217\u001b[0m               \u001b[0;32mif\u001b[0m \u001b[0mdata_handler\u001b[0m\u001b[0;34m.\u001b[0m\u001b[0mshould_sync\u001b[0m\u001b[0;34m:\u001b[0m\u001b[0;34m\u001b[0m\u001b[0;34m\u001b[0m\u001b[0m\n\u001b[1;32m   1218\u001b[0m                 \u001b[0mcontext\u001b[0m\u001b[0;34m.\u001b[0m\u001b[0masync_wait\u001b[0m\u001b[0;34m(\u001b[0m\u001b[0;34m)\u001b[0m\u001b[0;34m\u001b[0m\u001b[0;34m\u001b[0m\u001b[0m\n",
            "\u001b[0;32m/usr/local/lib/python3.7/dist-packages/tensorflow/python/util/traceback_utils.py\u001b[0m in \u001b[0;36merror_handler\u001b[0;34m(*args, **kwargs)\u001b[0m\n\u001b[1;32m    148\u001b[0m     \u001b[0mfiltered_tb\u001b[0m \u001b[0;34m=\u001b[0m \u001b[0;32mNone\u001b[0m\u001b[0;34m\u001b[0m\u001b[0;34m\u001b[0m\u001b[0m\n\u001b[1;32m    149\u001b[0m     \u001b[0;32mtry\u001b[0m\u001b[0;34m:\u001b[0m\u001b[0;34m\u001b[0m\u001b[0;34m\u001b[0m\u001b[0m\n\u001b[0;32m--> 150\u001b[0;31m       \u001b[0;32mreturn\u001b[0m \u001b[0mfn\u001b[0m\u001b[0;34m(\u001b[0m\u001b[0;34m*\u001b[0m\u001b[0margs\u001b[0m\u001b[0;34m,\u001b[0m \u001b[0;34m**\u001b[0m\u001b[0mkwargs\u001b[0m\u001b[0;34m)\u001b[0m\u001b[0;34m\u001b[0m\u001b[0;34m\u001b[0m\u001b[0m\n\u001b[0m\u001b[1;32m    151\u001b[0m     \u001b[0;32mexcept\u001b[0m \u001b[0mException\u001b[0m \u001b[0;32mas\u001b[0m \u001b[0me\u001b[0m\u001b[0;34m:\u001b[0m\u001b[0;34m\u001b[0m\u001b[0;34m\u001b[0m\u001b[0m\n\u001b[1;32m    152\u001b[0m       \u001b[0mfiltered_tb\u001b[0m \u001b[0;34m=\u001b[0m \u001b[0m_process_traceback_frames\u001b[0m\u001b[0;34m(\u001b[0m\u001b[0me\u001b[0m\u001b[0;34m.\u001b[0m\u001b[0m__traceback__\u001b[0m\u001b[0;34m)\u001b[0m\u001b[0;34m\u001b[0m\u001b[0;34m\u001b[0m\u001b[0m\n",
            "\u001b[0;32m/usr/local/lib/python3.7/dist-packages/tensorflow/python/eager/def_function.py\u001b[0m in \u001b[0;36m__call__\u001b[0;34m(self, *args, **kwds)\u001b[0m\n\u001b[1;32m    908\u001b[0m \u001b[0;34m\u001b[0m\u001b[0m\n\u001b[1;32m    909\u001b[0m       \u001b[0;32mwith\u001b[0m \u001b[0mOptionalXlaContext\u001b[0m\u001b[0;34m(\u001b[0m\u001b[0mself\u001b[0m\u001b[0;34m.\u001b[0m\u001b[0m_jit_compile\u001b[0m\u001b[0;34m)\u001b[0m\u001b[0;34m:\u001b[0m\u001b[0;34m\u001b[0m\u001b[0;34m\u001b[0m\u001b[0m\n\u001b[0;32m--> 910\u001b[0;31m         \u001b[0mresult\u001b[0m \u001b[0;34m=\u001b[0m \u001b[0mself\u001b[0m\u001b[0;34m.\u001b[0m\u001b[0m_call\u001b[0m\u001b[0;34m(\u001b[0m\u001b[0;34m*\u001b[0m\u001b[0margs\u001b[0m\u001b[0;34m,\u001b[0m \u001b[0;34m**\u001b[0m\u001b[0mkwds\u001b[0m\u001b[0;34m)\u001b[0m\u001b[0;34m\u001b[0m\u001b[0;34m\u001b[0m\u001b[0m\n\u001b[0m\u001b[1;32m    911\u001b[0m \u001b[0;34m\u001b[0m\u001b[0m\n\u001b[1;32m    912\u001b[0m       \u001b[0mnew_tracing_count\u001b[0m \u001b[0;34m=\u001b[0m \u001b[0mself\u001b[0m\u001b[0;34m.\u001b[0m\u001b[0mexperimental_get_tracing_count\u001b[0m\u001b[0;34m(\u001b[0m\u001b[0;34m)\u001b[0m\u001b[0;34m\u001b[0m\u001b[0;34m\u001b[0m\u001b[0m\n",
            "\u001b[0;32m/usr/local/lib/python3.7/dist-packages/tensorflow/python/eager/def_function.py\u001b[0m in \u001b[0;36m_call\u001b[0;34m(self, *args, **kwds)\u001b[0m\n\u001b[1;32m    940\u001b[0m       \u001b[0;31m# In this case we have created variables on the first call, so we run the\u001b[0m\u001b[0;34m\u001b[0m\u001b[0;34m\u001b[0m\u001b[0;34m\u001b[0m\u001b[0m\n\u001b[1;32m    941\u001b[0m       \u001b[0;31m# defunned version which is guaranteed to never create variables.\u001b[0m\u001b[0;34m\u001b[0m\u001b[0;34m\u001b[0m\u001b[0;34m\u001b[0m\u001b[0m\n\u001b[0;32m--> 942\u001b[0;31m       \u001b[0;32mreturn\u001b[0m \u001b[0mself\u001b[0m\u001b[0;34m.\u001b[0m\u001b[0m_stateless_fn\u001b[0m\u001b[0;34m(\u001b[0m\u001b[0;34m*\u001b[0m\u001b[0margs\u001b[0m\u001b[0;34m,\u001b[0m \u001b[0;34m**\u001b[0m\u001b[0mkwds\u001b[0m\u001b[0;34m)\u001b[0m  \u001b[0;31m# pylint: disable=not-callable\u001b[0m\u001b[0;34m\u001b[0m\u001b[0;34m\u001b[0m\u001b[0m\n\u001b[0m\u001b[1;32m    943\u001b[0m     \u001b[0;32melif\u001b[0m \u001b[0mself\u001b[0m\u001b[0;34m.\u001b[0m\u001b[0m_stateful_fn\u001b[0m \u001b[0;32mis\u001b[0m \u001b[0;32mnot\u001b[0m \u001b[0;32mNone\u001b[0m\u001b[0;34m:\u001b[0m\u001b[0;34m\u001b[0m\u001b[0;34m\u001b[0m\u001b[0m\n\u001b[1;32m    944\u001b[0m       \u001b[0;31m# Release the lock early so that multiple threads can perform the call\u001b[0m\u001b[0;34m\u001b[0m\u001b[0;34m\u001b[0m\u001b[0;34m\u001b[0m\u001b[0m\n",
            "\u001b[0;32m/usr/local/lib/python3.7/dist-packages/tensorflow/python/eager/function.py\u001b[0m in \u001b[0;36m__call__\u001b[0;34m(self, *args, **kwargs)\u001b[0m\n\u001b[1;32m   3129\u001b[0m        filtered_flat_args) = self._maybe_define_function(args, kwargs)\n\u001b[1;32m   3130\u001b[0m     return graph_function._call_flat(\n\u001b[0;32m-> 3131\u001b[0;31m         filtered_flat_args, captured_inputs=graph_function.captured_inputs)  # pylint: disable=protected-access\n\u001b[0m\u001b[1;32m   3132\u001b[0m \u001b[0;34m\u001b[0m\u001b[0m\n\u001b[1;32m   3133\u001b[0m   \u001b[0;34m@\u001b[0m\u001b[0mproperty\u001b[0m\u001b[0;34m\u001b[0m\u001b[0;34m\u001b[0m\u001b[0m\n",
            "\u001b[0;32m/usr/local/lib/python3.7/dist-packages/tensorflow/python/eager/function.py\u001b[0m in \u001b[0;36m_call_flat\u001b[0;34m(self, args, captured_inputs, cancellation_manager)\u001b[0m\n\u001b[1;32m   1958\u001b[0m       \u001b[0;31m# No tape is watching; skip to running the function.\u001b[0m\u001b[0;34m\u001b[0m\u001b[0;34m\u001b[0m\u001b[0;34m\u001b[0m\u001b[0m\n\u001b[1;32m   1959\u001b[0m       return self._build_call_outputs(self._inference_function.call(\n\u001b[0;32m-> 1960\u001b[0;31m           ctx, args, cancellation_manager=cancellation_manager))\n\u001b[0m\u001b[1;32m   1961\u001b[0m     forward_backward = self._select_forward_and_backward_functions(\n\u001b[1;32m   1962\u001b[0m         \u001b[0margs\u001b[0m\u001b[0;34m,\u001b[0m\u001b[0;34m\u001b[0m\u001b[0;34m\u001b[0m\u001b[0m\n",
            "\u001b[0;32m/usr/local/lib/python3.7/dist-packages/tensorflow/python/eager/function.py\u001b[0m in \u001b[0;36mcall\u001b[0;34m(self, ctx, args, cancellation_manager)\u001b[0m\n\u001b[1;32m    601\u001b[0m               \u001b[0minputs\u001b[0m\u001b[0;34m=\u001b[0m\u001b[0margs\u001b[0m\u001b[0;34m,\u001b[0m\u001b[0;34m\u001b[0m\u001b[0;34m\u001b[0m\u001b[0m\n\u001b[1;32m    602\u001b[0m               \u001b[0mattrs\u001b[0m\u001b[0;34m=\u001b[0m\u001b[0mattrs\u001b[0m\u001b[0;34m,\u001b[0m\u001b[0;34m\u001b[0m\u001b[0;34m\u001b[0m\u001b[0m\n\u001b[0;32m--> 603\u001b[0;31m               ctx=ctx)\n\u001b[0m\u001b[1;32m    604\u001b[0m         \u001b[0;32melse\u001b[0m\u001b[0;34m:\u001b[0m\u001b[0;34m\u001b[0m\u001b[0;34m\u001b[0m\u001b[0m\n\u001b[1;32m    605\u001b[0m           outputs = execute.execute_with_cancellation(\n",
            "\u001b[0;32m/usr/local/lib/python3.7/dist-packages/tensorflow/python/eager/execute.py\u001b[0m in \u001b[0;36mquick_execute\u001b[0;34m(op_name, num_outputs, inputs, attrs, ctx, name)\u001b[0m\n\u001b[1;32m     57\u001b[0m     \u001b[0mctx\u001b[0m\u001b[0;34m.\u001b[0m\u001b[0mensure_initialized\u001b[0m\u001b[0;34m(\u001b[0m\u001b[0;34m)\u001b[0m\u001b[0;34m\u001b[0m\u001b[0;34m\u001b[0m\u001b[0m\n\u001b[1;32m     58\u001b[0m     tensors = pywrap_tfe.TFE_Py_Execute(ctx._handle, device_name, op_name,\n\u001b[0;32m---> 59\u001b[0;31m                                         inputs, attrs, num_outputs)\n\u001b[0m\u001b[1;32m     60\u001b[0m   \u001b[0;32mexcept\u001b[0m \u001b[0mcore\u001b[0m\u001b[0;34m.\u001b[0m\u001b[0m_NotOkStatusException\u001b[0m \u001b[0;32mas\u001b[0m \u001b[0me\u001b[0m\u001b[0;34m:\u001b[0m\u001b[0;34m\u001b[0m\u001b[0;34m\u001b[0m\u001b[0m\n\u001b[1;32m     61\u001b[0m     \u001b[0;32mif\u001b[0m \u001b[0mname\u001b[0m \u001b[0;32mis\u001b[0m \u001b[0;32mnot\u001b[0m \u001b[0;32mNone\u001b[0m\u001b[0;34m:\u001b[0m\u001b[0;34m\u001b[0m\u001b[0;34m\u001b[0m\u001b[0m\n",
            "\u001b[0;31mKeyboardInterrupt\u001b[0m: "
          ]
        }
      ]
    },
    {
      "cell_type": "code",
      "source": [
        "# plot the loss\n",
        "plt.plot(model_CNN_train.history['loss'], label='train loss')\n",
        "plt.plot(model_CNN_train.history['val_loss'], label='val loss')\n",
        "plt.legend()\n",
        "plt.show()\n",
        "\n",
        "# plot the accuracy\n",
        "plt.plot(model_CNN_train.history['accuracy'], label='train acc')\n",
        "plt.plot(model_CNN_train.history['val_accuracy'], label='val acc')\n",
        "plt.legend()\n",
        "plt.show()\n"
      ],
      "metadata": {
        "colab": {
          "base_uri": "https://localhost:8080/",
          "height": 512
        },
        "id": "G78uqGgq6sEK",
        "outputId": "af9c1910-ea65-4365-9156-d76640b97d0c"
      },
      "execution_count": null,
      "outputs": [
        {
          "output_type": "display_data",
          "data": {
            "image/png": "[encoded data removed]",
            "text/plain": [
              "<Figure size 432x288 with 1 Axes>"
            ]
          },
          "metadata": {
            "needs_background": "light"
          }
        },
        {
          "output_type": "display_data",
          "data": {
            "image/png": "[encoded data removed]",
            "text/plain": [
              "<Figure size 432x288 with 1 Axes>"
            ]
          },
          "metadata": {
            "needs_background": "light"
          }
        }
      ]
    },
    {
      "cell_type": "markdown",
      "source": [
        "### Regular CNN 100x100 images"
      ],
      "metadata": {
        "id": "Ez8hTTxepSNO"
      }
    },
    {
      "cell_type": "markdown",
      "source": [
        "ResNet50"
      ],
      "metadata": {
        "id": "Fu4E9cfn6mut"
      }
    },
    {
      "cell_type": "code",
      "source": [
        "from keras.layers import Input, Lambda, Dense, Flatten\n",
        "from tensorflow.python.keras.layers import Dense,Conv2D, MaxPooling2D, Flatten, BatchNormalization, Dropout\n",
        "from keras.models import Model\n",
        "from tensorflow.keras.applications.resnet50 import ResNet50\n",
        "from keras.applications.vgg16 import VGG16\n",
        "from keras.applications.vgg16 import preprocess_input\n",
        "from keras.preprocessing import image\n",
        "from keras.models import Sequential\n",
        "from glob import glob\n",
        "from keras.preprocessing.image import ImageDataGenerator\n",
        "import keras\n",
        "import tensorflow as tf\n",
        "import matplotlib.pyplot as plt\n",
        "import pandas as pd\n",
        "import numpy as np\n",
        "from PIL import ImageFile\n",
        "%matplotlib inline"
      ],
      "metadata": {
        "id": "msbyQFF36rMm"
      },
      "execution_count": null,
      "outputs": []
    },
    {
      "cell_type": "code",
      "source": [
        ""
      ],
      "metadata": {
        "id": "MF_zF4oQ7bCa"
      },
      "execution_count": null,
      "outputs": []
    },
    {
      "cell_type": "code",
      "source": [
        "#testing block - no need to run\n",
        "i = 0\n",
        "for batch in training_set:\n",
        "#     print(batch)\n",
        "     print(batch[0].shape) #float32(32, 256, 256, 3)\n",
        "     print(batch[1].shape) #float32 (32,)\n",
        "     i += 1\n",
        "     if i > 2:\n",
        "         break\n",
        "# https://blog.keras.io/building-powerful-image-classification-models-using-very-little-data.html"
      ],
      "metadata": {
        "colab": {
          "base_uri": "https://localhost:8080/"
        },
        "id": "RD5KX_sPMhzU",
        "outputId": "c7dfe945-bb89-4824-c495-1715f7081150"
      },
      "execution_count": null,
      "outputs": [
        {
          "output_type": "stream",
          "name": "stdout",
          "text": [
            "(32, 224, 224, 3)\n",
            "(32,)\n",
            "(32, 224, 224, 3)\n",
            "(32,)\n",
            "(32, 224, 224, 3)\n",
            "(32,)\n"
          ]
        }
      ]
    },
    {
      "cell_type": "markdown",
      "source": [
        "### ResNet Classification"
      ],
      "metadata": {
        "id": "8cMSH0L-vVSk"
      }
    },
    {
      "cell_type": "code",
      "source": [
        "import tensorflow as tf\n",
        "print(tf.__version__) #need 2.7.0\n",
        "from tensorflow.keras.applications import resnet50\n",
        "from tensorflow.keras.models import Model\n",
        "from tensorflow.keras.layers import Input\n",
        "from tensorflow.keras.layers import Lambda\n",
        "from tensorflow.keras.layers import Conv2D\n",
        "from tensorflow.keras.layers import Dense\n",
        "from tensorflow.keras.layers import Dropout\n",
        "from tensorflow.keras.layers import AveragePooling2D\n",
        "from tensorflow.keras.layers import GlobalAveragePooling2D\n",
        "from tensorflow.keras.layers import MaxPooling2D\n",
        "from tensorflow.keras.layers import Flatten\n",
        "from keras.preprocessing.image import ImageDataGenerator"
      ],
      "metadata": {
        "colab": {
          "base_uri": "https://localhost:8080/"
        },
        "id": "0xaZJ3vPvX_H",
        "outputId": "3a92d370-a3a5-4e21-8e85-85880593bbb5"
      },
      "execution_count": null,
      "outputs": [
        {
          "output_type": "stream",
          "name": "stdout",
          "text": [
            "2.7.0\n"
          ]
        }
      ]
    },
    {
      "cell_type": "code",
      "source": [
        "#check GPU setting\n",
        "device_name = tf.test.gpu_device_name()\n",
        "if device_name != '/device:GPU:0':\n",
        "  raise SystemError('GPU device not found')\n",
        "print('Found GPU at: {}'.format(device_name))"
      ],
      "metadata": {
        "colab": {
          "base_uri": "https://localhost:8080/"
        },
        "id": "qRTPMbTO43P6",
        "outputId": "6dbb62c2-25e8-442d-9e73-2ae780288d0f"
      },
      "execution_count": null,
      "outputs": [
        {
          "output_type": "stream",
          "name": "stdout",
          "text": [
            "Found GPU at: /device:GPU:0\n"
          ]
        }
      ]
    },
    {
      "cell_type": "code",
      "source": [
        "class Config:\n",
        "    # specify the shape of the inputs to our network (256 or 224 or 100)\n",
        "    IMG_SHAPE = (224, 224, 3)\n",
        "\n",
        "    # num of classes\n",
        "    CLASSES = 3 #invasive, insitu, both for now\n",
        "\n",
        "    BATCH_SIZE = 10 #32 \n",
        "    EPOCHS = 50 #100\n",
        "    INIT_LR = 0.001\n",
        "\n",
        "    BASE_OUTPUT = \"output\" #folder\n",
        "\n",
        "    MODEL_PATH = os.path.sep.join([BASE_OUTPUT, \"resnet\"])\n",
        "    PLOT_PATH = os.path.sep.join([BASE_OUTPUT, \"resnetPlot.png\"])\n",
        "\n",
        "# instantiate the config class\n",
        "config = Config()"
      ],
      "metadata": {
        "id": "1YlPx6661BlS"
      },
      "execution_count": null,
      "outputs": []
    },
    {
      "cell_type": "markdown",
      "source": [
        "#### Loader for lung cancer dataset"
      ],
      "metadata": {
        "id": "D0NXYN3SD6IG"
      }
    },
    {
      "cell_type": "code",
      "source": [
        "train_datagen = ImageDataGenerator(rotation_range=180, horizontal_flip=True, vertical_flip=True, fill_mode='wrap')\n",
        "test_datagen = ImageDataGenerator() \n",
        "val_datagen = ImageDataGenerator() \n",
        "\n",
        "training_set = train_datagen.flow_from_directory(directory = 'patchedImagesPNG/Train', target_size = (224, 224), shuffle = True,\n",
        "                                             seed=42,batch_size = 32,class_mode = 'sparse')\n",
        "\n",
        "val_set = val_datagen.flow_from_directory(directory = 'patchedImagesPNG/Validation', target_size = (224, 224),shuffle=True,\n",
        "                                             batch_size = 32,class_mode = 'sparse')\n",
        "\n",
        "test_set= test_datagen.flow_from_directory(directory = 'patchedImagesPNG/Test',target_size = (224, 224),shuffle=False,\n",
        "                                             class_mode='sparse',batch_size = 1)"
      ],
      "metadata": {
        "id": "ZudW2gMbA8Iv"
      },
      "execution_count": null,
      "outputs": []
    },
    {
      "cell_type": "markdown",
      "metadata": {
        "id": "UywQbQcTDYcn"
      },
      "source": [
        "#### Loader for new lung cancer dataset"
      ]
    },
    {
      "cell_type": "code",
      "execution_count": null,
      "metadata": {
        "id": "JX4XkM67DYcn",
        "outputId": "3f74a5e9-8e30-4ed7-ee12-39fb21694e9b",
        "colab": {
          "base_uri": "https://localhost:8080/"
        }
      },
      "outputs": [
        {
          "output_type": "stream",
          "name": "stdout",
          "text": [
            "Found 28331 images belonging to 3 classes.\n",
            "Found 7081 images belonging to 3 classes.\n"
          ]
        }
      ],
      "source": [
        "datagen = ImageDataGenerator(rotation_range=180, horizontal_flip=True, vertical_flip=True, fill_mode='wrap',validation_split=0.2)\n",
        "\n",
        "training_set = datagen.flow_from_directory(directory = 'patchedImagesPNG256x256/Train', target_size = (224, 224), shuffle = True,\n",
        "                                             seed=42,batch_size = 32,class_mode = 'sparse',subset='training')\n",
        "val_set = datagen.flow_from_directory(directory = 'patchedImagesPNG256x256/Train', target_size = (224, 224), shuffle = True,\n",
        "                                             seed=42,batch_size = 32,class_mode = 'sparse',subset='validation')"
      ]
    },
    {
      "cell_type": "code",
      "source": [
        "with tf.device('/device:GPU:0'):\n",
        "    resnet = resnet50.ResNet50(weights=\"imagenet\", include_top=False,input_tensor=Input(config.IMG_SHAPE))\n",
        "    for layer in resnet.layers:\n",
        "        layer.trainable = False\n",
        "    x = resnet.output\n",
        "    x = AveragePooling2D((7,7))(x)\n",
        "    x = Flatten()(x)\n",
        "    x = Dense(521, activation='relu')(x)\n",
        "    x = Dropout(0.2)(x)\n",
        "    x = Dense(256, activation='relu')(x)\n",
        "    x = Dropout(0.2)(x)\n",
        "    output = Dense(config.CLASSES, activation='softmax')(x)\n",
        "    model = Model(resnet.input, output)"
      ],
      "metadata": {
        "id": "XLHrX4VVzEAX"
      },
      "execution_count": null,
      "outputs": []
    },
    {
      "cell_type": "code",
      "source": [
        "with tf.device('/device:GPU:0'):\n",
        "    resnet = resnet50.ResNet50(weights=\"imagenet\", include_top=False,input_tensor=Input(config.IMG_SHAPE))\n",
        "    for layer in resnet.layers:\n",
        "        layer.trainable = False\n",
        "    x = resnet.output\n",
        "    x = GlobalAveragePooling2D()(x)\n",
        "    x = Dropout(0.5)(x)\n",
        "    x = BatchNormalization()(x)\n",
        "    #x = AveragePooling2D((7,7))(x)\n",
        "    #x = Flatten()(x)\n",
        "    #x = Dense(521, activation='relu')(x)\n",
        "    #x = Dropout(0.2)(x)\n",
        "    #x = Dense(256, activation='relu')(x)\n",
        "    #x = Dropout(0.2)(x)\n",
        "    output = Dense(config.CLASSES, activation='softmax')(x)\n",
        "    model = Model(resnet.input, output)"
      ],
      "metadata": {
        "id": "utw02LvXWLfh"
      },
      "execution_count": null,
      "outputs": []
    },
    {
      "cell_type": "code",
      "source": [
        "from keras.applications import densenet"
      ],
      "metadata": {
        "id": "Q4dmvlWhsMQW"
      },
      "execution_count": null,
      "outputs": []
    },
    {
      "cell_type": "code",
      "source": [
        "### TRY NEXT\n",
        "\n",
        "\n",
        "with tf.device('/device:GPU:0'):\n",
        "    resnet = keras.applications.densenet.DenseNet201(weights=\"imagenet\", include_top=False,input_tensor=Input(config.IMG_SHAPE))\n",
        "    for layer in resnet.layers:\n",
        "        layer.trainable = False\n",
        "    x = resnet.output\n",
        "    x = GlobalAveragePooling2D()(x)\n",
        "    x = Dropout(0.5)(x)\n",
        "    x = BatchNormalization()(x)\n",
        "    #x = AveragePooling2D((7,7))(x)\n",
        "    #x = Flatten()(x)\n",
        "    #x = Dense(521, activation='relu')(x)\n",
        "    #x = Dropout(0.2)(x)\n",
        "    #x = Dense(256, activation='relu')(x)\n",
        "    #x = Dropout(0.2)(x)\n",
        "    output = Dense(config.CLASSES, activation='softmax')(x)\n",
        "    model = Model(resnet.input, output)"
      ],
      "metadata": {
        "id": "kyhZqNdwsA-9"
      },
      "execution_count": null,
      "outputs": []
    },
    {
      "cell_type": "code",
      "source": [
        "# resnet.summary()"
      ],
      "metadata": {
        "id": "zUBwHB754inh"
      },
      "execution_count": null,
      "outputs": []
    },
    {
      "cell_type": "code",
      "source": [
        "# model.summary()"
      ],
      "metadata": {
        "id": "c0vnHti47N3l"
      },
      "execution_count": null,
      "outputs": []
    },
    {
      "cell_type": "markdown",
      "source": [
        "#### Training Lung"
      ],
      "metadata": {
        "id": "FYjhBWjUEBim"
      }
    },
    {
      "cell_type": "code",
      "source": [
        "from keras.callbacks import ModelCheckpoint\n",
        "checkpointer_benchmark = ModelCheckpoint(filepath='lung_histopathology_resnet50_best.hdf5', verbose=1, save_best_only=True)"
      ],
      "metadata": {
        "id": "8OjN0v0uW2ov"
      },
      "execution_count": null,
      "outputs": []
    },
    {
      "cell_type": "code",
      "source": [
        "early_stopping_monitor = tf.keras.callbacks.EarlyStopping(monitor='val_loss', patience=5, mode='min')"
      ],
      "metadata": {
        "id": "eqz406F_W4GO"
      },
      "execution_count": null,
      "outputs": []
    },
    {
      "cell_type": "code",
      "source": [
        "#tf.keras.optimizers.schedules.ExponentialDecay(...) do it later https://keras.io/api/optimizers/\n",
        "criterion = tf.keras.optimizers.Adam(config.INIT_LR)\n",
        "print(\"compiling model\")\n",
        "model.compile(loss=\"sparse_categorical_crossentropy\", optimizer=criterion, metrics=[\"accuracy\"])\n",
        "print(\"training model\")\n",
        "history = model.fit(training_set, batch_size=config.BATCH_SIZE, epochs=config.EPOCHS, validation_data=val_set, verbose=1)"
      ],
      "metadata": {
        "id": "k9BmuuV272FT"
      },
      "execution_count": null,
      "outputs": []
    },
    {
      "cell_type": "markdown",
      "source": [
        "#### Training Bone"
      ],
      "metadata": {
        "id": "GWKvENzYEKMe"
      }
    },
    {
      "cell_type": "code",
      "execution_count": null,
      "metadata": {
        "colab": {
          "base_uri": "https://localhost:8080/"
        },
        "outputId": "dda4c01d-5a04-4cb0-9429-c9e6b4730027",
        "id": "bJA9p6cIES7Y"
      },
      "outputs": [
        {
          "output_type": "stream",
          "name": "stdout",
          "text": [
            "compiling model\n",
            "training model\n",
            "Epoch 1/50\n",
            "26/26 [==============================] - 561s 22s/step - loss: 0.6471 - accuracy: 0.7452 - val_loss: 0.6330 - val_accuracy: 0.7272\n",
            "Epoch 2/50\n",
            "26/26 [==============================] - 478s 19s/step - loss: 0.5289 - accuracy: 0.7885 - val_loss: 0.6082 - val_accuracy: 0.7428\n",
            "Epoch 3/50\n",
            "26/26 [==============================] - 435s 17s/step - loss: 0.5120 - accuracy: 0.8005 - val_loss: 0.6142 - val_accuracy: 0.7452\n",
            "Epoch 4/50\n",
            "26/26 [==============================] - 403s 16s/step - loss: 0.5597 - accuracy: 0.7981 - val_loss: 0.6042 - val_accuracy: 0.7464\n",
            "Epoch 5/50\n",
            "26/26 [==============================] - 370s 14s/step - loss: 0.4235 - accuracy: 0.8341 - val_loss: 0.5249 - val_accuracy: 0.7704\n",
            "Epoch 6/50\n",
            "26/26 [==============================] - 370s 14s/step - loss: 0.4225 - accuracy: 0.8474 - val_loss: 0.5755 - val_accuracy: 0.7752\n",
            "Epoch 7/50\n",
            "26/26 [==============================] - 346s 14s/step - loss: 0.4424 - accuracy: 0.8341 - val_loss: 0.6028 - val_accuracy: 0.7704\n",
            "Epoch 8/50\n",
            "26/26 [==============================] - 323s 13s/step - loss: 0.4340 - accuracy: 0.8245 - val_loss: 0.5733 - val_accuracy: 0.7692\n",
            "Epoch 9/50\n",
            "26/26 [==============================] - 301s 12s/step - loss: 0.4380 - accuracy: 0.8173 - val_loss: 0.5498 - val_accuracy: 0.7837\n",
            "Epoch 10/50\n",
            "26/26 [==============================] - 295s 11s/step - loss: 0.3790 - accuracy: 0.8558 - val_loss: 0.5539 - val_accuracy: 0.7885\n",
            "Epoch 11/50\n",
            "26/26 [==============================] - 289s 11s/step - loss: 0.3527 - accuracy: 0.8730 - val_loss: 0.5315 - val_accuracy: 0.7776\n",
            "Epoch 12/50\n",
            "26/26 [==============================] - 263s 10s/step - loss: 0.3940 - accuracy: 0.8606 - val_loss: 0.5220 - val_accuracy: 0.7993\n",
            "Epoch 13/50\n",
            "26/26 [==============================] - 252s 10s/step - loss: 0.4421 - accuracy: 0.8317 - val_loss: 0.5583 - val_accuracy: 0.7548\n",
            "Epoch 14/50\n",
            "26/26 [==============================] - 244s 10s/step - loss: 0.4335 - accuracy: 0.8317 - val_loss: 0.5548 - val_accuracy: 0.7608\n",
            "Epoch 15/50\n",
            "26/26 [==============================] - 229s 9s/step - loss: 0.4088 - accuracy: 0.8377 - val_loss: 0.4891 - val_accuracy: 0.7933\n",
            "Epoch 16/50\n",
            "26/26 [==============================] - 220s 9s/step - loss: 0.4305 - accuracy: 0.8425 - val_loss: 0.5435 - val_accuracy: 0.7752\n",
            "Epoch 17/50\n",
            "26/26 [==============================] - 192s 7s/step - loss: 0.3998 - accuracy: 0.8498 - val_loss: 0.5826 - val_accuracy: 0.7692\n",
            "Epoch 18/50\n",
            "26/26 [==============================] - 198s 8s/step - loss: 0.3707 - accuracy: 0.8594 - val_loss: 0.5267 - val_accuracy: 0.7861\n",
            "Epoch 19/50\n",
            "26/26 [==============================] - 185s 7s/step - loss: 0.3737 - accuracy: 0.8714 - val_loss: 0.5510 - val_accuracy: 0.7740\n",
            "Epoch 20/50\n",
            "26/26 [==============================] - 173s 7s/step - loss: 0.3764 - accuracy: 0.8594 - val_loss: 0.5226 - val_accuracy: 0.7909\n",
            "Epoch 21/50\n",
            "26/26 [==============================] - 174s 7s/step - loss: 0.3116 - accuracy: 0.8762 - val_loss: 0.5684 - val_accuracy: 0.7680\n",
            "Epoch 22/50\n",
            "26/26 [==============================] - 167s 6s/step - loss: 0.3864 - accuracy: 0.8474 - val_loss: 0.5857 - val_accuracy: 0.7800\n",
            "Epoch 23/50\n",
            "26/26 [==============================] - 166s 6s/step - loss: 0.3757 - accuracy: 0.8425 - val_loss: 0.6040 - val_accuracy: 0.7608\n",
            "Epoch 24/50\n",
            "26/26 [==============================] - 150s 6s/step - loss: 0.3959 - accuracy: 0.8450 - val_loss: 0.5643 - val_accuracy: 0.7776\n",
            "Epoch 25/50\n",
            "26/26 [==============================] - 148s 6s/step - loss: 0.4049 - accuracy: 0.8401 - val_loss: 0.5364 - val_accuracy: 0.7861\n",
            "Epoch 26/50\n",
            "26/26 [==============================] - 149s 6s/step - loss: 0.3116 - accuracy: 0.8834 - val_loss: 0.5358 - val_accuracy: 0.7740\n",
            "Epoch 27/50\n",
            "26/26 [==============================] - 148s 6s/step - loss: 0.3449 - accuracy: 0.8546 - val_loss: 0.5988 - val_accuracy: 0.7644\n",
            "Epoch 28/50\n",
            "26/26 [==============================] - 132s 5s/step - loss: 0.3766 - accuracy: 0.8486 - val_loss: 0.5305 - val_accuracy: 0.7812\n",
            "Epoch 29/50\n",
            "26/26 [==============================] - 138s 5s/step - loss: 0.3429 - accuracy: 0.8726 - val_loss: 0.6018 - val_accuracy: 0.7488\n",
            "Epoch 30/50\n",
            "26/26 [==============================] - 121s 5s/step - loss: 0.3346 - accuracy: 0.8714 - val_loss: 0.5477 - val_accuracy: 0.7849\n",
            "Epoch 31/50\n",
            "26/26 [==============================] - 127s 5s/step - loss: 0.3469 - accuracy: 0.8618 - val_loss: 0.5973 - val_accuracy: 0.7800\n",
            "Epoch 32/50\n",
            "26/26 [==============================] - 124s 5s/step - loss: 0.3993 - accuracy: 0.8462 - val_loss: 0.6130 - val_accuracy: 0.7332\n",
            "Epoch 33/50\n",
            "26/26 [==============================] - 121s 5s/step - loss: 0.3429 - accuracy: 0.8642 - val_loss: 0.5806 - val_accuracy: 0.7716\n",
            "Epoch 34/50\n",
            "26/26 [==============================] - 129s 5s/step - loss: 0.4017 - accuracy: 0.8365 - val_loss: 0.5893 - val_accuracy: 0.7680\n",
            "Epoch 35/50\n",
            "26/26 [==============================] - 114s 4s/step - loss: 0.4068 - accuracy: 0.8450 - val_loss: 0.6487 - val_accuracy: 0.7572\n",
            "Epoch 36/50\n",
            "26/26 [==============================] - 113s 4s/step - loss: 0.3717 - accuracy: 0.8654 - val_loss: 0.5558 - val_accuracy: 0.7752\n",
            "Epoch 37/50\n",
            "26/26 [==============================] - 101s 4s/step - loss: 0.3376 - accuracy: 0.8690 - val_loss: 0.5857 - val_accuracy: 0.7476\n",
            "Epoch 38/50\n",
            "26/26 [==============================] - 104s 4s/step - loss: 0.3582 - accuracy: 0.8582 - val_loss: 0.6067 - val_accuracy: 0.7500\n",
            "Epoch 39/50\n",
            "26/26 [==============================] - 97s 4s/step - loss: 0.4062 - accuracy: 0.8377 - val_loss: 0.6016 - val_accuracy: 0.7620\n",
            "Epoch 40/50\n",
            "26/26 [==============================] - 100s 4s/step - loss: 0.3528 - accuracy: 0.8594 - val_loss: 0.6029 - val_accuracy: 0.7680\n",
            "Epoch 41/50\n",
            "26/26 [==============================] - 94s 4s/step - loss: 0.3025 - accuracy: 0.8702 - val_loss: 0.6073 - val_accuracy: 0.7608\n",
            "Epoch 42/50\n",
            "26/26 [==============================] - 93s 4s/step - loss: 0.3124 - accuracy: 0.8906 - val_loss: 0.6739 - val_accuracy: 0.7440\n",
            "Epoch 43/50\n",
            "26/26 [==============================] - 92s 3s/step - loss: 0.3789 - accuracy: 0.8558 - val_loss: 0.6240 - val_accuracy: 0.7428\n",
            "Epoch 44/50\n",
            "26/26 [==============================] - 91s 4s/step - loss: 0.3459 - accuracy: 0.8834 - val_loss: 0.5233 - val_accuracy: 0.7933\n",
            "Epoch 45/50\n",
            "26/26 [==============================] - 86s 3s/step - loss: 0.3447 - accuracy: 0.8618 - val_loss: 0.5102 - val_accuracy: 0.8041\n",
            "Epoch 46/50\n",
            "26/26 [==============================] - 82s 3s/step - loss: 0.3460 - accuracy: 0.8714 - val_loss: 0.5341 - val_accuracy: 0.7849\n",
            "Epoch 47/50\n",
            "26/26 [==============================] - 90s 3s/step - loss: 0.3310 - accuracy: 0.8774 - val_loss: 0.5894 - val_accuracy: 0.7644\n",
            "Epoch 48/50\n",
            "26/26 [==============================] - 85s 3s/step - loss: 0.4487 - accuracy: 0.8474 - val_loss: 0.5949 - val_accuracy: 0.7728\n",
            "Epoch 49/50\n",
            "26/26 [==============================] - 74s 3s/step - loss: 0.3892 - accuracy: 0.8510 - val_loss: 0.5252 - val_accuracy: 0.7776\n",
            "Epoch 50/50\n",
            "26/26 [==============================] - 76s 3s/step - loss: 0.3312 - accuracy: 0.8606 - val_loss: 0.5766 - val_accuracy: 0.7728\n"
          ]
        }
      ],
      "source": [
        "#tf.keras.optimizers.schedules.ExponentialDecay(...) do it later https://keras.io/api/optimizers/\n",
        "criterion = tf.keras.optimizers.Adam(config.INIT_LR)\n",
        "print(\"compiling model\")\n",
        "model.compile(loss=\"sparse_categorical_crossentropy\", optimizer=criterion, metrics=[\"accuracy\"])\n",
        "print(\"training model\")\n",
        "history = model.fit(training_set, validation_steps = 26, epochs=50, steps_per_epoch=26, validation_data=val_set, verbose=1)"
      ]
    },
    {
      "cell_type": "code",
      "source": [
        "import matplotlib.pyplot as plt\n",
        "def plot_loss(H, plotPath):\n",
        "    '''\n",
        "    input: H - training history variable\n",
        "          plotPath - where to save output plot\n",
        "    '''\n",
        "    # construct a plot that plots and saves the training history\n",
        "    plt.style.use(\"ggplot\")\n",
        "    plt.figure()\n",
        "    plt.plot(H.history[\"loss\"], label=\"train_loss\")\n",
        "    plt.plot(H.history[\"val_loss\"], label=\"val_loss\")\n",
        "    plt.title(\"Train & Validation Loss\")\n",
        "    plt.xlabel(\"Epoch #\")\n",
        "    plt.ylabel(\"Loss\")\n",
        "    plt.legend(loc=\"lower left\")\n",
        "    plt.savefig(plotPath)\n",
        " \n",
        "def plot_acc(H, plotPath):\n",
        "    '''\n",
        "    input: H - training history variable\n",
        "                 plotPath - where to save output plot\n",
        "    '''\n",
        "    # construct a plot that plots and saves the training history\n",
        "    plt.style.use(\"ggplot\")\n",
        "    plt.figure()\n",
        "    plt.plot(H.history[\"accuracy\"], label=\"train_acc\")\n",
        "    plt.plot(H.history[\"val_accuracy\"], label=\"val_acc\")\n",
        "    plt.title(\"Train & Validation Accuracy\")\n",
        "    plt.xlabel(\"Epoch #\")\n",
        "    plt.ylabel(\"Accuracy\")\n",
        "    plt.legend(loc=\"lower left\")\n",
        "    plt.savefig(plotPath)"
      ],
      "metadata": {
        "id": "uiXpN-SznyXP"
      },
      "execution_count": null,
      "outputs": []
    },
    {
      "cell_type": "code",
      "source": [
        "plot_loss(history, config.PLOT_PATH)"
      ],
      "metadata": {
        "colab": {
          "base_uri": "https://localhost:8080/",
          "height": 298
        },
        "id": "ta4WUzg_oiSN",
        "outputId": "12aaa7fb-48a9-4965-ac29-d589dec52b52"
      },
      "execution_count": null,
      "outputs": [
        {
          "output_type": "display_data",
          "data": {
            "image/png": "[encoded data removed]",
            "text/plain": [
              "<Figure size 432x288 with 1 Axes>"
            ]
          },
          "metadata": {}
        }
      ]
    },
    {
      "cell_type": "code",
      "source": [
        "plot_acc(history, config.PLOT_PATH)"
      ],
      "metadata": {
        "id": "IIJc8M6upLIE",
        "outputId": "19889ffe-9d85-4ca1-ecbc-57ff8797a1bf",
        "colab": {
          "base_uri": "https://localhost:8080/",
          "height": 298
        }
      },
      "execution_count": null,
      "outputs": [
        {
          "output_type": "display_data",
          "data": {
            "image/png": "[encoded data removed]",
            "text/plain": [
              "<Figure size 432x288 with 1 Axes>"
            ]
          },
          "metadata": {}
        }
      ]
    },
    {
      "cell_type": "code",
      "execution_count": null,
      "metadata": {
        "scrolled": true,
        "id": "PTlBRS02DYco",
        "outputId": "d81be6f2-c0a8-4e31-8850-707dee95cc84",
        "colab": {
          "base_uri": "https://localhost:8080/",
          "height": 298
        }
      },
      "outputs": [
        {
          "output_type": "display_data",
          "data": {
            "image/png": "[encoded data removed]",
            "text/plain": [
              "<Figure size 432x288 with 1 Axes>"
            ]
          },
          "metadata": {}
        }
      ],
      "source": [
        "plot_loss(history, 'output/resnetBoneLoss.png')"
      ]
    },
    {
      "cell_type": "code",
      "execution_count": null,
      "metadata": {
        "id": "tklvEOg0DYcp",
        "outputId": "3c4b4846-af4e-41cc-9686-fae71c0a2853"
      },
      "outputs": [
        {
          "data": {
            "image/png": "[encoded data removed]",
            "text/plain": [
              "<Figure size 432x288 with 1 Axes>"
            ]
          },
          "metadata": {},
          "output_type": "display_data"
        }
      ],
      "source": [
        "plot_acc(history, 'output/resnetBoneAcc.png')"
      ]
    },
    {
      "cell_type": "markdown",
      "source": [
        "### BONE Classification"
      ],
      "metadata": {
        "id": "5OtMVOMRCOlm"
      }
    },
    {
      "cell_type": "markdown",
      "source": [
        "#### VGG16 BONE 100 epoch\n"
      ],
      "metadata": {
        "id": "DnsYLOA3wxk_"
      }
    },
    {
      "cell_type": "code",
      "source": [
        "VGGIMAGE_SIZE = [224, 224]\n",
        "\n",
        "datagen = ImageDataGenerator(rotation_range=180, horizontal_flip=True, vertical_flip=True, fill_mode='wrap',validation_split=0.2)\n",
        "\n",
        "training_set = datagen.flow_from_directory(directory = 'OsteosarcomaData', target_size = (224, 224), shuffle = True,\n",
        "                                             seed=42,batch_size = 32,class_mode = 'sparse',subset='training')\n",
        "val_set = datagen.flow_from_directory(directory = 'OsteosarcomaData', target_size = (224, 224), shuffle = True,\n",
        "                                             seed=42,batch_size = 32,class_mode = 'sparse',subset='validation')"
      ],
      "metadata": {
        "id": "e464Wti6wzgW",
        "colab": {
          "base_uri": "https://localhost:8080/"
        },
        "outputId": "e7db1252-1508-4bf1-f592-d7bdfe065c45"
      },
      "execution_count": null,
      "outputs": [
        {
          "output_type": "stream",
          "name": "stdout",
          "text": [
            "Found 836 images belonging to 3 classes.\n",
            "Found 207 images belonging to 3 classes.\n"
          ]
        }
      ]
    },
    {
      "cell_type": "code",
      "source": [
        "vgg = VGG16(input_shape = VGGIMAGE_SIZE + [3], weights='imagenet', include_top=False)\n",
        "\n",
        "for layer in vgg.layers:\n",
        "  layer.trainable = False"
      ],
      "metadata": {
        "id": "F3V0MUlt_7b1",
        "colab": {
          "base_uri": "https://localhost:8080/"
        },
        "outputId": "98a12b24-36bb-44ef-dbd8-d7910e3b54dd"
      },
      "execution_count": null,
      "outputs": [
        {
          "output_type": "stream",
          "name": "stdout",
          "text": [
            "Downloading data from https://storage.googleapis.com/tensorflow/keras-applications/vgg16/vgg16_weights_tf_dim_ordering_tf_kernels_notop.h5\n",
            "58892288/58889256 [==============================] - 0s 0us/step\n",
            "58900480/58889256 [==============================] - 0s 0us/step\n"
          ]
        }
      ]
    },
    {
      "cell_type": "code",
      "source": [
        "folders = glob('/content/drive/MyDrive/WIKM/OsteosarcomaData/*')\n",
        "\n",
        "x = Flatten()(vgg.output)"
      ],
      "metadata": {
        "id": "TmYEfNFS_9Nt"
      },
      "execution_count": null,
      "outputs": []
    },
    {
      "cell_type": "code",
      "source": [
        "prediction = Dense(len(folders), activation='softmax')(x)\n",
        "\n",
        "model = Model(inputs=vgg.input, outputs=prediction)"
      ],
      "metadata": {
        "id": "t8nNb17oABrf"
      },
      "execution_count": null,
      "outputs": []
    },
    {
      "cell_type": "code",
      "source": [
        "#model.summary()\n",
        "from tensorflow import losses, optimizers\n",
        "#loss = losses.SparseCategoricalCrossentropy(from_logits=True)\n",
        "optimizer = optimizers.Adam(learning_rate=1e-4)\n",
        "\n",
        "model.compile(\n",
        "    loss = 'sparse_categorical_crossentropy',\n",
        "    optimizer = optimizer,\n",
        "    metrics = ['accuracy'])"
      ],
      "metadata": {
        "id": "tS36P-62ADK6"
      },
      "execution_count": null,
      "outputs": []
    },
    {
      "cell_type": "code",
      "source": [
        "step_size_train = training_set.n//training_set.batch_size\n",
        "step_size_valid = val_set.n//val_set.batch_size\n",
        "\n",
        "with tf.device('/device:GPU:0'):\n",
        "  vgg_model_train = model.fit_generator(\n",
        "      generator = training_set,\n",
        "      validation_data = val_set,\n",
        "      epochs = 100,\n",
        "      steps_per_epoch = step_size_train,\n",
        "      validation_steps = step_size_valid,\n",
        ")"
      ],
      "metadata": {
        "id": "biQr5nUyADJV",
        "colab": {
          "base_uri": "https://localhost:8080/"
        },
        "outputId": "466d2799-d8f2-495d-9923-b19785469d35"
      },
      "execution_count": null,
      "outputs": [
        {
          "output_type": "stream",
          "name": "stderr",
          "text": [
            "/usr/local/lib/python3.7/dist-packages/ipykernel_launcher.py:10: UserWarning: `Model.fit_generator` is deprecated and will be removed in a future version. Please use `Model.fit`, which supports generators.\n",
            "  # Remove the CWD from sys.path while we load stuff.\n"
          ]
        },
        {
          "output_type": "stream",
          "name": "stdout",
          "text": [
            "Epoch 1/100\n",
            "26/26 [==============================] - 254s 9s/step - loss: 5.3702 - accuracy: 0.5634 - val_loss: 4.2323 - val_accuracy: 0.6146\n",
            "Epoch 2/100\n",
            "26/26 [==============================] - 33s 1s/step - loss: 2.5051 - accuracy: 0.7525 - val_loss: 3.2382 - val_accuracy: 0.6198\n",
            "Epoch 3/100\n",
            "26/26 [==============================] - 34s 1s/step - loss: 2.1419 - accuracy: 0.7848 - val_loss: 2.9725 - val_accuracy: 0.7031\n",
            "Epoch 4/100\n",
            "26/26 [==============================] - 34s 1s/step - loss: 1.4652 - accuracy: 0.8470 - val_loss: 2.6659 - val_accuracy: 0.7500\n",
            "Epoch 5/100\n",
            "26/26 [==============================] - 34s 1s/step - loss: 1.7067 - accuracy: 0.8371 - val_loss: 3.1128 - val_accuracy: 0.7031\n",
            "Epoch 6/100\n",
            "26/26 [==============================] - 33s 1s/step - loss: 1.5157 - accuracy: 0.8657 - val_loss: 2.3003 - val_accuracy: 0.7865\n",
            "Epoch 7/100\n",
            "26/26 [==============================] - 34s 1s/step - loss: 1.5055 - accuracy: 0.8483 - val_loss: 2.9056 - val_accuracy: 0.7708\n",
            "Epoch 8/100\n",
            "26/26 [==============================] - 33s 1s/step - loss: 1.2360 - accuracy: 0.8607 - val_loss: 2.5146 - val_accuracy: 0.7865\n",
            "Epoch 9/100\n",
            "26/26 [==============================] - 33s 1s/step - loss: 1.3063 - accuracy: 0.8769 - val_loss: 3.3675 - val_accuracy: 0.7188\n",
            "Epoch 10/100\n",
            "26/26 [==============================] - 33s 1s/step - loss: 1.1531 - accuracy: 0.8769 - val_loss: 3.5515 - val_accuracy: 0.6875\n",
            "Epoch 11/100\n",
            "26/26 [==============================] - 34s 1s/step - loss: 0.9398 - accuracy: 0.8968 - val_loss: 2.5430 - val_accuracy: 0.7344\n",
            "Epoch 12/100\n",
            "26/26 [==============================] - 34s 1s/step - loss: 1.0478 - accuracy: 0.9017 - val_loss: 2.7961 - val_accuracy: 0.7292\n",
            "Epoch 13/100\n",
            "26/26 [==============================] - 34s 1s/step - loss: 0.8106 - accuracy: 0.9055 - val_loss: 2.6251 - val_accuracy: 0.7448\n",
            "Epoch 14/100\n",
            "26/26 [==============================] - 34s 1s/step - loss: 0.7460 - accuracy: 0.9055 - val_loss: 3.3989 - val_accuracy: 0.6927\n",
            "Epoch 15/100\n",
            "26/26 [==============================] - 34s 1s/step - loss: 0.9102 - accuracy: 0.8856 - val_loss: 3.5851 - val_accuracy: 0.7135\n",
            "Epoch 16/100\n",
            "26/26 [==============================] - 34s 1s/step - loss: 0.6508 - accuracy: 0.9154 - val_loss: 2.6299 - val_accuracy: 0.7812\n",
            "Epoch 17/100\n",
            "26/26 [==============================] - 34s 1s/step - loss: 0.5523 - accuracy: 0.9229 - val_loss: 2.5124 - val_accuracy: 0.7760\n",
            "Epoch 18/100\n",
            "26/26 [==============================] - 34s 1s/step - loss: 0.7071 - accuracy: 0.9216 - val_loss: 2.7923 - val_accuracy: 0.7448\n",
            "Epoch 19/100\n",
            "26/26 [==============================] - 33s 1s/step - loss: 0.7231 - accuracy: 0.9192 - val_loss: 3.0272 - val_accuracy: 0.7188\n",
            "Epoch 20/100\n",
            "26/26 [==============================] - 33s 1s/step - loss: 0.7363 - accuracy: 0.9092 - val_loss: 2.7102 - val_accuracy: 0.7396\n",
            "Epoch 21/100\n",
            "26/26 [==============================] - 33s 1s/step - loss: 0.5929 - accuracy: 0.9291 - val_loss: 2.3694 - val_accuracy: 0.7604\n",
            "Epoch 22/100\n",
            "26/26 [==============================] - 33s 1s/step - loss: 0.5042 - accuracy: 0.9204 - val_loss: 2.5464 - val_accuracy: 0.7969\n",
            "Epoch 23/100\n",
            "26/26 [==============================] - 34s 1s/step - loss: 0.5874 - accuracy: 0.9279 - val_loss: 2.3542 - val_accuracy: 0.7865\n",
            "Epoch 24/100\n",
            "26/26 [==============================] - 34s 1s/step - loss: 0.6148 - accuracy: 0.9167 - val_loss: 2.5130 - val_accuracy: 0.7708\n",
            "Epoch 25/100\n",
            "26/26 [==============================] - 34s 1s/step - loss: 0.6098 - accuracy: 0.9291 - val_loss: 2.4687 - val_accuracy: 0.7917\n",
            "Epoch 26/100\n",
            "26/26 [==============================] - 33s 1s/step - loss: 0.6982 - accuracy: 0.9328 - val_loss: 2.4438 - val_accuracy: 0.7812\n",
            "Epoch 27/100\n",
            "26/26 [==============================] - 32s 1s/step - loss: 0.6506 - accuracy: 0.9216 - val_loss: 2.6625 - val_accuracy: 0.8073\n",
            "Epoch 28/100\n",
            "26/26 [==============================] - 33s 1s/step - loss: 0.4576 - accuracy: 0.9316 - val_loss: 2.0366 - val_accuracy: 0.8229\n",
            "Epoch 29/100\n",
            "26/26 [==============================] - 33s 1s/step - loss: 0.5236 - accuracy: 0.9435 - val_loss: 2.5829 - val_accuracy: 0.7656\n",
            "Epoch 30/100\n",
            "26/26 [==============================] - 33s 1s/step - loss: 0.4789 - accuracy: 0.9366 - val_loss: 1.9352 - val_accuracy: 0.8229\n",
            "Epoch 31/100\n",
            "26/26 [==============================] - 33s 1s/step - loss: 0.6284 - accuracy: 0.9303 - val_loss: 2.3392 - val_accuracy: 0.7708\n",
            "Epoch 32/100\n",
            "26/26 [==============================] - 33s 1s/step - loss: 0.4452 - accuracy: 0.9540 - val_loss: 2.5944 - val_accuracy: 0.7552\n",
            "Epoch 33/100\n",
            "26/26 [==============================] - 33s 1s/step - loss: 0.3169 - accuracy: 0.9490 - val_loss: 1.8371 - val_accuracy: 0.8229\n",
            "Epoch 34/100\n",
            "26/26 [==============================] - 33s 1s/step - loss: 0.5021 - accuracy: 0.9490 - val_loss: 1.9344 - val_accuracy: 0.7812\n",
            "Epoch 35/100\n",
            "26/26 [==============================] - 33s 1s/step - loss: 0.3520 - accuracy: 0.9459 - val_loss: 2.3967 - val_accuracy: 0.8073\n",
            "Epoch 36/100\n",
            "26/26 [==============================] - 33s 1s/step - loss: 0.5138 - accuracy: 0.9378 - val_loss: 2.7833 - val_accuracy: 0.7865\n",
            "Epoch 37/100\n",
            "26/26 [==============================] - 33s 1s/step - loss: 0.3927 - accuracy: 0.9453 - val_loss: 1.9651 - val_accuracy: 0.8177\n",
            "Epoch 38/100\n",
            "26/26 [==============================] - 32s 1s/step - loss: 0.3391 - accuracy: 0.9490 - val_loss: 1.9132 - val_accuracy: 0.8125\n",
            "Epoch 39/100\n",
            "26/26 [==============================] - 32s 1s/step - loss: 0.4630 - accuracy: 0.9366 - val_loss: 1.9903 - val_accuracy: 0.8125\n",
            "Epoch 40/100\n",
            "26/26 [==============================] - 33s 1s/step - loss: 0.4751 - accuracy: 0.9465 - val_loss: 2.7516 - val_accuracy: 0.7760\n",
            "Epoch 41/100\n",
            "26/26 [==============================] - 32s 1s/step - loss: 0.2831 - accuracy: 0.9540 - val_loss: 1.8411 - val_accuracy: 0.8021\n",
            "Epoch 42/100\n",
            "26/26 [==============================] - 33s 1s/step - loss: 0.5227 - accuracy: 0.9366 - val_loss: 3.4081 - val_accuracy: 0.7344\n",
            "Epoch 43/100\n",
            "26/26 [==============================] - 33s 1s/step - loss: 0.2505 - accuracy: 0.9515 - val_loss: 2.9302 - val_accuracy: 0.7865\n",
            "Epoch 44/100\n",
            "26/26 [==============================] - 33s 1s/step - loss: 0.3970 - accuracy: 0.9435 - val_loss: 2.2353 - val_accuracy: 0.7708\n",
            "Epoch 45/100\n",
            "26/26 [==============================] - 32s 1s/step - loss: 0.3166 - accuracy: 0.9577 - val_loss: 2.1952 - val_accuracy: 0.8021\n",
            "Epoch 46/100\n",
            "26/26 [==============================] - 33s 1s/step - loss: 0.3193 - accuracy: 0.9579 - val_loss: 1.9525 - val_accuracy: 0.8125\n",
            "Epoch 47/100\n",
            "26/26 [==============================] - 33s 1s/step - loss: 0.4230 - accuracy: 0.9403 - val_loss: 2.3028 - val_accuracy: 0.7604\n",
            "Epoch 48/100\n",
            "26/26 [==============================] - 32s 1s/step - loss: 0.2968 - accuracy: 0.9639 - val_loss: 2.5317 - val_accuracy: 0.7604\n",
            "Epoch 49/100\n",
            "26/26 [==============================] - 32s 1s/step - loss: 0.2849 - accuracy: 0.9565 - val_loss: 3.3286 - val_accuracy: 0.7604\n",
            "Epoch 50/100\n",
            "26/26 [==============================] - 32s 1s/step - loss: 0.2300 - accuracy: 0.9602 - val_loss: 2.4373 - val_accuracy: 0.8177\n",
            "Epoch 51/100\n",
            "26/26 [==============================] - 32s 1s/step - loss: 0.2864 - accuracy: 0.9712 - val_loss: 2.4063 - val_accuracy: 0.7500\n",
            "Epoch 52/100\n",
            "26/26 [==============================] - 31s 1s/step - loss: 0.2672 - accuracy: 0.9652 - val_loss: 1.9672 - val_accuracy: 0.8177\n",
            "Epoch 53/100\n",
            "26/26 [==============================] - 32s 1s/step - loss: 0.3457 - accuracy: 0.9540 - val_loss: 2.7860 - val_accuracy: 0.7760\n",
            "Epoch 54/100\n",
            "26/26 [==============================] - 32s 1s/step - loss: 0.2327 - accuracy: 0.9602 - val_loss: 2.4041 - val_accuracy: 0.7865\n",
            "Epoch 55/100\n",
            "26/26 [==============================] - 32s 1s/step - loss: 0.3404 - accuracy: 0.9639 - val_loss: 3.4606 - val_accuracy: 0.7188\n",
            "Epoch 56/100\n",
            "26/26 [==============================] - 32s 1s/step - loss: 0.2439 - accuracy: 0.9515 - val_loss: 2.3919 - val_accuracy: 0.8021\n",
            "Epoch 57/100\n",
            "26/26 [==============================] - 32s 1s/step - loss: 0.1860 - accuracy: 0.9726 - val_loss: 1.8922 - val_accuracy: 0.8385\n",
            "Epoch 58/100\n",
            "26/26 [==============================] - 32s 1s/step - loss: 0.2769 - accuracy: 0.9502 - val_loss: 2.3937 - val_accuracy: 0.8021\n",
            "Epoch 59/100\n",
            "26/26 [==============================] - 32s 1s/step - loss: 0.2248 - accuracy: 0.9614 - val_loss: 2.4363 - val_accuracy: 0.8021\n",
            "Epoch 60/100\n",
            "26/26 [==============================] - 31s 1s/step - loss: 0.3169 - accuracy: 0.9602 - val_loss: 2.3517 - val_accuracy: 0.8073\n",
            "Epoch 61/100\n",
            "26/26 [==============================] - 31s 1s/step - loss: 0.2946 - accuracy: 0.9540 - val_loss: 2.5053 - val_accuracy: 0.8073\n",
            "Epoch 62/100\n",
            "26/26 [==============================] - 32s 1s/step - loss: 0.2947 - accuracy: 0.9651 - val_loss: 1.6930 - val_accuracy: 0.8229\n",
            "Epoch 63/100\n",
            "26/26 [==============================] - 33s 1s/step - loss: 0.2561 - accuracy: 0.9590 - val_loss: 2.7038 - val_accuracy: 0.8021\n",
            "Epoch 64/100\n",
            "26/26 [==============================] - 33s 1s/step - loss: 0.2738 - accuracy: 0.9652 - val_loss: 2.3526 - val_accuracy: 0.8177\n",
            "Epoch 65/100\n",
            "26/26 [==============================] - 32s 1s/step - loss: 0.2221 - accuracy: 0.9577 - val_loss: 2.5106 - val_accuracy: 0.8021\n",
            "Epoch 66/100\n",
            "26/26 [==============================] - 32s 1s/step - loss: 0.2194 - accuracy: 0.9639 - val_loss: 2.6331 - val_accuracy: 0.7865\n",
            "Epoch 67/100\n",
            "26/26 [==============================] - 32s 1s/step - loss: 0.1348 - accuracy: 0.9764 - val_loss: 2.5351 - val_accuracy: 0.7969\n",
            "Epoch 68/100\n",
            "26/26 [==============================] - 32s 1s/step - loss: 0.2946 - accuracy: 0.9552 - val_loss: 2.0705 - val_accuracy: 0.8021\n",
            "Epoch 69/100\n",
            "26/26 [==============================] - 32s 1s/step - loss: 0.1464 - accuracy: 0.9701 - val_loss: 2.9987 - val_accuracy: 0.7917\n",
            "Epoch 70/100\n",
            "26/26 [==============================] - 33s 1s/step - loss: 0.1811 - accuracy: 0.9714 - val_loss: 2.3728 - val_accuracy: 0.7865\n",
            "Epoch 71/100\n",
            "26/26 [==============================] - 32s 1s/step - loss: 0.2508 - accuracy: 0.9639 - val_loss: 2.2194 - val_accuracy: 0.8073\n",
            "Epoch 72/100\n",
            "26/26 [==============================] - 33s 1s/step - loss: 0.1776 - accuracy: 0.9664 - val_loss: 2.5426 - val_accuracy: 0.7969\n",
            "Epoch 73/100\n",
            "26/26 [==============================] - 32s 1s/step - loss: 0.2402 - accuracy: 0.9689 - val_loss: 2.5992 - val_accuracy: 0.7760\n",
            "Epoch 74/100\n",
            "26/26 [==============================] - 32s 1s/step - loss: 0.2251 - accuracy: 0.9602 - val_loss: 2.0114 - val_accuracy: 0.8333\n",
            "Epoch 75/100\n",
            "26/26 [==============================] - 32s 1s/step - loss: 0.1981 - accuracy: 0.9688 - val_loss: 2.5217 - val_accuracy: 0.8021\n",
            "Epoch 76/100\n",
            "26/26 [==============================] - 32s 1s/step - loss: 0.2203 - accuracy: 0.9689 - val_loss: 2.4547 - val_accuracy: 0.7969\n",
            "Epoch 77/100\n",
            "26/26 [==============================] - 32s 1s/step - loss: 0.1771 - accuracy: 0.9689 - val_loss: 2.6460 - val_accuracy: 0.8125\n",
            "Epoch 78/100\n",
            "26/26 [==============================] - 32s 1s/step - loss: 0.2213 - accuracy: 0.9639 - val_loss: 3.0078 - val_accuracy: 0.7604\n",
            "Epoch 79/100\n",
            "26/26 [==============================] - 32s 1s/step - loss: 0.1962 - accuracy: 0.9602 - val_loss: 2.7549 - val_accuracy: 0.7865\n",
            "Epoch 80/100\n",
            "26/26 [==============================] - 33s 1s/step - loss: 0.1377 - accuracy: 0.9739 - val_loss: 2.9026 - val_accuracy: 0.7812\n",
            "Epoch 81/100\n",
            "26/26 [==============================] - 33s 1s/step - loss: 0.2677 - accuracy: 0.9552 - val_loss: 2.1136 - val_accuracy: 0.7917\n",
            "Epoch 82/100\n",
            "26/26 [==============================] - 32s 1s/step - loss: 0.1464 - accuracy: 0.9726 - val_loss: 2.5362 - val_accuracy: 0.8073\n",
            "Epoch 83/100\n",
            "26/26 [==============================] - 33s 1s/step - loss: 0.2070 - accuracy: 0.9652 - val_loss: 2.0097 - val_accuracy: 0.7917\n",
            "Epoch 84/100\n",
            "26/26 [==============================] - 33s 1s/step - loss: 0.1618 - accuracy: 0.9652 - val_loss: 2.0939 - val_accuracy: 0.8177\n",
            "Epoch 85/100\n",
            "26/26 [==============================] - 33s 1s/step - loss: 0.1840 - accuracy: 0.9714 - val_loss: 1.7208 - val_accuracy: 0.8542\n",
            "Epoch 86/100\n",
            "26/26 [==============================] - 33s 1s/step - loss: 0.1420 - accuracy: 0.9789 - val_loss: 2.4548 - val_accuracy: 0.8177\n",
            "Epoch 87/100\n",
            "26/26 [==============================] - 32s 1s/step - loss: 0.2083 - accuracy: 0.9689 - val_loss: 2.3352 - val_accuracy: 0.8073\n",
            "Epoch 88/100\n",
            "26/26 [==============================] - 32s 1s/step - loss: 0.1024 - accuracy: 0.9789 - val_loss: 1.7322 - val_accuracy: 0.8333\n",
            "Epoch 89/100\n",
            "26/26 [==============================] - 31s 1s/step - loss: 0.1896 - accuracy: 0.9751 - val_loss: 2.4206 - val_accuracy: 0.8125\n",
            "Epoch 90/100\n",
            "26/26 [==============================] - 31s 1s/step - loss: 0.1422 - accuracy: 0.9739 - val_loss: 1.7491 - val_accuracy: 0.8229\n",
            "Epoch 91/100\n",
            "26/26 [==============================] - 31s 1s/step - loss: 0.1277 - accuracy: 0.9726 - val_loss: 2.1559 - val_accuracy: 0.7917\n",
            "Epoch 92/100\n",
            "26/26 [==============================] - 31s 1s/step - loss: 0.1086 - accuracy: 0.9701 - val_loss: 2.7478 - val_accuracy: 0.7708\n",
            "Epoch 93/100\n",
            "26/26 [==============================] - 31s 1s/step - loss: 0.1575 - accuracy: 0.9764 - val_loss: 2.3528 - val_accuracy: 0.7604\n",
            "Epoch 94/100\n",
            "26/26 [==============================] - 31s 1s/step - loss: 0.1184 - accuracy: 0.9764 - val_loss: 2.8258 - val_accuracy: 0.7604\n",
            "Epoch 95/100\n",
            "26/26 [==============================] - 31s 1s/step - loss: 0.1294 - accuracy: 0.9789 - val_loss: 2.0848 - val_accuracy: 0.7760\n",
            "Epoch 96/100\n",
            "26/26 [==============================] - 31s 1s/step - loss: 0.1051 - accuracy: 0.9796 - val_loss: 2.9243 - val_accuracy: 0.7552\n",
            "Epoch 97/100\n",
            "26/26 [==============================] - 31s 1s/step - loss: 0.1195 - accuracy: 0.9801 - val_loss: 2.3827 - val_accuracy: 0.8281\n",
            "Epoch 98/100\n",
            "26/26 [==============================] - 31s 1s/step - loss: 0.2337 - accuracy: 0.9577 - val_loss: 2.3377 - val_accuracy: 0.8229\n",
            "Epoch 99/100\n",
            "26/26 [==============================] - 31s 1s/step - loss: 0.1673 - accuracy: 0.9789 - val_loss: 1.9910 - val_accuracy: 0.8073\n",
            "Epoch 100/100\n",
            "26/26 [==============================] - 31s 1s/step - loss: 0.1317 - accuracy: 0.9714 - val_loss: 2.2115 - val_accuracy: 0.7969\n"
          ]
        }
      ]
    },
    {
      "cell_type": "code",
      "source": [
        "!pip install pyyaml h5py  # Required to save models in HDF5 format"
      ],
      "metadata": {
        "colab": {
          "base_uri": "https://localhost:8080/"
        },
        "id": "idAgXKAZatrY",
        "outputId": "a00cd7ac-5879-426d-a467-59e73309f11c"
      },
      "execution_count": null,
      "outputs": [
        {
          "output_type": "stream",
          "name": "stdout",
          "text": [
            "Requirement already satisfied: pyyaml in /usr/local/lib/python3.7/dist-packages (3.13)\n",
            "Requirement already satisfied: h5py in /usr/local/lib/python3.7/dist-packages (3.1.0)\n",
            "Requirement already satisfied: numpy>=1.14.5 in /usr/local/lib/python3.7/dist-packages (from h5py) (1.19.5)\n",
            "Requirement already satisfied: cached-property in /usr/local/lib/python3.7/dist-packages (from h5py) (1.5.2)\n"
          ]
        }
      ]
    },
    {
      "cell_type": "code",
      "source": [
        "model.save('vgg_bone_model_100epoch.h5')"
      ],
      "metadata": {
        "id": "BP-Cf12ca0aI"
      },
      "execution_count": null,
      "outputs": []
    },
    {
      "cell_type": "code",
      "source": [
        "xs, ys = next(training_set)\n",
        "\n",
        "cv2_imshow(xs[0])"
      ],
      "metadata": {
        "id": "tfs3lzOJAj8d"
      },
      "execution_count": null,
      "outputs": []
    },
    {
      "cell_type": "code",
      "source": [
        "logits = model.predict(xs)\n",
        "\n",
        "pred = np.argmax(logits, axis=1)\n",
        "\n",
        "df = pd.DataFrame(index=np.arange(pred.size))\n",
        "\n",
        "# --- Define columns\n",
        "df['true'] = ys[:, 0]\n",
        "df['pred'] = pred\n",
        "df['corr'] = df['true'] == df['pred']\n",
        "\n",
        "# --- Print accuracy\n",
        "print(df['corr'].mean())"
      ],
      "metadata": {
        "id": "o5PxFuagAmie"
      },
      "execution_count": null,
      "outputs": []
    },
    {
      "cell_type": "code",
      "source": [
        "# plot the loss\n",
        "plt.plot(vgg_model_train.history['loss'], label='train loss')\n",
        "plt.plot(vgg_model_train.history['val_loss'], label='val loss')\n",
        "plt.legend()\n",
        "plt.show()\n",
        "\n",
        "# plot the accuracy\n",
        "plt.plot(vgg_model_train.history['accuracy'], label='train acc')\n",
        "plt.plot(vgg_model_train.history['val_accuracy'], label='val acc')\n",
        "plt.legend()\n",
        "plt.show()\n"
      ],
      "metadata": {
        "id": "kKgRHqGoAnwD",
        "colab": {
          "base_uri": "https://localhost:8080/",
          "height": 516
        },
        "outputId": "79237e88-3bf7-4793-bad7-06c8c962a7b8"
      },
      "execution_count": null,
      "outputs": [
        {
          "output_type": "display_data",
          "data": {
            "image/png": "[encoded data removed]",
            "text/plain": [
              "<Figure size 432x288 with 1 Axes>"
            ]
          },
          "metadata": {
            "needs_background": "light"
          }
        },
        {
          "output_type": "display_data",
          "data": {
            "image/png": "[encoded data removed]",
            "text/plain": [
              "<Figure size 432x288 with 1 Axes>"
            ]
          },
          "metadata": {
            "needs_background": "light"
          }
        }
      ]
    },
    {
      "cell_type": "markdown",
      "source": [
        "#### CNN BONE 100 epoch"
      ],
      "metadata": {
        "id": "m2QSxpe23Bl8"
      }
    },
    {
      "cell_type": "code",
      "source": [
        "from tensorflow.python.keras.layers import Dense,Conv2D, MaxPooling2D, Flatten, BatchNormalization, Dropout\n",
        "from tensorflow.python.keras import Sequential\n",
        "from keras.models import Model\n",
        "from glob import glob\n",
        "from keras.preprocessing.image import ImageDataGenerator\n",
        "import keras\n",
        "import tensorflow as tf\n",
        "import matplotlib.pyplot as plt\n",
        "import pandas as pd\n",
        "import numpy as np\n",
        "from PIL import ImageFile\n",
        "%matplotlib inline"
      ],
      "metadata": {
        "id": "KpLaLshI2_pI"
      },
      "execution_count": null,
      "outputs": []
    },
    {
      "cell_type": "code",
      "source": [
        "datagen = ImageDataGenerator(rotation_range=180, horizontal_flip=True, vertical_flip=True, fill_mode='wrap',validation_split=0.2)\n",
        "\n",
        "training_set = datagen.flow_from_directory(directory = 'OsteosarcomaData', target_size = (256, 256), shuffle = True,\n",
        "                                             seed=42,batch_size = 32,class_mode = 'sparse',subset='training')\n",
        "val_set = datagen.flow_from_directory(directory = 'OsteosarcomaData', target_size = (256, 256), shuffle = True,\n",
        "                                             seed=42,batch_size = 32,class_mode = 'sparse',subset='validation')"
      ],
      "metadata": {
        "colab": {
          "base_uri": "https://localhost:8080/"
        },
        "id": "HhdPqyh53EJb",
        "outputId": "1cb5f632-ada2-4c63-ea39-d3f36f68543f"
      },
      "execution_count": null,
      "outputs": [
        {
          "output_type": "stream",
          "name": "stdout",
          "text": [
            "Found 836 images belonging to 3 classes.\n",
            "Found 207 images belonging to 3 classes.\n"
          ]
        }
      ]
    },
    {
      "cell_type": "code",
      "source": [
        "class_weights={\n",
        "    0: 1.0, # Non-Tumor\n",
        "    1: 1.0, # Non-Viable Tumor\n",
        "    2: 1.0, # Viable\n",
        "    # make model more sensitive to positive class if necessary\n",
        "}"
      ],
      "metadata": {
        "id": "yVXMYbpIx6gM"
      },
      "execution_count": null,
      "outputs": []
    },
    {
      "cell_type": "code",
      "source": [
        "model = Sequential()\n",
        "\n",
        "model.add(Conv2D(128, (3, 3), activation='relu', input_shape=(256,256,3), padding='same'))\n",
        "model.add(MaxPooling2D(pool_size=(2, 2)))\n",
        "\n",
        "model.add(Conv2D(128, (3, 3), activation='relu', padding='same'))\n",
        "model.add(MaxPooling2D(pool_size=(2, 2)))\n",
        "\n",
        "model.add(Conv2D(256, (3, 3), activation='relu', padding='same'))\n",
        "model.add(MaxPooling2D(pool_size=(2, 2)))\n",
        "\n",
        "model.add(Flatten())\n",
        "model.add(Dense(512, activation = 'relu'))\n",
        "model.add(Dropout(0.2))\n",
        "model.add(Dense(3, activation = 'softmax'))"
      ],
      "metadata": {
        "id": "Q0eemE_b3HWm"
      },
      "execution_count": null,
      "outputs": []
    },
    {
      "cell_type": "code",
      "source": [
        "#model.summary()\n",
        "from tensorflow import losses, optimizers\n",
        "#loss = losses.SparseCategoricalCrossentropy(from_logits=True)\n",
        "optimizer = tf.keras.optimizers.Adam(learning_rate=1e-4)\n",
        "\n",
        "\n",
        "model.compile(optimizer = 'adam', \n",
        "              loss='sparse_categorical_crossentropy', \n",
        "              metrics=['accuracy'])\n"
      ],
      "metadata": {
        "id": "-X7TPhfi3L8P"
      },
      "execution_count": null,
      "outputs": []
    },
    {
      "cell_type": "code",
      "source": [
        "step_size_train = training_set.n//training_set.batch_size\n",
        "step_size_valid = val_set.n//val_set.batch_size\n",
        "\n",
        "with tf.device('/device:GPU:0'):\n",
        "  model_CNN_train = model.fit(\n",
        "      training_set,\n",
        "      validation_data = val_set,\n",
        "      epochs = 100,\n",
        "      steps_per_epoch = step_size_train,\n",
        "      validation_steps = step_size_valid)"
      ],
      "metadata": {
        "colab": {
          "base_uri": "https://localhost:8080/"
        },
        "id": "RCCjWeXu3PD7",
        "outputId": "4c855af4-c54e-4c8b-ba05-d8b90fee4ec4"
      },
      "execution_count": null,
      "outputs": [
        {
          "output_type": "stream",
          "name": "stdout",
          "text": [
            "Epoch 1/100\n",
            "26/26 [==============================] - 214s 9s/step - loss: 848.3676 - accuracy: 0.3445 - val_loss: 1.0103 - val_accuracy: 0.4740\n",
            "Epoch 2/100\n",
            "26/26 [==============================] - 33s 1s/step - loss: 1.0511 - accuracy: 0.4639 - val_loss: 1.0150 - val_accuracy: 0.4948\n",
            "Epoch 3/100\n",
            "26/26 [==============================] - 29s 1s/step - loss: 1.0613 - accuracy: 0.5037 - val_loss: 1.0115 - val_accuracy: 0.4792\n",
            "Epoch 4/100\n",
            "26/26 [==============================] - 29s 1s/step - loss: 1.0055 - accuracy: 0.4963 - val_loss: 0.9195 - val_accuracy: 0.6302\n",
            "Epoch 5/100\n",
            "26/26 [==============================] - 29s 1s/step - loss: 0.9590 - accuracy: 0.5249 - val_loss: 0.8803 - val_accuracy: 0.5469\n",
            "Epoch 6/100\n",
            "26/26 [==============================] - 29s 1s/step - loss: 0.8654 - accuracy: 0.5808 - val_loss: 0.8430 - val_accuracy: 0.6250\n",
            "Epoch 7/100\n",
            "26/26 [==============================] - 29s 1s/step - loss: 0.8859 - accuracy: 0.5983 - val_loss: 0.6969 - val_accuracy: 0.6979\n",
            "Epoch 8/100\n",
            "26/26 [==============================] - 29s 1s/step - loss: 0.9178 - accuracy: 0.5771 - val_loss: 0.8882 - val_accuracy: 0.6042\n",
            "Epoch 9/100\n",
            "26/26 [==============================] - 29s 1s/step - loss: 0.7843 - accuracy: 0.6729 - val_loss: 0.6241 - val_accuracy: 0.7344\n",
            "Epoch 10/100\n",
            "26/26 [==============================] - 28s 1s/step - loss: 0.7997 - accuracy: 0.6692 - val_loss: 0.8772 - val_accuracy: 0.5625\n",
            "Epoch 11/100\n",
            "26/26 [==============================] - 29s 1s/step - loss: 0.7345 - accuracy: 0.6903 - val_loss: 0.6546 - val_accuracy: 0.7604\n",
            "Epoch 12/100\n",
            "26/26 [==============================] - 29s 1s/step - loss: 0.7157 - accuracy: 0.6965 - val_loss: 0.6040 - val_accuracy: 0.8125\n",
            "Epoch 13/100\n",
            "26/26 [==============================] - 29s 1s/step - loss: 0.6858 - accuracy: 0.7127 - val_loss: 0.4970 - val_accuracy: 0.8333\n",
            "Epoch 14/100\n",
            "26/26 [==============================] - 29s 1s/step - loss: 0.6063 - accuracy: 0.7637 - val_loss: 0.6907 - val_accuracy: 0.7240\n",
            "Epoch 15/100\n",
            "26/26 [==============================] - 29s 1s/step - loss: 0.6295 - accuracy: 0.7550 - val_loss: 0.7039 - val_accuracy: 0.7083\n",
            "Epoch 16/100\n",
            "26/26 [==============================] - 29s 1s/step - loss: 0.5760 - accuracy: 0.7823 - val_loss: 0.6226 - val_accuracy: 0.7656\n",
            "Epoch 17/100\n",
            "26/26 [==============================] - 29s 1s/step - loss: 0.6018 - accuracy: 0.7674 - val_loss: 0.7658 - val_accuracy: 0.6927\n",
            "Epoch 18/100\n",
            "26/26 [==============================] - 28s 1s/step - loss: 0.6006 - accuracy: 0.7811 - val_loss: 0.6260 - val_accuracy: 0.7448\n",
            "Epoch 19/100\n",
            "26/26 [==============================] - 28s 1s/step - loss: 0.6589 - accuracy: 0.7475 - val_loss: 0.5676 - val_accuracy: 0.7656\n",
            "Epoch 20/100\n",
            "26/26 [==============================] - 28s 1s/step - loss: 0.6522 - accuracy: 0.7400 - val_loss: 0.6686 - val_accuracy: 0.7760\n",
            "Epoch 21/100\n",
            "26/26 [==============================] - 28s 1s/step - loss: 0.6398 - accuracy: 0.7537 - val_loss: 0.6175 - val_accuracy: 0.8125\n",
            "Epoch 22/100\n",
            "26/26 [==============================] - 29s 1s/step - loss: 0.5976 - accuracy: 0.7699 - val_loss: 0.5968 - val_accuracy: 0.7708\n",
            "Epoch 23/100\n",
            "26/26 [==============================] - 29s 1s/step - loss: 0.6548 - accuracy: 0.7400 - val_loss: 0.7921 - val_accuracy: 0.6771\n",
            "Epoch 24/100\n",
            "26/26 [==============================] - 29s 1s/step - loss: 0.5468 - accuracy: 0.7948 - val_loss: 0.6160 - val_accuracy: 0.7240\n",
            "Epoch 25/100\n",
            "26/26 [==============================] - 29s 1s/step - loss: 0.5702 - accuracy: 0.7861 - val_loss: 0.6007 - val_accuracy: 0.7344\n",
            "Epoch 26/100\n",
            "26/26 [==============================] - 29s 1s/step - loss: 0.5749 - accuracy: 0.7948 - val_loss: 1.0142 - val_accuracy: 0.7396\n",
            "Epoch 27/100\n",
            "26/26 [==============================] - 28s 1s/step - loss: 0.5633 - accuracy: 0.7736 - val_loss: 0.8315 - val_accuracy: 0.6562\n",
            "Epoch 28/100\n",
            "26/26 [==============================] - 28s 1s/step - loss: 0.5170 - accuracy: 0.8022 - val_loss: 0.5831 - val_accuracy: 0.8073\n",
            "Epoch 29/100\n",
            "26/26 [==============================] - 29s 1s/step - loss: 0.5644 - accuracy: 0.7812 - val_loss: 0.8768 - val_accuracy: 0.6771\n",
            "Epoch 30/100\n",
            "26/26 [==============================] - 29s 1s/step - loss: 0.5905 - accuracy: 0.7761 - val_loss: 0.7082 - val_accuracy: 0.7604\n",
            "Epoch 31/100\n",
            "26/26 [==============================] - 28s 1s/step - loss: 0.4898 - accuracy: 0.8022 - val_loss: 0.7848 - val_accuracy: 0.7240\n",
            "Epoch 32/100\n",
            "26/26 [==============================] - 28s 1s/step - loss: 0.4963 - accuracy: 0.8122 - val_loss: 0.8587 - val_accuracy: 0.7031\n",
            "Epoch 33/100\n",
            "26/26 [==============================] - 28s 1s/step - loss: 0.5108 - accuracy: 0.8234 - val_loss: 0.5331 - val_accuracy: 0.7917\n",
            "Epoch 34/100\n",
            "26/26 [==============================] - 28s 1s/step - loss: 0.5785 - accuracy: 0.7736 - val_loss: 1.0434 - val_accuracy: 0.6250\n",
            "Epoch 35/100\n",
            "26/26 [==============================] - 28s 1s/step - loss: 0.5621 - accuracy: 0.7699 - val_loss: 0.4198 - val_accuracy: 0.8281\n",
            "Epoch 36/100\n",
            "26/26 [==============================] - 28s 1s/step - loss: 0.5144 - accuracy: 0.8122 - val_loss: 0.6020 - val_accuracy: 0.7656\n",
            "Epoch 37/100\n",
            "26/26 [==============================] - 28s 1s/step - loss: 0.4730 - accuracy: 0.8209 - val_loss: 0.6159 - val_accuracy: 0.7344\n",
            "Epoch 38/100\n",
            "26/26 [==============================] - 28s 1s/step - loss: 0.5305 - accuracy: 0.7873 - val_loss: 1.2047 - val_accuracy: 0.6354\n",
            "Epoch 39/100\n",
            "26/26 [==============================] - 28s 1s/step - loss: 0.5349 - accuracy: 0.8097 - val_loss: 0.6010 - val_accuracy: 0.7448\n",
            "Epoch 40/100\n",
            "26/26 [==============================] - 28s 1s/step - loss: 0.4868 - accuracy: 0.7973 - val_loss: 0.6625 - val_accuracy: 0.7396\n",
            "Epoch 41/100\n",
            "26/26 [==============================] - 28s 1s/step - loss: 0.4770 - accuracy: 0.8197 - val_loss: 0.7538 - val_accuracy: 0.6771\n",
            "Epoch 42/100\n",
            "26/26 [==============================] - 28s 1s/step - loss: 0.5999 - accuracy: 0.7500 - val_loss: 0.8321 - val_accuracy: 0.6719\n",
            "Epoch 43/100\n",
            "26/26 [==============================] - 29s 1s/step - loss: 0.4887 - accuracy: 0.8172 - val_loss: 0.5831 - val_accuracy: 0.7656\n",
            "Epoch 44/100\n",
            "26/26 [==============================] - 29s 1s/step - loss: 0.5945 - accuracy: 0.7886 - val_loss: 0.9725 - val_accuracy: 0.5990\n",
            "Epoch 45/100\n",
            "26/26 [==============================] - 29s 1s/step - loss: 0.6069 - accuracy: 0.7649 - val_loss: 0.5923 - val_accuracy: 0.7292\n",
            "Epoch 46/100\n",
            "26/26 [==============================] - 28s 1s/step - loss: 0.5215 - accuracy: 0.7998 - val_loss: 1.8552 - val_accuracy: 0.6667\n",
            "Epoch 47/100\n",
            "26/26 [==============================] - 28s 1s/step - loss: 0.4988 - accuracy: 0.8122 - val_loss: 0.6027 - val_accuracy: 0.7552\n",
            "Epoch 48/100\n",
            "26/26 [==============================] - 28s 1s/step - loss: 0.5040 - accuracy: 0.8184 - val_loss: 0.6243 - val_accuracy: 0.7552\n",
            "Epoch 49/100\n",
            "26/26 [==============================] - 28s 1s/step - loss: 0.5205 - accuracy: 0.8022 - val_loss: 0.6274 - val_accuracy: 0.7344\n",
            "Epoch 50/100\n",
            "26/26 [==============================] - 28s 1s/step - loss: 0.5046 - accuracy: 0.8246 - val_loss: 1.2273 - val_accuracy: 0.5938\n",
            "Epoch 51/100\n",
            "26/26 [==============================] - 29s 1s/step - loss: 0.7399 - accuracy: 0.7139 - val_loss: 0.7693 - val_accuracy: 0.6771\n",
            "Epoch 52/100\n",
            "26/26 [==============================] - 29s 1s/step - loss: 0.5756 - accuracy: 0.7488 - val_loss: 0.8511 - val_accuracy: 0.7135\n",
            "Epoch 53/100\n",
            "26/26 [==============================] - 29s 1s/step - loss: 0.5284 - accuracy: 0.7948 - val_loss: 0.5196 - val_accuracy: 0.7917\n",
            "Epoch 54/100\n",
            "26/26 [==============================] - 29s 1s/step - loss: 0.4834 - accuracy: 0.8122 - val_loss: 0.6162 - val_accuracy: 0.7604\n",
            "Epoch 55/100\n",
            "26/26 [==============================] - 28s 1s/step - loss: 0.5360 - accuracy: 0.7898 - val_loss: 0.6922 - val_accuracy: 0.6927\n",
            "Epoch 56/100\n",
            "26/26 [==============================] - 29s 1s/step - loss: 0.5177 - accuracy: 0.7969 - val_loss: 0.6433 - val_accuracy: 0.7031\n",
            "Epoch 57/100\n",
            "26/26 [==============================] - 29s 1s/step - loss: 0.5039 - accuracy: 0.8109 - val_loss: 0.6839 - val_accuracy: 0.7292\n",
            "Epoch 58/100\n",
            "26/26 [==============================] - 28s 1s/step - loss: 0.5466 - accuracy: 0.8072 - val_loss: 0.5804 - val_accuracy: 0.7604\n",
            "Epoch 59/100\n",
            "26/26 [==============================] - 28s 1s/step - loss: 0.4996 - accuracy: 0.8284 - val_loss: 0.7056 - val_accuracy: 0.7031\n",
            "Epoch 60/100\n",
            "26/26 [==============================] - 28s 1s/step - loss: 0.4673 - accuracy: 0.8259 - val_loss: 0.6431 - val_accuracy: 0.6823\n",
            "Epoch 61/100\n",
            "26/26 [==============================] - 28s 1s/step - loss: 0.5094 - accuracy: 0.7923 - val_loss: 0.6254 - val_accuracy: 0.7135\n",
            "Epoch 62/100\n",
            "26/26 [==============================] - 28s 1s/step - loss: 0.4556 - accuracy: 0.8321 - val_loss: 0.5984 - val_accuracy: 0.7240\n",
            "Epoch 63/100\n",
            "26/26 [==============================] - 28s 1s/step - loss: 0.3802 - accuracy: 0.8619 - val_loss: 0.6912 - val_accuracy: 0.6719\n",
            "Epoch 64/100\n",
            "26/26 [==============================] - 28s 1s/step - loss: 0.4290 - accuracy: 0.8483 - val_loss: 0.7746 - val_accuracy: 0.6562\n",
            "Epoch 65/100\n",
            "26/26 [==============================] - 28s 1s/step - loss: 0.3917 - accuracy: 0.8570 - val_loss: 0.4695 - val_accuracy: 0.7969\n",
            "Epoch 66/100\n",
            "26/26 [==============================] - 28s 1s/step - loss: 0.4313 - accuracy: 0.8507 - val_loss: 0.6603 - val_accuracy: 0.7448\n",
            "Epoch 67/100\n",
            "26/26 [==============================] - 28s 1s/step - loss: 0.3617 - accuracy: 0.8607 - val_loss: 0.6424 - val_accuracy: 0.7760\n",
            "Epoch 68/100\n",
            "26/26 [==============================] - 28s 1s/step - loss: 0.4542 - accuracy: 0.8308 - val_loss: 0.9268 - val_accuracy: 0.6250\n",
            "Epoch 69/100\n",
            "26/26 [==============================] - 28s 1s/step - loss: 0.4143 - accuracy: 0.8458 - val_loss: 0.7229 - val_accuracy: 0.7396\n",
            "Epoch 70/100\n",
            "26/26 [==============================] - 28s 1s/step - loss: 0.3893 - accuracy: 0.8719 - val_loss: 1.1075 - val_accuracy: 0.6719\n",
            "Epoch 71/100\n",
            "26/26 [==============================] - 28s 1s/step - loss: 0.4536 - accuracy: 0.8371 - val_loss: 0.5282 - val_accuracy: 0.7552\n",
            "Epoch 72/100\n",
            "26/26 [==============================] - 28s 1s/step - loss: 0.4112 - accuracy: 0.8483 - val_loss: 10.3502 - val_accuracy: 0.3490\n",
            "Epoch 73/100\n",
            "26/26 [==============================] - 28s 1s/step - loss: 1.2286 - accuracy: 0.6555 - val_loss: 1.1458 - val_accuracy: 0.5208\n",
            "Epoch 74/100\n",
            "26/26 [==============================] - 28s 1s/step - loss: 0.6172 - accuracy: 0.7761 - val_loss: 0.7345 - val_accuracy: 0.7969\n",
            "Epoch 75/100\n",
            "26/26 [==============================] - 28s 1s/step - loss: 0.5563 - accuracy: 0.7973 - val_loss: 0.5535 - val_accuracy: 0.7552\n",
            "Epoch 76/100\n",
            "26/26 [==============================] - 29s 1s/step - loss: 0.4954 - accuracy: 0.8097 - val_loss: 0.7332 - val_accuracy: 0.7031\n",
            "Epoch 77/100\n",
            "26/26 [==============================] - 28s 1s/step - loss: 0.5785 - accuracy: 0.7749 - val_loss: 1.1364 - val_accuracy: 0.4740\n",
            "Epoch 78/100\n",
            "26/26 [==============================] - 28s 1s/step - loss: 0.6214 - accuracy: 0.7637 - val_loss: 0.5343 - val_accuracy: 0.7552\n",
            "Epoch 79/100\n",
            "26/26 [==============================] - 28s 1s/step - loss: 0.5568 - accuracy: 0.7823 - val_loss: 0.6856 - val_accuracy: 0.7292\n",
            "Epoch 80/100\n",
            "26/26 [==============================] - 28s 1s/step - loss: 0.4974 - accuracy: 0.8246 - val_loss: 1.3252 - val_accuracy: 0.6094\n",
            "Epoch 81/100\n",
            "26/26 [==============================] - 28s 1s/step - loss: 0.5525 - accuracy: 0.8072 - val_loss: 0.5368 - val_accuracy: 0.7656\n",
            "Epoch 82/100\n",
            "26/26 [==============================] - 28s 1s/step - loss: 0.4613 - accuracy: 0.8259 - val_loss: 0.7464 - val_accuracy: 0.6510\n",
            "Epoch 83/100\n",
            "26/26 [==============================] - 29s 1s/step - loss: 0.4670 - accuracy: 0.8269 - val_loss: 1.0151 - val_accuracy: 0.5677\n",
            "Epoch 84/100\n",
            "26/26 [==============================] - 29s 1s/step - loss: 0.4968 - accuracy: 0.8047 - val_loss: 0.4543 - val_accuracy: 0.8385\n",
            "Epoch 85/100\n",
            "26/26 [==============================] - 28s 1s/step - loss: 0.5623 - accuracy: 0.7612 - val_loss: 0.6560 - val_accuracy: 0.7135\n",
            "Epoch 86/100\n",
            "26/26 [==============================] - 29s 1s/step - loss: 0.4440 - accuracy: 0.8383 - val_loss: 0.5910 - val_accuracy: 0.7135\n",
            "Epoch 87/100\n",
            "26/26 [==============================] - 28s 1s/step - loss: 0.5326 - accuracy: 0.8060 - val_loss: 0.6242 - val_accuracy: 0.7135\n",
            "Epoch 88/100\n",
            "26/26 [==============================] - 28s 1s/step - loss: 0.3966 - accuracy: 0.8557 - val_loss: 0.5742 - val_accuracy: 0.7396\n",
            "Epoch 89/100\n",
            "26/26 [==============================] - 28s 1s/step - loss: 0.4823 - accuracy: 0.8259 - val_loss: 1.0025 - val_accuracy: 0.6406\n",
            "Epoch 90/100\n",
            "26/26 [==============================] - 28s 1s/step - loss: 0.3954 - accuracy: 0.8545 - val_loss: 0.8294 - val_accuracy: 0.6615\n",
            "Epoch 91/100\n",
            "26/26 [==============================] - 28s 1s/step - loss: 0.4128 - accuracy: 0.8470 - val_loss: 0.5783 - val_accuracy: 0.7656\n",
            "Epoch 92/100\n",
            "26/26 [==============================] - 28s 1s/step - loss: 0.4598 - accuracy: 0.8396 - val_loss: 0.8072 - val_accuracy: 0.6198\n",
            "Epoch 93/100\n",
            "26/26 [==============================] - 28s 1s/step - loss: 0.4231 - accuracy: 0.8520 - val_loss: 0.5727 - val_accuracy: 0.7240\n",
            "Epoch 94/100\n",
            "26/26 [==============================] - 28s 1s/step - loss: 0.3690 - accuracy: 0.8632 - val_loss: 0.7157 - val_accuracy: 0.6979\n",
            "Epoch 95/100\n",
            "26/26 [==============================] - 28s 1s/step - loss: 0.3927 - accuracy: 0.8433 - val_loss: 0.6224 - val_accuracy: 0.7083\n",
            "Epoch 96/100\n",
            "26/26 [==============================] - 28s 1s/step - loss: 0.3729 - accuracy: 0.8607 - val_loss: 0.7162 - val_accuracy: 0.6823\n",
            "Epoch 97/100\n",
            "26/26 [==============================] - 28s 1s/step - loss: 0.3771 - accuracy: 0.8694 - val_loss: 0.8538 - val_accuracy: 0.6354\n",
            "Epoch 98/100\n",
            "26/26 [==============================] - 28s 1s/step - loss: 0.4649 - accuracy: 0.8172 - val_loss: 0.6124 - val_accuracy: 0.6979\n",
            "Epoch 99/100\n",
            "26/26 [==============================] - 29s 1s/step - loss: 0.3803 - accuracy: 0.8483 - val_loss: 0.6534 - val_accuracy: 0.7448\n",
            "Epoch 100/100\n",
            "26/26 [==============================] - 28s 1s/step - loss: 0.3642 - accuracy: 0.8607 - val_loss: 0.7661 - val_accuracy: 0.6719\n"
          ]
        }
      ]
    },
    {
      "cell_type": "code",
      "source": [
        "# plot the loss\n",
        "plt.plot(model_CNN_train.history['loss'], label='train loss')\n",
        "plt.plot(model_CNN_train.history['val_loss'], label='val loss')\n",
        "plt.legend()\n",
        "plt.show()\n",
        "\n",
        "# plot the accuracy\n",
        "plt.plot(model_CNN_train.history['accuracy'], label='train acc')\n",
        "plt.plot(model_CNN_train.history['val_accuracy'], label='val acc')\n",
        "plt.legend()\n",
        "plt.show()"
      ],
      "metadata": {
        "colab": {
          "base_uri": "https://localhost:8080/",
          "height": 512
        },
        "id": "Knv5curzDF79",
        "outputId": "6ee0a853-7d63-4626-c049-0dea554ec0ba"
      },
      "execution_count": null,
      "outputs": [
        {
          "output_type": "display_data",
          "data": {
            "image/png": "[encoded data removed]",
            "text/plain": [
              "<Figure size 432x288 with 1 Axes>"
            ]
          },
          "metadata": {
            "needs_background": "light"
          }
        },
        {
          "output_type": "display_data",
          "data": {
            "image/png": "[encoded data removed]",
            "text/plain": [
              "<Figure size 432x288 with 1 Axes>"
            ]
          },
          "metadata": {
            "needs_background": "light"
          }
        }
      ]
    },
    {
      "cell_type": "markdown",
      "source": [
        "### Segmentation Lung UNET"
      ],
      "metadata": {
        "id": "EoGJL1d9hNoA"
      }
    },
    {
      "cell_type": "markdown",
      "source": [
        "# New Section"
      ],
      "metadata": {
        "id": "w8prLRyHx6nF"
      }
    },
    {
      "cell_type": "code",
      "source": [
        "def multiclass_unet(n_classes = 3, IMG_HEIGHT = 256, IMG_WIDTH = 256, IMG_CHANNELS = 3):\n",
        "  #Build the model\n",
        "  inputs = tf.keras.layers.Input((IMG_HEIGHT, IMG_WIDTH, IMG_CHANNELS))\n",
        "  s = tf.keras.layers.Lambda(lambda x: x / 255)(inputs)\n",
        "\n",
        "  #Encoder \n",
        "  c1 = tf.keras.layers.Conv2D(64, (3, 3), activation='relu', kernel_initializer='he_normal', padding='same')(s)\n",
        "  c1 = tf.keras.layers.Dropout(0.1)(c1)\n",
        "  c1 = tf.keras.layers.Conv2D(64, (3, 3), activation='relu', kernel_initializer='he_normal', padding='same')(c1)\n",
        "  p1 = tf.keras.layers.MaxPooling2D((2, 2))(c1)\n",
        "\n",
        "  c2 = tf.keras.layers.Conv2D(128, (3, 3), activation='relu', kernel_initializer='he_normal', padding='same')(p1)\n",
        "  c2 = tf.keras.layers.Dropout(0.1)(c2)\n",
        "  c2 = tf.keras.layers.Conv2D(128, (3, 3), activation='relu', kernel_initializer='he_normal', padding='same')(c2)\n",
        "  p2 = tf.keras.layers.MaxPooling2D((2, 2))(c2)\n",
        "  \n",
        "  c3 = tf.keras.layers.Conv2D(256, (3, 3), activation='relu', kernel_initializer='he_normal', padding='same')(p2)\n",
        "  c3 = tf.keras.layers.Dropout(0.2)(c3)\n",
        "  c3 = tf.keras.layers.Conv2D(256, (3, 3), activation='relu', kernel_initializer='he_normal', padding='same')(c3)\n",
        "  p3 = tf.keras.layers.MaxPooling2D((2, 2))(c3)\n",
        "  \n",
        "  c4 = tf.keras.layers.Conv2D(512, (3, 3), activation='relu', kernel_initializer='he_normal', padding='same')(p3)\n",
        "  c4 = tf.keras.layers.Dropout(0.2)(c4)\n",
        "  c4 = tf.keras.layers.Conv2D(512, (3, 3), activation='relu', kernel_initializer='he_normal', padding='same')(c4)\n",
        "  p4 = tf.keras.layers.MaxPooling2D(pool_size=(2, 2))(c4)\n",
        "  \n",
        "  c5 = tf.keras.layers.Conv2D(1024, (3, 3), activation='relu', kernel_initializer='he_normal', padding='same')(p4)\n",
        "  c5 = tf.keras.layers.Dropout(0.3)(c5)\n",
        "  c5 = tf.keras.layers.Conv2D(1024, (3, 3), activation='relu', kernel_initializer='he_normal', padding='same')(c5)\n",
        "\n",
        "  #Decoder \n",
        "  u6 = tf.keras.layers.Conv2DTranspose(512, (2, 2), strides=(2, 2), padding='same')(c5)\n",
        "  u6 = tf.keras.layers.concatenate([u6, c4])\n",
        "  c6 = tf.keras.layers.Conv2D(512, (3, 3), activation='relu', kernel_initializer='he_normal', padding='same')(u6)\n",
        "  c6 = tf.keras.layers.Dropout(0.2)(c6)\n",
        "  c6 = tf.keras.layers.Conv2D(512, (3, 3), activation='relu', kernel_initializer='he_normal', padding='same')(c6)\n",
        "  \n",
        "  u7 = tf.keras.layers.Conv2DTranspose(256, (2, 2), strides=(2, 2), padding='same')(c6)\n",
        "  u7 = tf.keras.layers.concatenate([u7, c3])\n",
        "  c7 = tf.keras.layers.Conv2D(256, (3, 3), activation='relu', kernel_initializer='he_normal', padding='same')(u7)\n",
        "  c7 = tf.keras.layers.Dropout(0.2)(c7)\n",
        "  c7 = tf.keras.layers.Conv2D(256, (3, 3), activation='relu', kernel_initializer='he_normal', padding='same')(c7)\n",
        "  \n",
        "  u8 = tf.keras.layers.Conv2DTranspose(128, (2, 2), strides=(2, 2), padding='same')(c7)\n",
        "  u8 = tf.keras.layers.concatenate([u8, c2])\n",
        "  c8 = tf.keras.layers.Conv2D(128, (3, 3), activation='relu', kernel_initializer='he_normal', padding='same')(u8)\n",
        "  c8 = tf.keras.layers.Dropout(0.1)(c8)\n",
        "  c8 = tf.keras.layers.Conv2D(128, (3, 3), activation='relu', kernel_initializer='he_normal', padding='same')(c8)\n",
        "  \n",
        "  u9 = tf.keras.layers.Conv2DTranspose(64, (2, 2), strides=(2, 2), padding='same')(c8)\n",
        "  u9 = tf.keras.layers.concatenate([u9, c1], axis=3)\n",
        "  c9 = tf.keras.layers.Conv2D(64, (3, 3), activation='relu', kernel_initializer='he_normal', padding='same')(u9)\n",
        "  c9 = tf.keras.layers.Dropout(0.1)(c9)\n",
        "  c9 = tf.keras.layers.Conv2D(64, (3, 3), activation='relu', kernel_initializer='he_normal', padding='same')(c9)\n",
        "  \n",
        "  outputs = tf.keras.layers.Conv2D(n_classes, (1, 1), activation='softmax')(c9)\n",
        "  \n",
        "  model = tf.keras.Model(inputs=[inputs], outputs=[outputs])\n",
        "  model.compile(optimizer='adam', loss='sparse_categorical_crossentropy', metrics=['accuracy'])\n",
        "\n",
        "  return model\n",
        "\n",
        "model.summary()"
      ],
      "metadata": {
        "colab": {
          "base_uri": "https://localhost:8080/"
        },
        "id": "9gHxMQ_ihMok",
        "outputId": "00e1d202-4fff-47b5-d829-23ddb7ea9732"
      },
      "execution_count": null,
      "outputs": [
        {
          "output_type": "stream",
          "name": "stdout",
          "text": [
            "Model: \"model_1\"\n",
            "__________________________________________________________________________________________________\n",
            " Layer (type)                   Output Shape         Param #     Connected to                     \n",
            "==================================================================================================\n",
            " input_2 (InputLayer)           [(None, 256, 256, 3  0           []                               \n",
            "                                )]                                                                \n",
            "                                                                                                  \n",
            " lambda_1 (Lambda)              (None, 256, 256, 3)  0           ['input_2[0][0]']                \n",
            "                                                                                                  \n",
            " conv2d_19 (Conv2D)             (None, 256, 256, 64  1792        ['lambda_1[0][0]']               \n",
            "                                )                                                                 \n",
            "                                                                                                  \n",
            " dropout_9 (Dropout)            (None, 256, 256, 64  0           ['conv2d_19[0][0]']              \n",
            "                                )                                                                 \n",
            "                                                                                                  \n",
            " conv2d_20 (Conv2D)             (None, 256, 256, 64  36928       ['dropout_9[0][0]']              \n",
            "                                )                                                                 \n",
            "                                                                                                  \n",
            " max_pooling2d_4 (MaxPooling2D)  (None, 128, 128, 64  0          ['conv2d_20[0][0]']              \n",
            "                                )                                                                 \n",
            "                                                                                                  \n",
            " conv2d_21 (Conv2D)             (None, 128, 128, 12  73856       ['max_pooling2d_4[0][0]']        \n",
            "                                8)                                                                \n",
            "                                                                                                  \n",
            " dropout_10 (Dropout)           (None, 128, 128, 12  0           ['conv2d_21[0][0]']              \n",
            "                                8)                                                                \n",
            "                                                                                                  \n",
            " conv2d_22 (Conv2D)             (None, 128, 128, 12  147584      ['dropout_10[0][0]']             \n",
            "                                8)                                                                \n",
            "                                                                                                  \n",
            " max_pooling2d_5 (MaxPooling2D)  (None, 64, 64, 128)  0          ['conv2d_22[0][0]']              \n",
            "                                                                                                  \n",
            " conv2d_23 (Conv2D)             (None, 64, 64, 256)  295168      ['max_pooling2d_5[0][0]']        \n",
            "                                                                                                  \n",
            " dropout_11 (Dropout)           (None, 64, 64, 256)  0           ['conv2d_23[0][0]']              \n",
            "                                                                                                  \n",
            " conv2d_24 (Conv2D)             (None, 64, 64, 256)  590080      ['dropout_11[0][0]']             \n",
            "                                                                                                  \n",
            " max_pooling2d_6 (MaxPooling2D)  (None, 32, 32, 256)  0          ['conv2d_24[0][0]']              \n",
            "                                                                                                  \n",
            " conv2d_25 (Conv2D)             (None, 32, 32, 512)  1180160     ['max_pooling2d_6[0][0]']        \n",
            "                                                                                                  \n",
            " dropout_12 (Dropout)           (None, 32, 32, 512)  0           ['conv2d_25[0][0]']              \n",
            "                                                                                                  \n",
            " conv2d_26 (Conv2D)             (None, 32, 32, 512)  2359808     ['dropout_12[0][0]']             \n",
            "                                                                                                  \n",
            " max_pooling2d_7 (MaxPooling2D)  (None, 16, 16, 512)  0          ['conv2d_26[0][0]']              \n",
            "                                                                                                  \n",
            " conv2d_27 (Conv2D)             (None, 16, 16, 1024  4719616     ['max_pooling2d_7[0][0]']        \n",
            "                                )                                                                 \n",
            "                                                                                                  \n",
            " dropout_13 (Dropout)           (None, 16, 16, 1024  0           ['conv2d_27[0][0]']              \n",
            "                                )                                                                 \n",
            "                                                                                                  \n",
            " conv2d_28 (Conv2D)             (None, 16, 16, 1024  9438208     ['dropout_13[0][0]']             \n",
            "                                )                                                                 \n",
            "                                                                                                  \n",
            " conv2d_transpose_4 (Conv2DTran  (None, 32, 32, 512)  2097664    ['conv2d_28[0][0]']              \n",
            " spose)                                                                                           \n",
            "                                                                                                  \n",
            " concatenate_4 (Concatenate)    (None, 32, 32, 1024  0           ['conv2d_transpose_4[0][0]',     \n",
            "                                )                                 'conv2d_26[0][0]']              \n",
            "                                                                                                  \n",
            " conv2d_29 (Conv2D)             (None, 32, 32, 512)  4719104     ['concatenate_4[0][0]']          \n",
            "                                                                                                  \n",
            " dropout_14 (Dropout)           (None, 32, 32, 512)  0           ['conv2d_29[0][0]']              \n",
            "                                                                                                  \n",
            " conv2d_30 (Conv2D)             (None, 32, 32, 512)  2359808     ['dropout_14[0][0]']             \n",
            "                                                                                                  \n",
            " conv2d_transpose_5 (Conv2DTran  (None, 64, 64, 256)  524544     ['conv2d_30[0][0]']              \n",
            " spose)                                                                                           \n",
            "                                                                                                  \n",
            " concatenate_5 (Concatenate)    (None, 64, 64, 512)  0           ['conv2d_transpose_5[0][0]',     \n",
            "                                                                  'conv2d_24[0][0]']              \n",
            "                                                                                                  \n",
            " conv2d_31 (Conv2D)             (None, 64, 64, 256)  1179904     ['concatenate_5[0][0]']          \n",
            "                                                                                                  \n",
            " dropout_15 (Dropout)           (None, 64, 64, 256)  0           ['conv2d_31[0][0]']              \n",
            "                                                                                                  \n",
            " conv2d_32 (Conv2D)             (None, 64, 64, 256)  590080      ['dropout_15[0][0]']             \n",
            "                                                                                                  \n",
            " conv2d_transpose_6 (Conv2DTran  (None, 128, 128, 12  131200     ['conv2d_32[0][0]']              \n",
            " spose)                         8)                                                                \n",
            "                                                                                                  \n",
            " concatenate_6 (Concatenate)    (None, 128, 128, 25  0           ['conv2d_transpose_6[0][0]',     \n",
            "                                6)                                'conv2d_22[0][0]']              \n",
            "                                                                                                  \n",
            " conv2d_33 (Conv2D)             (None, 128, 128, 12  295040      ['concatenate_6[0][0]']          \n",
            "                                8)                                                                \n",
            "                                                                                                  \n",
            " dropout_16 (Dropout)           (None, 128, 128, 12  0           ['conv2d_33[0][0]']              \n",
            "                                8)                                                                \n",
            "                                                                                                  \n",
            " conv2d_34 (Conv2D)             (None, 128, 128, 12  147584      ['dropout_16[0][0]']             \n",
            "                                8)                                                                \n",
            "                                                                                                  \n",
            " conv2d_transpose_7 (Conv2DTran  (None, 256, 256, 64  32832      ['conv2d_34[0][0]']              \n",
            " spose)                         )                                                                 \n",
            "                                                                                                  \n",
            " concatenate_7 (Concatenate)    (None, 256, 256, 12  0           ['conv2d_transpose_7[0][0]',     \n",
            "                                8)                                'conv2d_20[0][0]']              \n",
            "                                                                                                  \n",
            " conv2d_35 (Conv2D)             (None, 256, 256, 64  73792       ['concatenate_7[0][0]']          \n",
            "                                )                                                                 \n",
            "                                                                                                  \n",
            " dropout_17 (Dropout)           (None, 256, 256, 64  0           ['conv2d_35[0][0]']              \n",
            "                                )                                                                 \n",
            "                                                                                                  \n",
            " conv2d_36 (Conv2D)             (None, 256, 256, 64  36928       ['dropout_17[0][0]']             \n",
            "                                )                                                                 \n",
            "                                                                                                  \n",
            " conv2d_37 (Conv2D)             (None, 256, 256, 1)  65          ['conv2d_36[0][0]']              \n",
            "                                                                                                  \n",
            "==================================================================================================\n",
            "Total params: 31,031,745\n",
            "Trainable params: 31,031,745\n",
            "Non-trainable params: 0\n",
            "__________________________________________________________________________________________________\n"
          ]
        }
      ]
    },
    {
      "cell_type": "code",
      "source": [
        ""
      ],
      "metadata": {
        "id": "dYjOQpQYi5Wj"
      },
      "execution_count": null,
      "outputs": []
    }
  ],
  "metadata": {
    "colab": {
      "collapsed_sections": [],
      "name": "WIKMproject.ipynb",
      "provenance": []
    },
    "kernelspec": {
      "display_name": "Python 3",
      "name": "python3"
    },
    "language_info": {
      "name": "python"
    }
  },
  "nbformat": 4,
  "nbformat_minor": 0
}
{
  "nbformat": 4,
  "nbformat_minor": 0,
  "metadata": {
    "colab": {
      "name": "preprocess_img_to_np.ipynb",
      "provenance": [],
      "collapsed_sections": []
    },
    "kernelspec": {
      "name": "python3",
      "display_name": "Python 3"
    },
    "language_info": {
      "name": "python"
    }
  },
  "cells": [
    {
      "cell_type": "code",
      "execution_count": null,
      "metadata": {
        "id": "-GSG8ci6EFCI"
      },
      "outputs": [],
      "source": [
        "import numpy as np\n",
        "import os\n",
        "import matplotlib.pyplot as plt\n",
        "%matplotlib inline\n",
        "from sklearn.model_selection import train_test_split"
      ]
    },
    {
      "cell_type": "code",
      "source": [
        "from google.colab import drive\n",
        "drive.mount('/content/drive')"
      ],
      "metadata": {
        "id": "zlZLrYnOEh38"
      },
      "execution_count": null,
      "outputs": []
    },
    {
      "cell_type": "code",
      "source": [
        "os.chdir('/content/drive/MyDrive/WIKM')"
      ],
      "metadata": {
        "id": "OjAPSg1QEiWa"
      },
      "execution_count": null,
      "outputs": []
    },
    {
      "cell_type": "markdown",
      "source": [
        "### Change Image to NP array"
      ],
      "metadata": {
        "id": "AnmaiNLAEnuQ"
      }
    },
    {
      "cell_type": "code",
      "source": [
        "def Dataset_loader(DIR, RESIZE, sigmaX=10):\n",
        "    IMG = []\n",
        "    read = lambda imname: np.asarray(Image.open(imname).convert(\"RGB\"))\n",
        "    for IMAGE_NAME in tqdm(os.listdir(DIR)):\n",
        "        PATH = os.path.join(DIR,IMAGE_NAME)\n",
        "        _, ftype = os.path.splitext(PATH)\n",
        "        if ftype == \".jpg\":\n",
        "            img = read(PATH)\n",
        "           \n",
        "            img = cv2.resize(img, (RESIZE,RESIZE))\n",
        "           \n",
        "            IMG.append(np.array(img))\n",
        "    return IMG"
      ],
      "metadata": {
        "id": "2xvp6Qw1EmoY"
      },
      "execution_count": null,
      "outputs": []
    },
    {
      "cell_type": "code",
      "source": [
        "#Arrays for bone cancer\n",
        "\n",
        "NonTumor_train = np.array(Dataset_loader('/content/drive/MyDrive/WIKM/OsteosarcomaData/Non-Tumor',224))\n",
        "NonViableTumor_train = np.array(Dataset_loader('/content/drive/MyDrive/WIKM/OsteosarcomaData/Non-Viable-Tumor',224))\n",
        "Viable_train = np.array(Dataset_loader('/content/drive/MyDrive/WIKM/OsteosarcomaData/Viable', 224))"
      ],
      "metadata": {
        "id": "krSrtXn3EsU_"
      },
      "execution_count": null,
      "outputs": []
    },
    {
      "cell_type": "code",
      "source": [
        "#Arrays for lung cancer\n",
        "\n",
        "insitu_train = np.array(Dataset_loader('/content/drive/MyDrive/WIKM/patchedImagesPNG256x256/Train/in_situ',224))\n",
        "invasive_train = np.array(Dataset_loader('/content/drive/MyDrive/WIKM/patchedImagesPNG256x256/Train/invasive',224))\n",
        "normal_train = np.array(Dataset_loader('/content/drive/MyDrive/WIKM/patchedImagesPNG256x256/Train/normal', 224))\n",
        "\n",
        "insitu_test = np.array(Dataset_loader('/content/drive/MyDrive/WIKM/patchedImagesPNG256x256/Test/in_situ',224))\n",
        "invasive_test = np.array(Dataset_loader('/content/drive/MyDrive/WIKM/patchedImagesPNG256x256/Test/invasive',224))\n",
        "normal_test = np.array(Dataset_loader('/content/drive/MyDrive/WIKM/patchedImagesPNG256x256/Test/normal', 224))"
      ],
      "metadata": {
        "id": "2bvBGeZFE3OG"
      },
      "execution_count": null,
      "outputs": []
    },
    {
      "cell_type": "markdown",
      "source": [
        "### Creating Labels for Bone"
      ],
      "metadata": {
        "id": "EqmXgFr_E7iV"
      }
    },
    {
      "cell_type": "code",
      "source": [
        "# Create labels\n",
        "NonTumor_train_label = np.zeros(len(NonTumor_train))\n",
        "NonViableTumor_train_label = np.ones(len(NonViableTumor_train))\n",
        "Viable_train_label = np.full(len(Viable_train), 2)\n",
        "\n",
        "# Merge data \n",
        "X_train = np.concatenate((NonTumor_train, NonViableTumor_train, Viable_train), axis = 0)\n",
        "Y_train = np.concatenate((NonTumor_train_label, NonViableTumor_train_label, Viable_train_label), axis = 0)"
      ],
      "metadata": {
        "id": "bGNtOZ16E5eo"
      },
      "execution_count": null,
      "outputs": []
    },
    {
      "cell_type": "code",
      "source": [
        "#Save np array\n",
        "\n",
        "np.save('/content/drive/MyDrive/WIKM/X_train_bone', X_train)\n",
        "np.save('/content/drive/MyDrive/WIKM/Y_train_bone', Y_train)"
      ],
      "metadata": {
        "id": "R6Yp-vZHFCTN"
      },
      "execution_count": null,
      "outputs": []
    },
    {
      "cell_type": "code",
      "source": [
        "#Load np array\n",
        "\n",
        "X_train = np.load('X_train_bone.npy')\n",
        "Y_train = np.load('Y_train_bone.npy')"
      ],
      "metadata": {
        "id": "uUQwrgKaFFbd"
      },
      "execution_count": null,
      "outputs": []
    },
    {
      "cell_type": "code",
      "source": [
        "# Shuffle train data\n",
        "s = np.arange(X_train.shape[0])\n",
        "np.random.shuffle(s)\n",
        "X_train= X_train[s]\n",
        "Y_train = Y_train[s]"
      ],
      "metadata": {
        "id": "F6dKdyiLFLWH"
      },
      "execution_count": null,
      "outputs": []
    },
    {
      "cell_type": "markdown",
      "source": [
        "### Create Label for Lung"
      ],
      "metadata": {
        "id": "kKeuNGT0FO9c"
      }
    },
    {
      "cell_type": "code",
      "source": [
        "# Create labels\n",
        "normal_train_label = np.zeros(len(normal_train))\n",
        "invasive_train_label = np.ones(len(invasive_train))\n",
        "insitu_train_label = np.full(len(insitu_train), 2)\n",
        "\n",
        "normal_test_label = np.zeros(len(normal_test))\n",
        "invasive_test_label = np.ones(len(invasive_test))\n",
        "insitu_test_label = np.full(len(insitu_test), 2)"
      ],
      "metadata": {
        "id": "rkktGj0TFNwH"
      },
      "execution_count": null,
      "outputs": []
    },
    {
      "cell_type": "code",
      "source": [
        "# Merge data \n",
        "X_train = np.concatenate((normal_train, invasive_train, insitu_train), axis = 0)\n",
        "Y_train = np.concatenate((normal_train_label, invasive_train_label, insitu_train_label), axis = 0)\n",
        "\n",
        "X_test = np.concatenate((normal_test, invasive_test, insitu_test), axis = 0)\n",
        "Y_test = np.concatenate((normal_test_label, invasive_test_label, insitu_test_label), axis = 0)"
      ],
      "metadata": {
        "id": "c7IEIMotFWtc"
      },
      "execution_count": null,
      "outputs": []
    },
    {
      "cell_type": "code",
      "source": [
        "#Save np array\n",
        "\n",
        "np.save('/content/drive/MyDrive/WIKM/X_train', X_train)\n",
        "np.save('/content/drive/MyDrive/WIKM/Y_train', Y_train)\n",
        "np.save('/content/drive/MyDrive/WIKM/X_test', X_test)\n",
        "np.save('/content/drive/MyDrive/WIKM/Y_test', Y_test)"
      ],
      "metadata": {
        "id": "xVdT8-BPFXyu"
      },
      "execution_count": null,
      "outputs": []
    },
    {
      "cell_type": "code",
      "source": [
        "#Load arrays\n",
        "\n",
        "X_train = np.load('X_train_lung.npy')\n",
        "Y_train = np.load('Y_train_lung.npy')\n",
        "X_test = np.load('X_test_lung.npy')\n",
        "Y_test = np.load('Y_test_lung.npy')"
      ],
      "metadata": {
        "id": "9Ueu79EMFb1T"
      },
      "execution_count": null,
      "outputs": []
    },
    {
      "cell_type": "code",
      "source": [
        "# Shuffle train data\n",
        "\n",
        "s = np.arange(X_train.shape[0])\n",
        "np.random.shuffle(s)\n",
        "X_train = X_train[s]\n",
        "Y_train = Y_train[s]"
      ],
      "metadata": {
        "id": "4explKmWFgVD"
      },
      "execution_count": null,
      "outputs": []
    },
    {
      "cell_type": "code",
      "source": [
        "# Shuffle test data\n",
        "\n",
        "s = np.arange(X_test.shape[0])\n",
        "np.random.shuffle(s)\n",
        "X_test = X_test[s]\n",
        "Y_test = Y_test[s]"
      ],
      "metadata": {
        "id": "qiKfHLu8Fgwa"
      },
      "execution_count": null,
      "outputs": []
    },
    {
      "cell_type": "markdown",
      "source": [
        "### Train and Evaluation Split"
      ],
      "metadata": {
        "id": "z1UoFvvzFoLr"
      }
    },
    {
      "cell_type": "code",
      "source": [
        "x_train, x_val, y_train, y_val = train_test_split(\n",
        "    X_train, Y_train, \n",
        "    test_size=0.2, \n",
        "    random_state=11\n",
        ")"
      ],
      "metadata": {
        "id": "_a4BxuOqFrqC"
      },
      "execution_count": null,
      "outputs": []
    },
    {
      "cell_type": "markdown",
      "source": [
        "### Display some images"
      ],
      "metadata": {
        "id": "RdNSXZo2Fu0Y"
      }
    },
    {
      "cell_type": "code",
      "source": [
        "# # Display first 15 images of moles, and how they are classified\n",
        "w=60\n",
        "h=40\n",
        "fig=plt.figure(figsize=(15, 15))\n",
        "columns = 4\n",
        "rows = 3\n",
        "\n",
        "for i in range(1, columns*rows +1):\n",
        "    ax = fig.add_subplot(rows, columns, i)\n",
        "    if np.argmax(Y_train[i]) == 0:\n",
        "        ax.title.set_text('normal')\n",
        "    elif np.argmax(Y_train[i]) == 1:\n",
        "      ax.title.set_text('invasive')\n",
        "    else:\n",
        "        ax.title.set_text('in_situ')\n",
        "    plt.imshow(x_train[i], interpolation='nearest')\n",
        "plt.show()"
      ],
      "metadata": {
        "id": "v9L17EVoFynF"
      },
      "execution_count": null,
      "outputs": []
    }
  ]
}